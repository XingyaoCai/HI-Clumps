{
 "cells": [
  {
   "cell_type": "code",
   "execution_count": 1,
   "metadata": {},
   "outputs": [],
   "source": [
    "import illustris_python as il\n",
    "import numpy as np\n",
    "import matplotlib.pyplot as plt\n",
    "import matplotlib as mpl\n",
    "#%matplotlib widget\n",
    "basePath ='./sims.TNG/TNG50-1/output'\n",
    "from tqdm import tqdm\n",
    "import gc\n",
    "\n",
    "fields=['SubhaloPos','SubhaloMass']\n",
    "\n"
   ]
  },
  {
   "cell_type": "code",
   "execution_count": 2,
   "metadata": {},
   "outputs": [],
   "source": [
    "class Cell:\n",
    "    def __init__(self):\n",
    "        self.Coordinate = [0, 0]\n",
    "        self.Mass = 0\n",
    "\n",
    "class Cloud:\n",
    "    def __init__(self, i_range, j_range):\n",
    "        self.cells = []\n",
    "        for i in tqdm(range(i_range[0], i_range[1], 1)):\n",
    "            for j in range(j_range[0], j_range[1], 1):\n",
    "                cell = Cell()\n",
    "                cell.Coordinate = [i+ 0.5, j + 0.5]\n",
    "                self.cells.append(cell)\n",
    "        self.i_range = i_range\n",
    "        self.j_range = j_range\n",
    "        print(len(self.cells))\n",
    "\n",
    "    def assign_mass(self, coordinates: np.ndarray, masses: np.ndarray):\n",
    "        j_min, j_max = self.j_range\n",
    "        i_min, i_max = self.i_range\n",
    "        j_bars = int((j_max - j_min))\n",
    "        for i in range(coordinates.shape[0]):\n",
    "            coord = coordinates[i]\n",
    "            mass = masses[i]\n",
    "            j_index = int((coord[2] - j_min))\n",
    "            i_index = int((coord[1] - i_min))\n",
    "            if j_index >= j_bars or i_index >= j_bars:\n",
    "                continue\n",
    "            index = i_index * j_bars + j_index\n",
    "            self.cells[index].Mass += mass\n",
    "\n",
    "    def visualize(self, savePath):\n",
    "        plt.figure(figsize=(20, 20), dpi=400)\n",
    "        plt.style.use(\"dark_background\")\n",
    "        i_range, j_range = self.i_range, self.j_range\n",
    "        plt.hist2d([cell.Coordinate[0] for cell in self.cells], [cell.Coordinate[1] for cell in self.cells], norm=mpl.colors.LogNorm(), cmin=0.0001, bins=[(i_range[1] - i_range[0]), (j_range[1] - j_range[0])], weights=[cell.Mass for cell in self.cells])\n",
    "        plt.xlabel('y [ckpc/h]')\n",
    "        plt.ylabel('z [ckpc/h]')\n",
    "        plt.xlim(self.i_range[0], self.i_range[1])\n",
    "        plt.ylim(self.j_range[0], self.j_range[1])\n",
    "        plt.axes().get_xaxis().set_visible(False)\n",
    "        plt.axes().get_yaxis().set_visible(False)\n",
    "        plt.axis('equal')\n",
    "        plt.savefig(savePath)\n",
    "        plt.close('all')\n",
    "\n",
    "    def reset(self):\n",
    "        for cell in self.cells:\n",
    "            cell.Coordinate = [0, 0]\n",
    "            cell.Mass = 0\n",
    "\n",
    "            \n",
    "    def rearrange_coordinates(self, new_i_range, new_j_range):\n",
    "        i_min, i_max = self.i_range\n",
    "        j_min, j_max = self.j_range\n",
    "        i_new_min, i_new_max = new_i_range\n",
    "        j_new_min, j_new_max = new_j_range\n",
    "        \n",
    "        i_scale = (i_new_max - i_new_min) / (i_max - i_min)\n",
    "        j_scale = (j_new_max - j_new_min) / (j_max - j_min)\n",
    "        \n",
    "        for cell in self.cells:\n",
    "            i, j = cell.Coordinate\n",
    "            new_i = round((i - i_min) * i_scale + i_new_min)+0.5\n",
    "            new_j = round((j - j_min) * j_scale + j_new_min)+0.5\n",
    "            cell.Coordinate = [new_i, new_i]\n",
    "            cell.Mass=0\n",
    "            \n",
    "        self.i_range = new_i_range\n",
    "        self.j_range = new_j_range\n",
    "            \n",
    "            \n",
    "def Binary_DataIter(Data_Set1,Data_Set2):\n",
    "    for i in range(0,min(len(Data_Set1),len(Data_Set2))):\n",
    "        yield Data_Set1[i],Data_Set2[i]"
   ]
  },
  {
   "cell_type": "code",
   "execution_count": 4,
   "metadata": {},
   "outputs": [
    {
     "data": {
      "text/plain": [
       "0"
      ]
     },
     "execution_count": 4,
     "metadata": {},
     "output_type": "execute_result"
    }
   ],
   "source": [
    "tree_fields=['SubfindID','SnapNum']\n",
    "subfindid_snapnum_tree=il.sublink.loadTree(basePath, 99, 329508, fields=tree_fields, onlyMPB=True)\n",
    "subfind_id=subfindid_snapnum_tree['SubfindID']\n",
    "snapshot_num=subfindid_snapnum_tree['SnapNum']\n",
    "del subfindid_snapnum_tree\n",
    "gc.collect()"
   ]
  },
  {
   "cell_type": "code",
   "execution_count": 4,
   "metadata": {},
   "outputs": [
    {
     "name": "stdout",
     "output_type": "stream",
     "text": [
      "215980 69\n",
      "214057 68\n",
      "211991 67\n",
      "209820 66\n",
      "205211 65\n",
      "184704 64\n",
      "171321 63\n",
      "170176 62\n",
      "163331 61\n",
      "162126 60\n",
      "158822 59\n",
      "156135 58\n",
      "157140 57\n",
      "154894 56\n",
      "152796 55\n",
      "144633 54\n",
      "145765 53\n",
      "140683 52\n",
      "156816 51\n",
      "153494 50\n",
      "151763 49\n",
      "145660 48\n",
      "139042 47\n",
      "130895 46\n",
      "121961 45\n",
      "120173 44\n",
      "118400 43\n",
      "119619 42\n",
      "107743 41\n",
      "98181 40\n"
     ]
    }
   ],
   "source": [
    "for current_subfind_id,current_snapshot_num in Binary_DataIter(subfind_id,snapshot_num):\n",
    "    if current_snapshot_num < 40: break\n",
    "    if current_snapshot_num > 69:continuez\n",
    "        \n",
    "    print(current_subfind_id, current_snapshot_num)"
   ]
  },
  {
   "cell_type": "code",
   "execution_count": 3,
   "metadata": {},
   "outputs": [
    {
     "name": "stderr",
     "output_type": "stream",
     "text": [
      "100%|██████████| 5000/5000 [01:03<00:00, 79.21it/s] \n"
     ]
    },
    {
     "name": "stdout",
     "output_type": "stream",
     "text": [
      "25000000\n"
     ]
    },
    {
     "name": "stderr",
     "output_type": "stream",
     "text": [
      "100%|██████████| 2234/2234 [02:49<00:00, 13.17it/s]\n",
      "/opt/conda/lib/python3.6/site-packages/matplotlib/cbook/deprecation.py:107: MatplotlibDeprecationWarning: Adding an axes using the same arguments as a previous axes currently reuses the earlier instance.  In a future version, a new instance will always be created and returned.  Meanwhile, this warning can be suppressed, and the future behavior ensured, by passing a unique label to each axes instance.\n",
      "  warnings.warn(message, mplDeprecation, stacklevel=1)\n",
      "/opt/conda/lib/python3.6/site-packages/matplotlib/colors.py:1031: RuntimeWarning: invalid value encountered in less_equal\n",
      "  mask |= resdat <= 0\n"
     ]
    },
    {
     "data": {
      "text/plain": [
       "0"
      ]
     },
     "execution_count": 3,
     "metadata": {},
     "output_type": "execute_result"
    }
   ],
   "source": [
    "current_subfind_id,current_snapshot_num=98181, 40\n",
    "subhalo_data=il.groupcat.loadSubhalos(basePath, current_snapshot_num, fields=fields)\n",
    "Positions=subhalo_data['SubhaloPos']\n",
    "Mass=subhalo_data['SubhaloMass']\n",
    "GalaxyPos=Positions[current_subfind_id]\n",
    "    \n",
    "ymin=GalaxyPos[1]-2600\n",
    "ymax=GalaxyPos[1]+2600\n",
    "    \n",
    "zmin=GalaxyPos[2]-2600\n",
    "zmax=GalaxyPos[2]+2600\n",
    "    \n",
    "condition = (Positions[:, 1] >= ymin) & (Positions[:, 1] <= ymax) & (Positions[:, 2] >= zmin) & (Positions[:, 2] <= zmax) & (Mass > 0.1)\n",
    "index = np.where(condition)[0]\n",
    "\n",
    "del subhalo_data,Positions,Mass,condition,GalaxyPos\n",
    "gc.collect()\n",
    "    \n",
    "\n",
    "#cloud.rearrange_coordinates([int(ymin+100),int(ymin+5100)],[int(zmin+100),int(zmin+5100)])\n",
    "\n",
    "cloud=Cloud([int(ymin+100),int(ymin+5100)],[int(zmin+100),int(zmin+5100)])\n",
    "\n",
    "    \n",
    "    \n",
    "    \n",
    "for i in tqdm(index):\n",
    "    cell_data=il.snapshot.loadSubhalo(basePath, current_snapshot_num, i, 'gas', fields=['Coordinates','Masses'])\n",
    "    if len(cell_data)==1:continue\n",
    "\n",
    "    cloud.assign_mass( cell_data['Coordinates'], cell_data['Masses'])\n",
    "    del cell_data\n",
    "\n",
    "        \n",
    "del index  \n",
    "gc.collect()\n",
    "\n",
    "cloud.visualize('./areafigs/{}.png'.format(current_snapshot_num))\n",
    "\n",
    "del cloud\n",
    "\n",
    "gc.collect()"
   ]
  },
  {
   "cell_type": "code",
   "execution_count": null,
   "metadata": {},
   "outputs": [],
   "source": [
    "for current_subfind_id,current_snapshot_num in Binary_DataIter(subfindid_snapnum_tree['SubfindID'],subfindid_snapnum_tree['SnapNum']):\n",
    "    if current_snapshot_num < 40: break\n",
    "    if current_snapshot_num>56:continue\n",
    "\n",
    "    subhalo_data=il.groupcat.loadSubhalos(basePath, current_snapshot_num, fields=fields)\n",
    "    Positions=subhalo_data['SubhaloPos']\n",
    "    Mass=subhalo_data['SubhaloMass']\n",
    "    GalaxyPos=Positions[current_subfind_id]\n",
    "    \n",
    "    ymin=GalaxyPos[1]-2600\n",
    "    ymax=GalaxyPos[1]+2600\n",
    "    \n",
    "    zmin=GalaxyPos[2]-2600\n",
    "    zmax=GalaxyPos[2]+2600\n",
    "    \n",
    "    condition = (Positions[:, 1] >= ymin) & (Positions[:, 1] <= ymax) & (Positions[:, 2] >= zmin) & (Positions[:, 2] <= zmax) & (Mass > 0.1)\n",
    "    index = np.where(condition)[0]\n",
    "\n",
    "    del subhalo_data,Positions,Mass,condition,GalaxyPos\n",
    "    gc.collect()\n",
    "    \n",
    "\n",
    "#cloud.rearrange_coordinates([int(ymin+100),int(ymin+5100)],[int(zmin+100),int(zmin+5100)])\n",
    "\n",
    "    cloud=Cloud([int(ymin+100),int(ymin+5100)],[int(zmin+100),int(zmin+5100)])\n",
    "\n",
    "    \n",
    "    \n",
    "    \n",
    "    for i in tqdm(index):\n",
    "        cell_data=il.snapshot.loadSubhalo(basePath, current_snapshot_num, i, 'gas', fields=['Coordinates','Masses'])\n",
    "        if len(cell_data)==1:continue\n",
    "\n",
    "        cloud.assign_mass( cell_data['Coordinates'], cell_data['Masses'])\n",
    "        del cell_data\n",
    "\n",
    "        \n",
    "    del index  \n",
    "    gc.collect()\n",
    "\n",
    "    cloud.visualize('./areafigs/{}.png'.format(current_snapshot_num))\n",
    "\n",
    "    del cloud\n",
    "\n",
    "    gc.collect()\n"
   ]
  },
  {
   "cell_type": "code",
   "execution_count": 13,
   "metadata": {},
   "outputs": [
    {
     "data": {
      "text/plain": [
       "1267"
      ]
     },
     "execution_count": 13,
     "metadata": {},
     "output_type": "execute_result"
    }
   ],
   "source": []
  },
  {
   "cell_type": "code",
   "execution_count": null,
   "metadata": {},
   "outputs": [],
   "source": []
  }
 ],
 "metadata": {
  "kernelspec": {
   "display_name": "Python 3",
   "language": "python",
   "name": "python3"
  },
  "language_info": {
   "codemirror_mode": {
    "name": "ipython",
    "version": 3
   },
   "file_extension": ".py",
   "mimetype": "text/x-python",
   "name": "python",
   "nbconvert_exporter": "python",
   "pygments_lexer": "ipython3",
   "version": "3.6.7"
  }
 },
 "nbformat": 4,
 "nbformat_minor": 2
}
