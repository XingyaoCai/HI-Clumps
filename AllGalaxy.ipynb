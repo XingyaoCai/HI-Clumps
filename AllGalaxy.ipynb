{
 "cells": [
  {
   "cell_type": "code",
   "execution_count": 1,
   "metadata": {},
   "outputs": [],
   "source": [
    "import illustris_python as il\n",
    "import numpy as np\n",
    "import matplotlib.pyplot as plt\n",
    "import matplotlib as mpl\n",
    "basePath ='./sims.TNG/TNG50-1/output'\n",
    "\n",
    "from FunctionLib import *\n",
    "from tqdm import tqdm\n",
    "current_snap_num=99\n",
    "import gc"
   ]
  },
  {
   "cell_type": "code",
   "execution_count": 2,
   "metadata": {},
   "outputs": [],
   "source": [
    "subhalos_data=il.groupcat.loadSubhalos(basePath,current_snap_num,fields=['SubhaloMass','SubhaloPos'])"
   ]
  },
  {
   "cell_type": "code",
   "execution_count": 3,
   "metadata": {},
   "outputs": [],
   "source": [
    "subhalo_mass=subhalos_data['SubhaloMass']\n",
    "subhalo_pos=subhalos_data['SubhaloPos']\n",
    "subhalo_pos=np.mod(subhalo_pos,35000)"
   ]
  },
  {
   "cell_type": "code",
   "execution_count": 7,
   "metadata": {},
   "outputs": [
    {
     "data": {
      "text/plain": [
       "(1447,)"
      ]
     },
     "execution_count": 7,
     "metadata": {},
     "output_type": "execute_result"
    }
   ],
   "source": [
    "condition=((subhalo_mass>10) & (subhalo_mass<5000))\n",
    "index_list_0=np.where(condition)[0]\n",
    "index_list_0.shape"
   ]
  },
  {
   "cell_type": "code",
   "execution_count": 5,
   "metadata": {},
   "outputs": [
    {
     "data": {
      "text/plain": [
       "(array([61]),)"
      ]
     },
     "execution_count": 5,
     "metadata": {},
     "output_type": "execute_result"
    }
   ],
   "source": [
    "np.where(sorted_index_array==329508)"
   ]
  },
  {
   "cell_type": "code",
   "execution_count": 10,
   "metadata": {},
   "outputs": [
    {
     "name": "stderr",
     "output_type": "stream",
     "text": [
      "100%|██████████| 1447/1447 [01:49<00:00, 13.19it/s]\n"
     ]
    },
    {
     "data": {
      "text/plain": [
       "(633,)"
      ]
     },
     "execution_count": 10,
     "metadata": {},
     "output_type": "execute_result"
    }
   ],
   "source": [
    "stars_mass_list=[]\n",
    "for subhalo_index in tqdm(index_list_0):\n",
    "    stars_mass=il.snapshot.loadSubhalo(basePath,current_snap_num,subhalo_index,'stars',fields=['Masses'])\n",
    "    if (stars_mass.sum() < 1):continue\n",
    "    stars_mass_list.append(subhalo_index)\n",
    "index_array=np.array(stars_mass_list)\n",
    "index_array.shape"
   ]
  },
  {
   "cell_type": "code",
   "execution_count": 11,
   "metadata": {},
   "outputs": [
    {
     "name": "stderr",
     "output_type": "stream",
     "text": [
      "100%|██████████| 633/633 [14:32<00:00,  1.38s/it]\n"
     ]
    }
   ],
   "source": [
    "R_90_list=[]\n",
    "selected_index_list=[]\n",
    "for subhalo_index in tqdm(index_array):\n",
    "    \n",
    "    stars_mass=il.snapshot.loadSubhalo(basePath,current_snap_num,subhalo_index,'stars',fields=['Masses'])\n",
    "    if (stars_mass.sum() < 1):continue\n",
    "    gas_data=il.snapshot.loadSubhalo(basePath,current_snap_num,subhalo_index,'gas',fields=['Coordinates','Masses','NeutralHydrogenAbundance'])\n",
    "    if len(gas_data)==1:continue\n",
    "    \n",
    "    gas_mass=gas_data['Masses']\n",
    "    gas_HI_abundance=gas_data['NeutralHydrogenAbundance']\n",
    "    gas_HI_mass=gas_mass*gas_HI_abundance\n",
    "    gas_coordinates=gas_data['Coordinates']\n",
    "    gas_coordinates=np.mod(gas_coordinates,35000)\n",
    "    radius=1000\n",
    "    \n",
    "    R_90=calculate_R90(0,radius,gas_HI_mass,gas_coordinates,subhalo_pos[subhalo_index])\n",
    "    \n",
    "    R_90_list.append(R_90)\n",
    "    selected_index_list.append(subhalo_index)\n",
    "    del gas_data,gas_mass,gas_HI_abundance,gas_HI_mass,gas_coordinates,R_90,radius\n",
    "    \n",
    "    "
   ]
  },
  {
   "cell_type": "code",
   "execution_count": 12,
   "metadata": {},
   "outputs": [],
   "source": [
    "selected_index_array=np.array(selected_index_list)\n",
    "R_90_array=np.array(R_90_list)"
   ]
  },
  {
   "cell_type": "code",
   "execution_count": 15,
   "metadata": {},
   "outputs": [],
   "source": [
    "tuples_list = list(zip(selected_index_array, R_90_array))\n",
    "sorted_tuples = sorted(tuples_list, key=lambda x: x[1], reverse=True)\n",
    "sorted_index_array = [t[0] for t in sorted_tuples]\n",
    "sorted_R_90_array = [t[1] for t in sorted_tuples]"
   ]
  },
  {
   "cell_type": "code",
   "execution_count": 6,
   "metadata": {},
   "outputs": [],
   "source": [
    "np.save('sorted_index_array.npy',sorted_index_array)\n",
    "np.save('R_90_array.npy',sorted_R_90_array)"
   ]
  },
  {
   "cell_type": "code",
   "execution_count": 5,
   "metadata": {},
   "outputs": [],
   "source": [
    "sorted_index_array=np.load('sorted_index_array.npy')\n",
    "sorted_R_90_array=np.load('R_90_array.npy')"
   ]
  },
  {
   "cell_type": "code",
   "execution_count": null,
   "metadata": {},
   "outputs": [],
   "source": [
    "plt.hist(sorted_R_90_array,bins=200)"
   ]
  },
  {
   "cell_type": "code",
   "execution_count": 4,
   "metadata": {},
   "outputs": [],
   "source": [
    "def drawsubhalo(i,sp,savepath,basePath):\n",
    "    index=np.where(sorted_index_array==i)\n",
    "\n",
    "    gas_data=il.snapshot.loadSubhalo(basePath, sp, i, 'gas', fields=['Coordinates','NeutralHydrogenAbundance','Masses'])\n",
    "    if len(gas_data)==1:return -1\n",
    "    \n",
    "    stars_mass=il.snapshot.loadSubhalo(basePath,current_snap_num,i,'stars',fields=['Masses'])\n",
    "    \n",
    "    cold_gas_mass =Cold_Gas_Mass(sp,i)\n",
    "    \n",
    "    GasCoordinates = gas_data['Coordinates']\n",
    "    GasCoordinates=np.mod(GasCoordinates,35000)\n",
    "    GasAbundance = gas_data['NeutralHydrogenAbundance']\n",
    "    Masses = gas_data['Masses']\n",
    "    NeutralHydrogenAbundance=Masses*GasAbundance\n",
    "    \n",
    "    GasCoorMin = GasCoordinates.min(axis=0)\n",
    "    GasCoorMax = GasCoordinates.max(axis=0)\n",
    "    bars=2*(GasCoorMax-GasCoorMin)\n",
    "    if (bars[0]>8000)or (bars[2]>8000):return -1\n",
    "    plt.figure(figsize=(20, 20), dpi=400)\n",
    "\n",
    "    plt.style.use(\"dark_background\")\n",
    "\n",
    "    h, _, _, image = plt.hist2d(GasCoordinates[:, 0],\n",
    "                            GasCoordinates[:, 2],\n",
    "                            weights=NeutralHydrogenAbundance,\n",
    "                            \n",
    "                            norm=mpl.colors.LogNorm(),\n",
    "                            bins=(bars[0],bars[2]))\n",
    "    plt.xlim([GasCoorMin[0],GasCoorMax[0]])\n",
    "    plt.ylim([GasCoorMin[2],GasCoorMax[2]])\n",
    "    plt.xlabel('x [ckpc/h]')\n",
    "    plt.ylabel('z [ckpc/h]')\n",
    "    plt.text(0.65*(GasCoorMax[0]-GasCoorMin[0])+GasCoorMin[0],0.82*(GasCoorMax[2]-GasCoorMin[2])+GasCoorMin[2],'HI_R_90={:.2f}kpc\\nM_Stars={:.2f}E10Ms\\nM_Galaxy={:.2f}E10Ms\\nM_Gas={:.2f}E10Ms\\nM_CG={:.2f}E10Ms\\nM_HI={:.2f}E10Ms'.format(sorted_R_90_array[np.where(sorted_index_array==i)[0]][0],stars_mass.sum(),subhalo_mass[i],Masses.sum(),cold_gas_mass,NeutralHydrogenAbundance.sum()),color='white',fontsize=22)\n",
    "\n",
    "    draw_circle = plt.Circle((subhalo_pos[i][0], subhalo_pos[i][2]),sorted_R_90_array[index][0] , fill=False)\n",
    "    plt.gcf().gca().add_artist(draw_circle)\n",
    "    plt.colorbar(image)\n",
    "    plt.gca().set_aspect(1)\n",
    "    plt.savefig(savepath+'/{}.png'.format(i))\n",
    "    plt.close('all')\n",
    "    plt.clf()\n",
    "    del index, GasCoorMin,GasCoorMax,gas_data,stars_mass,cold_gas_mass,GasCoordinates,GasAbundance,Masses,NeutralHydrogenAbundance,bars,image,draw_circle\n",
    "    gc.collect()\n",
    "    return 0"
   ]
  },
  {
   "cell_type": "code",
   "execution_count": 10,
   "metadata": {},
   "outputs": [
    {
     "data": {
      "text/plain": [
       "0"
      ]
     },
     "execution_count": 10,
     "metadata": {},
     "output_type": "execute_result"
    },
    {
     "data": {
      "text/plain": [
       "<Figure size 432x288 with 0 Axes>"
      ]
     },
     "metadata": {},
     "output_type": "display_data"
    }
   ],
   "source": [
    "drawsubhalo(329508,99,'GalaxiesHIxz',basePath)"
   ]
  },
  {
   "cell_type": "code",
   "execution_count": 11,
   "metadata": {},
   "outputs": [
    {
     "name": "stderr",
     "output_type": "stream",
     "text": [
      "100%|██████████| 42/42 [15:58<00:00, 22.82s/it]\n"
     ]
    },
    {
     "data": {
      "text/plain": [
       "<Figure size 432x288 with 0 Axes>"
      ]
     },
     "metadata": {},
     "output_type": "display_data"
    }
   ],
   "source": [
    "for i in tqdm(sorted_index_array[58:100]):\n",
    "    drawsubhalo(i,99,'GalaxiesHIxz',basePath)"
   ]
  },
  {
   "cell_type": "code",
   "execution_count": 6,
   "metadata": {},
   "outputs": [],
   "source": [
    "def Cold_Gas_Mass(snap_num,subhalo_id):\n",
    "    gas_fields=['ElectronAbundance','InternalEnergy','Masses']\n",
    "    subhalo_data=il.snapshot.loadSubhalo(basePath,snap_num,subhalo_id,0,fields=gas_fields)\n",
    "    if len(subhalo_data)==1:\n",
    "        return 0\n",
    "    \n",
    "    x_e=subhalo_data['ElectronAbundance'].astype(np.float64)\n",
    "    internal_energy=subhalo_data['InternalEnergy'].astype(np.float64)\n",
    "    gas_cell_masses=subhalo_data['Masses'].astype(np.float64)\n",
    "    \n",
    "    m_p=1.673E-24\n",
    "    X_H=0.76\n",
    "    unit_switching=1E10\n",
    "    mean_molecular_weight=4*m_p/(1+3*X_H+4*X_H*x_e)\n",
    "    k_B=1.38E-16\n",
    "    gas_cell_temperature_in_Kelvin=2/3*internal_energy/k_B*unit_switching*mean_molecular_weight\n",
    "    cold_gas_mass=0\n",
    "    \n",
    "    for temperature,gas_cell_mass in Binary_DataIter(gas_cell_temperature_in_Kelvin,gas_cell_masses):\n",
    "        if temperature<10000:cold_gas_mass+=gas_cell_mass    \n",
    "    del subhalo_data,x_e,internal_energy,gas_cell_masses,mean_molecular_weight,gas_cell_temperature_in_Kelvin\n",
    "    gc.collect()\n",
    "    return cold_gas_mass"
   ]
  },
  {
   "cell_type": "code",
   "execution_count": 10,
   "metadata": {},
   "outputs": [
    {
     "data": {
      "text/plain": [
       "0"
      ]
     },
     "execution_count": 10,
     "metadata": {},
     "output_type": "execute_result"
    }
   ],
   "source": [
    "gc.collect()"
   ]
  },
  {
   "cell_type": "code",
   "execution_count": 8,
   "metadata": {},
   "outputs": [],
   "source": [
    "del subhalos_data"
   ]
  },
  {
   "cell_type": "code",
   "execution_count": null,
   "metadata": {},
   "outputs": [],
   "source": []
  }
 ],
 "metadata": {
  "kernelspec": {
   "display_name": "Python 3",
   "language": "python",
   "name": "python3"
  },
  "language_info": {
   "codemirror_mode": {
    "name": "ipython",
    "version": 3
   },
   "file_extension": ".py",
   "mimetype": "text/x-python",
   "name": "python",
   "nbconvert_exporter": "python",
   "pygments_lexer": "ipython3",
   "version": "3.6.7"
  }
 },
 "nbformat": 4,
 "nbformat_minor": 2
}
