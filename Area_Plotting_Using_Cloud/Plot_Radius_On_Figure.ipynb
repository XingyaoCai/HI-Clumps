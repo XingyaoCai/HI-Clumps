{
 "cells": [
  {
   "cell_type": "code",
   "execution_count": 35,
   "metadata": {},
   "outputs": [
    {
     "name": "stderr",
     "output_type": "stream",
     "text": [
      "C:\\Users\\86139\\AppData\\Local\\Temp\\ipykernel_14384\\1229030281.py:1: DeprecationWarning: the imp module is deprecated in favour of importlib; see the module's documentation for alternative uses\n",
      "  import imp\n"
     ]
    }
   ],
   "source": [
    "import imp\n",
    "import numpy as np\n",
    "import matplotlib.pyplot as plt\n",
    "from PIL import Image, ImageDraw\n",
    "import os\n",
    "\n",
    "convert_parameter = 2.3\n",
    "from tqdm import tqdm\n",
    "\n",
    "Lbsg_Indcies_Array = np.array(\n",
    "    [117251, 300903, 324123, 329508, 382215, 400973, 419618, 457431, 460722, 490814]\n",
    ")"
   ]
  },
  {
   "cell_type": "code",
   "execution_count": null,
   "metadata": {},
   "outputs": [],
   "source": [
    "def Draw_Circle(image_Path, Saved_Path, radius):\n",
    "    image = Image.open(image_Path)\n",
    "    draw = ImageDraw.Draw(image)\n",
    "    width, height = image.size\n",
    "    center_x, center_y = width // 2, height // 2\n",
    "    pixel_radius = radius * convert_parameter\n",
    "    circle_color = (255, 255, 255)\n",
    "    border_width = 2  # 你可以根据需要调整边框宽度\n",
    "    draw.ellipse(\n",
    "        [\n",
    "            (center_x - pixel_radius, center_y - pixel_radius),\n",
    "            (center_x + pixel_radius, center_y + pixel_radius),\n",
    "        ],\n",
    "        outline=circle_color,\n",
    "        width=border_width,\n",
    "    )\n",
    "    image.save(Saved_Path)\n",
    "    image.close()"
   ]
  },
  {
   "cell_type": "code",
   "execution_count": 38,
   "metadata": {},
   "outputs": [],
   "source": [
    "image_path = \"./Figures_/329508/yz/99.png\"\n",
    "Draw_Circle(image_path, \"./figure.png\", 306)"
   ]
  },
  {
   "cell_type": "code",
   "execution_count": null,
   "metadata": {},
   "outputs": [],
   "source": [
    "Lbsg_Virial_Radius = np.load(\"./Lbsg_VirRadius_Matrix.npy\")"
   ]
  },
  {
   "cell_type": "code",
   "execution_count": 44,
   "metadata": {},
   "outputs": [
    {
     "name": "stderr",
     "output_type": "stream",
     "text": [
      "100%|██████████| 10/10 [09:22<00:00, 56.29s/it]\n"
     ]
    }
   ],
   "source": [
    "init_snap = 71\n",
    "BasePath = \"./Figures_\"\n",
    "SavedPath = \"./ModifiedFigures/\"\n",
    "for subFolder in tqdm(os.listdir(BasePath)):\n",
    "    subPath = os.path.join(BasePath, subFolder)\n",
    "    Savedpath = os.path.join(SavedPath, subFolder)\n",
    "    if not (os.path.exists(Savedpath)):\n",
    "        os.mkdir(Savedpath)\n",
    "    Virial_Radius = Lbsg_Virial_Radius[\n",
    "        :, (np.where(Lbsg_Indcies_Array == int(subFolder))[0][0])\n",
    "    ]\n",
    "    subPath = os.path.join(subPath, os.listdir(subPath)[0])\n",
    "    for figure in os.listdir(subPath):\n",
    "        Snaps = int(figure[:2])\n",
    "        if Snaps < 71:\n",
    "            continue\n",
    "        array_id = Snaps - init_snap\n",
    "        Radius = Virial_Radius[array_id]\n",
    "        Draw_Circle(\n",
    "            os.path.join(subPath, figure), os.path.join(Savedpath, figure), Radius\n",
    "        )"
   ]
  },
  {
   "cell_type": "code",
   "execution_count": null,
   "metadata": {},
   "outputs": [],
   "source": []
  }
 ],
 "metadata": {
  "kernelspec": {
   "display_name": "base",
   "language": "python",
   "name": "python3"
  },
  "language_info": {
   "codemirror_mode": {
    "name": "ipython",
    "version": 3
   },
   "file_extension": ".py",
   "mimetype": "text/x-python",
   "name": "python",
   "nbconvert_exporter": "python",
   "pygments_lexer": "ipython3",
   "version": "3.9.13"
  },
  "orig_nbformat": 4
 },
 "nbformat": 4,
 "nbformat_minor": 2
}
