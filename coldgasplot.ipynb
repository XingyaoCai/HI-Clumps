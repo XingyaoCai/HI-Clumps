{
 "cells": [
  {
   "cell_type": "code",
   "execution_count": null,
   "metadata": {},
   "outputs": [],
   "source": [
    "import illustris_python as il\n",
    "import numpy as np\n",
    "import matplotlib.pyplot as plt\n",
    "import matplotlib as mpl\n",
    "basePath ='./sims.TNG/TNG50-1/output'\n",
    "\n",
    "\n",
    "main_subhalo_id=329508\n",
    "main_halo_id=23\n",
    "\n",
    "missing_data_snaps=[64,67,68]\n",
    "snap_number=99"
   ]
  },
  {
   "cell_type": "code",
   "execution_count": null,
   "metadata": {},
   "outputs": [],
   "source": [
    "def Binary_DataIter(Data_Set1,Data_Set2):\n",
    "    for i in range(0,min(len(Data_Set1),len(Data_Set2))):\n",
    "        yield Data_Set1[i],Data_Set2[i]\n",
    "        "
   ]
  },
  {
   "cell_type": "code",
   "execution_count": null,
   "metadata": {},
   "outputs": [],
   "source": [
    "tree_fields=['SubfindID','SnapNum']\n",
    "subfindid_snapnum_tree=il.sublink.loadTree(basePath, 99, 329508, fields=tree_fields, onlyMPB=True)\n",
    "subfind_id=subfindid_snapnum_tree['SubfindID']\n",
    "snapshot_num=subfindid_snapnum_tree['SnapNum']"
   ]
  },
  {
   "cell_type": "code",
   "execution_count": null,
   "metadata": {},
   "outputs": [],
   "source": [
    "for current_subfind_id,current_snapshot_num in Binary_DataIter(subfind_id,snapshot_num):\n",
    "    if current_snapshot_num in missing_data_snaps: continue\n",
    "    if current_snapshot_num < 30: break\n",
    "    \n",
    "    gas_fields=['ElectronAbundance','InternalEnergy','Masses','Coordinates']\n",
    "    cell_data=il.snapshot.loadSubhalo(basePath,current_snapshot_num,current_subfind_id,0,fields=gas_fields)\n",
    "    \n",
    "    gas_e_abundance=cell_data['ElectronAbundance'].astype(np.float64)\n",
    "    gas_In_Energy=cell_data['InternalEnergy'].astype(np.float64)\n",
    "    gas_mass=cell_data['Masses'].astype(np.float64)\n",
    "    gas_coor=cell_data['Coordinates'].astype(np.float64)\n",
    "    \n",
    "    m_p=1.673E-24\n",
    "    X_H=0.76\n",
    "    unit_switching=1E10\n",
    "    mean_molecular_weight=4*m_p/(1+3*X_H+4*X_H*gas_e_abundance)\n",
    "    k_B=1.38E-16\n",
    "    gas_cell_temperature_in_Kelvin=2/3*gas_In_Energy/k_B*unit_switching*mean_molecular_weight\n",
    "    \n",
    "    condition = (gas_cell_temperature_in_Kelvin < 10000)\n",
    "    index = np.where(condition)[0]\n",
    "    \n",
    "    gas_coor_subset = gas_coor[index] \n",
    "    gas_mass_subset=gas_mass[index]\n",
    "    \n",
    "    plt.figure(figsize=(12, 12), dpi=200)\n",
    "\n",
    "    GasCoorMin = gas_coor_subset.min(axis=0)\n",
    "    GasCoorMax = gas_coor_subset.max(axis=0)\n",
    "    plt.style.use(\"dark_background\")\n",
    "    bars=(GasCoorMax-GasCoorMin)\n",
    "    h, _, _, image = plt.hist2d(gas_coor_subset[:, 1],\n",
    "                            gas_coor_subset[:, 2],\n",
    "                            weights=gas_mass_subset,#NeutralHydrogenAbundance,\n",
    "                            \n",
    "                            norm=mpl.colors.LogNorm(),\n",
    "                            bins=(10*bars[1],10*bars[2]))\n",
    "    plt.xlim([GasCoorMin[1],GasCoorMax[1]])\n",
    "    plt.ylim([GasCoorMin[2],GasCoorMax[2]])\n",
    "    plt.xlabel('y [ckpc/h]')\n",
    "    plt.ylabel('z [ckpc/h]')\n",
    "    #draw_circle = plt.Circle(( CircleCenter[1],  CircleCenter[2]), 150, fill=False)\n",
    "    #plt.gcf().gca().add_artist(draw_circle)\n",
    "    plt.colorbar(image)\n",
    "    plt.gca().set_aspect(1)\n",
    "    plt.savefig('./cold_gas/pic-{}.png'.format(current_snapshot_num))\n",
    "    print(current_snapshot_num)\n",
    "    plt.clf()"
   ]
  },
  {
   "cell_type": "code",
   "execution_count": 5,
   "metadata": {},
   "outputs": [
    {
     "name": "stdout",
     "output_type": "stream",
     "text": [
      "1.15230355299\n",
      "1.13293593852\n",
      "1.08022710377\n",
      "1.07084146728\n",
      "1.02321862765\n",
      "0.446562959366\n",
      "0.354061442851\n",
      "0.430421450828\n",
      "0.382631650524\n",
      "0.362130743611\n",
      "0.265652048755\n",
      "0.0982707641566\n",
      "0.0564116776462\n",
      "0.0444386339054\n",
      "0.0573189022485\n",
      "0.000993920568817\n",
      "0.116481855922\n",
      "0.044448455697\n",
      "0.00207737553524\n",
      "0.00593253138709\n",
      "0.120078675576\n"
     ]
    }
   ],
   "source": [
    "cold_gas_mass_list=[]\n",
    "snapshot_list=[]\n",
    "for current_subfind_id,current_snapshot_num in Binary_DataIter(subfind_id,snapshot_num):\n",
    "    if current_snapshot_num in missing_data_snaps: continue\n",
    "    if current_snapshot_num < 30: break\n",
    "    \n",
    "    gas_fields=['ElectronAbundance','InternalEnergy','Masses','Coordinates']\n",
    "    cell_data=il.snapshot.loadSubhalo(basePath,current_snapshot_num,current_subfind_id,0,fields=gas_fields)\n",
    "    \n",
    "    gas_e_abundance=cell_data['ElectronAbundance'].astype(np.float64)\n",
    "    gas_In_Energy=cell_data['InternalEnergy'].astype(np.float64)\n",
    "    gas_mass=cell_data['Masses'].astype(np.float64)\n",
    "    gas_coor=cell_data['Coordinates'].astype(np.float64)\n",
    "    \n",
    "    m_p=1.673E-24\n",
    "    X_H=0.76\n",
    "    unit_switching=1E10\n",
    "    mean_molecular_weight=4*m_p/(1+3*X_H+4*X_H*gas_e_abundance)\n",
    "    k_B=1.38E-16\n",
    "    gas_cell_temperature_in_Kelvin=2/3*gas_In_Energy/k_B*unit_switching*mean_molecular_weight\n",
    "    \n",
    "    condition = (gas_cell_temperature_in_Kelvin < 10000)\n",
    "    index = np.where(condition)[0]\n",
    "\n",
    "    gas_mass_subset=gas_mass[index]\n",
    "    \n",
    "    cold_gas_mass=gas_mass_subset.sum()\n",
    "    \n",
    "    cold_gas_mass_list.append(cold_gas_mass)\n",
    "    snapshot_list.append(current_snapshot_num)\n",
    "    print(cold_gas_mass)"
   ]
  },
  {
   "cell_type": "code",
   "execution_count": 6,
   "metadata": {},
   "outputs": [
    {
     "data": {
      "text/plain": [
       "([<matplotlib.axis.XTick at 0x7fa346166668>,\n",
       "  <matplotlib.axis.XTick at 0x7fa3457a5f60>,\n",
       "  <matplotlib.axis.XTick at 0x7fa3457a5cc0>,\n",
       "  <matplotlib.axis.XTick at 0x7fa3461137f0>,\n",
       "  <matplotlib.axis.XTick at 0x7fa346113cc0>,\n",
       "  <matplotlib.axis.XTick at 0x7fa3461261d0>,\n",
       "  <matplotlib.axis.XTick at 0x7fa3461266a0>,\n",
       "  <matplotlib.axis.XTick at 0x7fa346126b70>,\n",
       "  <matplotlib.axis.XTick at 0x7fa34612e0f0>,\n",
       "  <matplotlib.axis.XTick at 0x7fa34612e550>,\n",
       "  <matplotlib.axis.XTick at 0x7fa34612ea20>,\n",
       "  <matplotlib.axis.XTick at 0x7fa34612eef0>],\n",
       " <a list of 12 Text xticklabel objects>)"
      ]
     },
     "execution_count": 6,
     "metadata": {},
     "output_type": "execute_result"
    },
    {
     "data": {
      "image/png": "[encoded data removed]",
      "text/plain": [
       "<Figure size 432x288 with 1 Axes>"
      ]
     },
     "metadata": {
      "needs_background": "light"
     },
     "output_type": "display_data"
    }
   ],
   "source": [
    "Z_list=[2.32,2.00, 1.90,1.74,1.67,1.60,1.53,1.50,1.41,1.36,1.30,1.25,1.21,1.15,1.11,1.07,1.04,1.00,0.95,0.92,0.89,0.85,0.82,0.79,0.76,0.73,0.7,0.68,0.64,0.62,0.6,0.58,0.55,0.52,0.5,0.48,0.46,0.44,0.42,0.4,0.38,0.36,0.35,0.33,0.31,0.3,0.27,0.26,0.24,0.23,0.21,0.2,0.18,0.17,0.15,0.14,0.13,0.11,0.10,0.08,0.07,0.06,0.05,0.03,0.02,0.01,0.00]\n",
    "\n",
    "\n",
    "mass_array=np.array(cold_gas_mass_list)\n",
    "snapshot_array=np.array(snapshot_list)\n",
    "z_array=np.flipud(np.array(Z_list))\n",
    "plt.plot(snapshot_array,mass_array)\n",
    "plt.xticks(snapshot_array[::6],z_array[::6])"
   ]
  },
  {
   "cell_type": "code",
   "execution_count": null,
   "metadata": {},
   "outputs": [],
   "source": []
  }
 ],
 "metadata": {
  "kernelspec": {
   "display_name": "Python 3",
   "language": "python",
   "name": "python3"
  },
  "language_info": {
   "codemirror_mode": {
    "name": "ipython",
    "version": 3
   },
   "file_extension": ".py",
   "mimetype": "text/x-python",
   "name": "python",
   "nbconvert_exporter": "python",
   "pygments_lexer": "ipython3",
   "version": "3.6.7"
  }
 },
 "nbformat": 4,
 "nbformat_minor": 2
}
