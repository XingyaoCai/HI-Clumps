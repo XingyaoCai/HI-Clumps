{
 "cells": [
  {
   "cell_type": "code",
   "execution_count": null,
   "metadata": {},
   "outputs": [],
   "source": [
    "import FunctionLib\n",
    "import os\n",
    "import gc\n",
    "from tqdm import tqdm\n",
    "import illustris_python as il\n",
    "import numpy as np\n",
    "import matplotlib.pyplot as plt\n",
    "import matplotlib as mpl\n",
    "\n",
    "# %matplotlib widget\n",
    "basePath = \"./sims.TNG/TNG50-1/output\"\n",
    "\n",
    "Snapshot_Init = 71\n",
    "Snapshot_End = 99\n",
    "Lbsg_Indices_Array = np.array(\n",
    "    [117251, 300903, 324123, 329508, 382215,\n",
    "        400973, 419618, 457431, 460722, 490814]\n",
    ")\n",
    "\n",
    "h = 0.6774  # km/Mpc\n",
    "\n",
    "m_dm = 4.5e-5  # E10M_Sum\n",
    "m_dm_h = m_dm * h\n",
    "\n",
    "Critial_Density = 1.27e-8  # E10M_Sum/kpc^3\n",
    "Critial_Density_h = Critial_Density / h**2  # E10M_Sum/(kpc/h)^3\n"
   ]
  },
  {
   "cell_type": "markdown",
   "metadata": {},
   "source": [
    "---\n",
    "### Vmax"
   ]
  },
  {
   "cell_type": "code",
   "execution_count": null,
   "metadata": {},
   "outputs": [],
   "source": [
    "Subhalo_Fields = ['SubhaloMassType', 'SubhaloVmax']\n",
    "PartType4_Fields = ['Masses', 'GFM_Metallicity', 'GFM_StellarFormationTime']\n"
   ]
  },
  {
   "cell_type": "code",
   "execution_count": null,
   "metadata": {},
   "outputs": [],
   "source": [
    "# Load the Vmax data for Lbsg Samples\n",
    "Lbsg_Vmax_List = list()\n",
    "for Subhalo_Index in Lbsg_Indices_Array:\n",
    "\n",
    "    Current_Snapshot = 99\n",
    "\n",
    "    Subhalo_Dict = il.groupcat.loadSingle(\n",
    "        basePath, Current_Snapshot, -1, Subhalo_Index)\n",
    "\n",
    "    Lbsg_Vmax_List.append(Subhalo_Dict['SubhaloVmax'])\n"
   ]
  },
  {
   "cell_type": "code",
   "execution_count": null,
   "metadata": {},
   "outputs": [],
   "source": [
    "# Load the galaxies with stellar mass greater than 1E9 MassOfSun\n",
    "Subhalos_Dict = il.groupcat.loadSubhalos(basePath, 99, fields=Subhalo_Fields)\n",
    "condition = (Subhalos_Dict['SubhaloMassType'][:, 4] > 0.1) & (\n",
    "    Subhalos_Dict['SubhaloMassType'][:, 4] < 100)\n",
    "Galaxies_Indices = np.where(condition)[0]\n",
    "Galaxies_Indices.shape\n"
   ]
  },
  {
   "cell_type": "code",
   "execution_count": null,
   "metadata": {},
   "outputs": [],
   "source": [
    "bins = np.linspace(0, 600, 24)\n",
    "plt.hist(Subhalos_Dict['SubhaloVmax'][Galaxies_Indices],\n",
    "         bins, alpha=0.7, color='blue', edgecolor='black')\n",
    "plt.xlabel('Subhalo Vmax')\n",
    "plt.ylabel('Subhalo Num')\n",
    "plt.title('Vmax Distribution with Sample Highlighted')\n",
    "highlight_values = np.array(Lbsg_Vmax_List)\n",
    "for value in highlight_values:\n",
    "    plt.axvline(x=value, color='red', linestyle='dashed',\n",
    "                linewidth=1.5, label=f'Value: {value}')\n"
   ]
  },
  {
   "cell_type": "markdown",
   "metadata": {},
   "source": [
    "This figure shows that the galxies with a huge HI clump tend to have higher circular velocity than others."
   ]
  },
  {
   "cell_type": "markdown",
   "metadata": {},
   "source": [
    "---\n",
    "### Stars Ages"
   ]
  },
  {
   "cell_type": "code",
   "execution_count": null,
   "metadata": {},
   "outputs": [],
   "source": [
    "Mass_Averaged_SFT = list()\n",
    "for Subhalo_Id in tqdm(Galaxies_Indices):\n",
    "    Subhalo_Dict = il.snapshot.loadSubhalo(\n",
    "        basePath, Current_Snapshot, Subhalo_Id, partType=4, fields=PartType4_Fields)\n",
    "    if (len(Subhalo_Dict)) == 1:\n",
    "        continue\n",
    "    Stars_Indices = np.where(Subhalo_Dict['GFM_StellarFormationTime'] > 0)[0]\n",
    "    Mass_Averaged_SFT.append((Subhalo_Dict['Masses'][Stars_Indices]*Subhalo_Dict['GFM_StellarFormationTime']\n",
    "                             [Stars_Indices]).sum()/Subhalo_Dict['Masses'][Stars_Indices].sum())\n"
   ]
  },
  {
   "cell_type": "code",
   "execution_count": null,
   "metadata": {},
   "outputs": [],
   "source": [
    "bins = np.linspace(0, 1, 100)\n",
    "plt.hist(Mass_Averaged_SFT, bins, alpha=0.7, color='blue', edgecolor='black')\n",
    "plt.xlabel('Star Formation Time')\n",
    "plt.ylabel('Subhalo Num')\n",
    "plt.title('Star Formation Time Distribution with Sample Highlighted')\n",
    "for id in Lbsg_Indices_Array:\n",
    "    plt.axvline(x=Mass_Averaged_SFT[np.where(Galaxies_Indices == id)[0][0]], color='red', linestyle='dashed',\n",
    "                linewidth=1.5, label=f'Value: {Mass_Averaged_SFT[np.where(Galaxies_Indices==id)[0][0]]}')\n"
   ]
  },
  {
   "cell_type": "markdown",
   "metadata": {},
   "source": [
    "---\n",
    "### Gas Cooling"
   ]
  },
  {
   "cell_type": "code",
   "execution_count": null,
   "metadata": {},
   "outputs": [],
   "source": [
    "def Cold_Gas_Mass(snap_num, subhalo_id):\n",
    "    parttype0_fields = ['ElectronAbundance', 'InternalEnergy', 'Masses']\n",
    "    subhalo_dict = il.snapshot.loadSubhalo(\n",
    "        basePath, snap_num, subhalo_id, 0, fields=parttype0_fields)\n",
    "    if len(subhalo_dict) == 1:\n",
    "        return 0\n",
    "\n",
    "    x_e = subhalo_dict['ElectronAbundance'].astype(np.float64)\n",
    "    internal_energy = subhalo_dict['InternalEnergy'].astype(np.float64)\n",
    "    gas_cell_masses = subhalo_dict['Masses'].astype(np.float64)\n",
    "\n",
    "    m_p = 1.673E-24\n",
    "    X_H = 0.76\n",
    "    unit_switching = 1E10\n",
    "    mean_molecular_weight = 4*m_p/(1+3*X_H+4*X_H*x_e)\n",
    "    k_B = 1.38E-16\n",
    "    gas_cell_temperature_in_Kelvin = 2/3*internal_energy / \\\n",
    "        k_B*unit_switching*mean_molecular_weight\n",
    "    cold_gas_mass = 0\n",
    "\n",
    "    for temperature, gas_cell_mass in FunctionLib.Binary_DataIter(gas_cell_temperature_in_Kelvin, gas_cell_masses):\n",
    "        if temperature < 15000:\n",
    "            cold_gas_mass += gas_cell_mass\n",
    "    return cold_gas_mass\n",
    "\n",
    "Sublink_Tree_Fields=['SubfindID','SnapNum']\n"
   ]
  },
  {
   "cell_type": "code",
   "execution_count": null,
   "metadata": {},
   "outputs": [],
   "source": []
  },
  {
   "cell_type": "code",
   "execution_count": 104,
   "metadata": {},
   "outputs": [
    {
     "name": "stdout",
     "output_type": "stream",
     "text": [
      "117251\n",
      "300903\n",
      "324123\n",
      "329508\n",
      "382215\n",
      "400973\n",
      "419618\n",
      "457431\n",
      "460722\n",
      "490814\n"
     ]
    }
   ],
   "source": [
    "Cold_Gas_Mass_Matrix=np.zeros(shape=(Lbsg_Indices_Array.shape[0],Snapshot_End-Snapshot_Init+1))\n",
    "Gas_Mass_Matrix=np.zeros(shape=(Lbsg_Indices_Array.shape[0],Snapshot_End-Snapshot_Init+1))\n",
    "for lbsg_index in Lbsg_Indices_Array:\n",
    "    print(lbsg_index)\n",
    "    merger_tree=il.sublink.loadTree(basePath,Snapshot_End,lbsg_index,Sublink_Tree_Fields,onlyMPB=True)\n",
    "    for current_snapshot,subfind_index in FunctionLib.Binary_DataIter(merger_tree['SnapNum'],merger_tree['SubfindID']):\n",
    "        if current_snapshot < Snapshot_Init: break\n",
    "        cgm=Cold_Gas_Mass(current_snapshot,subfind_index)\n",
    "        gm=il.groupcat.loadSingle(basePath,current_snapshot,-1,subfind_index)['SubhaloMassType'][0]\n",
    "\n",
    "        Cold_Gas_Mass_Matrix[np.where(Lbsg_Indices_Array==lbsg_index)[0],current_snapshot-Snapshot_Init]=cgm\n",
    "        Gas_Mass_Matrix[np.where(Lbsg_Indices_Array==lbsg_index)[0],current_snapshot-Snapshot_Init]=gm\n",
    "np.save('./Cold_Gas_Mass_Matrix.npy',Cold_Gas_Mass_Matrix)\n",
    "np.save('./Gas_Mass_Matrix.npy',Gas_Mass_Matrix)\n"
   ]
  },
  {
   "cell_type": "code",
   "execution_count": null,
   "metadata": {},
   "outputs": [],
   "source": [
    "\n"
   ]
  }
 ],
 "metadata": {
  "kernelspec": {
   "display_name": "Python 3 (ipykernel)",
   "language": "python",
   "name": "python3"
  },
  "language_info": {
   "codemirror_mode": {
    "name": "ipython",
    "version": 3
   },
   "file_extension": ".py",
   "mimetype": "text/x-python",
   "name": "python",
   "nbconvert_exporter": "python",
   "pygments_lexer": "ipython3",
   "version": "3.11.4"
  }
 },
 "nbformat": 4,
 "nbformat_minor": 2
}
