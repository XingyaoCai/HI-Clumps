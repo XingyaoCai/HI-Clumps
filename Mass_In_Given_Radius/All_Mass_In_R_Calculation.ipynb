{
 "cells": [
  {
   "cell_type": "markdown",
   "metadata": {},
   "source": [
    "This is a demo file trying to calculate the total mass in a given radius."
   ]
  },
  {
   "cell_type": "code",
   "execution_count": 6,
   "metadata": {},
   "outputs": [],
   "source": [
    "import illustris_python as il\n",
    "import numpy as np\n",
    "import matplotlib.pyplot as plt\n",
    "import matplotlib as mpl\n",
    "basePath ='../sims.TNG/TNG50-1/output'\n",
    "\n",
    "main_subhalo_id=329508\n",
    "main_halo_id=23\n",
    "\n",
    "halos_fields=['Group_R_Crit200','Group_M_Crit200']\n",
    "subhalos_fields=['SubhaloCM','SubhaloGrNr']\n",
    "gas_cell_fields=['Coordinates','Masses']\n",
    "stars_cell_fields=['Coordinates','Masses']\n",
    "\n",
    "missing_data_snaps=[31,32,35]\n",
    "full_snaps=[33,40,50,59,67,72,78,84,91,99]\n",
    "Z_list=[2.32,2.00, 1.90,1.74,1.67,1.60,1.53,1.50,1.41,1.36,1.30,1.25,1.21,1.15,1.11,1.07,1.04,1.00,0.95,0.92,0.89,0.85,0.82,0.79,0.76,0.73,0.7,0.68,0.64,0.62,0.6,0.58,0.55,0.52,0.5,0.48,0.46,0.44,0.42,0.4,0.38,0.36,0.35,0.33,0.31,0.3,0.27,0.26,0.24,0.23,0.21,0.2,0.18,0.17,0.15,0.14,0.13,0.11,0.10,0.08,0.07,0.06,0.05,0.03,0.02,0.01,0.00]\n"
   ]
  },
  {
   "cell_type": "code",
   "execution_count": 2,
   "metadata": {},
   "outputs": [],
   "source": [
    "def Binary_DataIter(Data_Set1,Data_Set2):\n",
    "    for i in range(0,min(len(Data_Set1),len(Data_Set2))):\n",
    "        yield Data_Set1[i],Data_Set2[i]\n",
    "\n",
    "def mass_within_radius(Radius, Masses, Coordinates, CenterOfMass):\n",
    "    # 计算每个恒星到质心的距离\n",
    "    dist_to_com = np.sqrt(np.sum((Coordinates - CenterOfMass)**2, axis=1))\n",
    "\n",
    "    # 找到距离质心小于R_200的所有恒星的下标\n",
    "    within_radius_idx = np.where(dist_to_com <= Radius)[0]\n",
    "\n",
    "    # 计算在R_200范围内的恒星总质量\n",
    "    total_mass_within_radius = np.sum(Masses[within_radius_idx])\n",
    "\n",
    "    return total_mass_within_radius\n"
   ]
  },
  {
   "cell_type": "code",
   "execution_count": 10,
   "metadata": {},
   "outputs": [],
   "source": [
    "tree_fields=['SubfindID','SnapNum']\n",
    "subfindid_snapnum_tree=il.sublink.loadTree(basePath, 99, 329508, fields=tree_fields, onlyMPB=True)\n"
   ]
  },
  {
   "cell_type": "code",
   "execution_count": 8,
   "metadata": {},
   "outputs": [],
   "source": [
    "subfind_id=subfindid_snapnum_tree['SubfindID']\n",
    "snapshot_num=subfindid_snapnum_tree['SnapNum']\n"
   ]
  },
  {
   "cell_type": "code",
   "execution_count": null,
   "metadata": {},
   "outputs": [],
   "source": [
    "gas_mass_list=[]\n",
    "stars_mass_list=[]\n",
    "dm_mass_list=[]\n",
    "snapshot_list=[]\n",
    "for current_subfind_id,current_snapshot_num in Binary_DataIter(subfind_id,snapshot_num):\n",
    "    if current_snapshot_num in missing_data_snaps: continue\n",
    "    if current_snapshot_num < 30: break\n",
    "\n",
    "    subhalo_data=il.groupcat.loadSubhalos(basePath,current_snapshot_num, fields=subhalos_fields)\n",
    "    gas_cell_data=il.snapshot.loadSubhalo(basePath,current_snapshot_num,current_subfind_id,'gas',fields=gas_cell_fields)\n",
    "    stars_cell_data=il.snapshot.loadSubhalo(basePath,current_snapshot_num,current_subfind_id,'stars',fields=stars_cell_fields)\n",
    "    halos_data=il.groupcat.loadHalos(basePath, current_snapshot_num, fields=halos_fields)\n",
    "\n",
    "    gas_cell_coordinates=gas_cell_data['Coordinates']\n",
    "    gas_cell_masses=gas_cell_data['Masses']\n",
    "    stars_cell_coordinates=stars_cell_data['Coordinates']\n",
    "    stars_cell_masses=stars_cell_data['Masses']\n",
    "\n",
    "    center_mass=subhalo_data['SubhaloCM'][current_subfind_id]\n",
    "    halo_id=subhalo_data['SubhaloGrNr'][current_subfind_id]\n",
    "\n",
    "    radius=halos_data['Group_R_Crit200'][halo_id]\n",
    "    dm_mass=halos_data['Group_M_Crit200'][halo_id]\n",
    "\n",
    "    Gas_Mass_In_Radius=mass_within_radius(radius, gas_cell_masses, gas_cell_coordinates, center_mass)\n",
    "    Stars_Mass_In_Radius=mass_within_radius(radius,stars_cell_masses,stars_cell_coordinates,center_mass)\n",
    "\n",
    "    gas_mass_list.append(Gas_Mass_In_Radius)\n",
    "    stars_mass_list.append(Stars_Mass_In_Radius)\n",
    "    dm_mass_list.append(dm_mass)\n",
    "    snapshot_list.append(current_snapshot_num)\n",
    "    print(Gas_Mass_In_Radius,Stars_Mass_In_Radius,dm_mass,current_snapshot_num)\n"
   ]
  },
  {
   "cell_type": "code",
   "execution_count": 10,
   "metadata": {},
   "outputs": [
    {
     "data": {
      "text/plain": [
       "([<matplotlib.axis.XTick at 0x7fcce76280b8>,\n",
       "  <matplotlib.axis.XTick at 0x7fcce76a38d0>,\n",
       "  <matplotlib.axis.XTick at 0x7fcce76a3630>,\n",
       "  <matplotlib.axis.XTick at 0x7fcce7647588>,\n",
       "  <matplotlib.axis.XTick at 0x7fcce7647a58>,\n",
       "  <matplotlib.axis.XTick at 0x7fcce7647f28>,\n",
       "  <matplotlib.axis.XTick at 0x7fcce7650438>,\n",
       "  <matplotlib.axis.XTick at 0x7fcce7650940>,\n",
       "  <matplotlib.axis.XTick at 0x7fcce7650e48>,\n",
       "  <matplotlib.axis.XTick at 0x7fcce76504e0>,\n",
       "  <matplotlib.axis.XTick at 0x7fcce7647a20>,\n",
       "  <matplotlib.axis.XTick at 0x7fcce76585c0>],\n",
       " <a list of 12 Text xticklabel objects>)"
      ]
     },
     "execution_count": 10,
     "metadata": {},
     "output_type": "execute_result"
    },
    {
     "data": {
      "image/png": "[encoded data removed]",
      "text/plain": [
       "<Figure size 432x288 with 1 Axes>"
      ]
     },
     "metadata": {
      "needs_background": "light"
     },
     "output_type": "display_data"
    }
   ],
   "source": [
    "stars_mass_array=np.array([735.64703,\n",
    " 731.62134,\n",
    " 727.41583,\n",
    " 717.67938,\n",
    " 716.35236,\n",
    " 714.71967,\n",
    " 718.60492,\n",
    " 723.23071,\n",
    " 730.01367,\n",
    " 731.24976,\n",
    " 733.32135,\n",
    " 735.61047,\n",
    " 738.82263,\n",
    " 747.37048,\n",
    " 752.91693,\n",
    " 758.92682,\n",
    " 761.52795,\n",
    " 760.54486,\n",
    " 758.55438,\n",
    " 761.3349,\n",
    " 763.04816,\n",
    " 774.05096,\n",
    " 775.93048,\n",
    " 776.19757,\n",
    " 786.35089,\n",
    " 792.46771,\n",
    " 790.39905,\n",
    " 787.73859,\n",
    " 795.75024,\n",
    " 794.89325,\n",
    " 788.59229,\n",
    " 776.96228,\n",
    " 764.18634,\n",
    " 748.31488,\n",
    " 740.01331,\n",
    " 716.36047,\n",
    " 691.51398,\n",
    " 599.31006,\n",
    " 539.56421,\n",
    " 498.20425,\n",
    " 484.52936,\n",
    " 469.13693,\n",
    " 462.19797,\n",
    " 455.19864,\n",
    " 453.38672,\n",
    " 454.76349,\n",
    " 447.67746,\n",
    " 441.61365,\n",
    " 433.17783,\n",
    " 424.90036,\n",
    " 427.0553,\n",
    " 431.29794,\n",
    " 439.98233,\n",
    " 447.18951,\n",
    " 437.29688,\n",
    " 426.47314,\n",
    " 407.25974,\n",
    " 390.9303,\n",
    " 375.91806,\n",
    " 320.33691,\n",
    " 294.10971,\n",
    " 254.97981,\n",
    " 249.71606,\n",
    " 236.79034,\n",
    " 224.55959,\n",
    " 223.13159,\n",
    " 166.18633])\n",
    "snapshot_array=np.array(snapshot_list)\n",
    "z_array=np.flipud(np.array(Z_list))\n",
    "plt.plot(snapshot_array,stars_mass_array)\n",
    "plt.xticks(snapshot_array[::6],z_array[::6])\n"
   ]
  },
  {
   "cell_type": "code",
   "execution_count": 8,
   "metadata": {},
   "outputs": [],
   "source": [
    "snapshot_list=[]\n",
    "for current_subfind_id,current_snapshot_num in Binary_DataIter(subfind_id,snapshot_num):\n",
    "    if current_snapshot_num in missing_data_snaps: continue\n",
    "    if current_snapshot_num < 30: break\n",
    "    snapshot_list.append(current_snapshot_num)\n"
   ]
  },
  {
   "cell_type": "code",
   "execution_count": 9,
   "metadata": {},
   "outputs": [
    {
     "name": "stdout",
     "output_type": "stream",
     "text": [
      "6.97821 99\n",
      "4.93491 91\n",
      "4.17018 84\n",
      "3.16827 78\n",
      "1.00876 72\n",
      "1.30625 67\n",
      "1.29969 59\n",
      "2.66038 50\n",
      "0.565712 40\n",
      "0.564849 33\n"
     ]
    },
    {
     "data": {
      "image/png": "[encoded data removed]",
      "text/plain": [
       "<Figure size 432x288 with 1 Axes>"
      ]
     },
     "metadata": {
      "needs_background": "light"
     },
     "output_type": "display_data"
    }
   ],
   "source": [
    "import illustris_python as il\n",
    "import numpy as np\n",
    "import matplotlib.pyplot as plt\n",
    "import matplotlib as mpl\n",
    "basePath ='./sims.TNG/TNG50-1/output'\n",
    "\n",
    "main_subhalo_id=329508\n",
    "main_halo_id=23\n",
    "\n",
    "halos_fields=['Group_R_Crit200','Group_M_Crit200']\n",
    "subhalos_fields=['SubhaloCM','SubhaloGrNr']\n",
    "gas_cell_fields=['Coordinates','Masses','NeutralHydrogenAbundance']\n",
    "\n",
    "missing_data_snaps=[31,32,35]\n",
    "full_snaps=[33,40,50,59,67,72,78,84,91,99]\n",
    "\n",
    "HI_mass_list=[]\n",
    "snapshot_list=[]\n",
    "for current_subfind_id,current_snapshot_num in Binary_DataIter(subfind_id,snapshot_num):\n",
    "    if current_snapshot_num not in full_snaps: continue\n",
    "    if current_snapshot_num < 30: break\n",
    "\n",
    "    subhalo_data=il.groupcat.loadSubhalos(basePath,current_snapshot_num, fields=subhalos_fields)\n",
    "    gas_cell_data=il.snapshot.loadSubhalo(basePath,current_snapshot_num,current_subfind_id,'gas',fields=gas_cell_fields)\n",
    "    halos_data=il.groupcat.loadHalos(basePath, current_snapshot_num, fields=halos_fields)\n",
    "\n",
    "    gas_cell_coordinates=gas_cell_data['Coordinates']\n",
    "    gas_cell_masses=gas_cell_data['Masses']\n",
    "    gas_cell_HIAbundance=gas_cell_data['NeutralHydrogenAbundance']\n",
    "    gas_cell_HI_masses=gas_cell_masses*gas_cell_HIAbundance\n",
    "\n",
    "    center_mass=subhalo_data['SubhaloCM'][current_subfind_id]\n",
    "    halo_id=subhalo_data['SubhaloGrNr'][current_subfind_id]\n",
    "\n",
    "    radius=halos_data['Group_R_Crit200'][halo_id]\n",
    "    dm_mass=halos_data['Group_M_Crit200'][halo_id]\n",
    "\n",
    "    HI_Mass_In_Radius=mass_within_radius(radius, gas_cell_HI_masses, gas_cell_coordinates, center_mass)\n",
    "\n",
    "    HI_mass_list.append(HI_Mass_In_Radius)\n",
    "    snapshot_list.append(current_snapshot_num)\n",
    "    print(HI_Mass_In_Radius,current_snapshot_num)\n",
    "\n",
    "plt.plot(snapshot_list,HI_mass_list)\n",
    "new_x = [2,1.5,1,0.7,0.5,0.4,0.3,0.2,0.1,0]\n",
    "new_x=np.flipud(np.array(new_x))\n",
    "plt.xticks(snapshot_list, new_x)\n",
    "plt.show()\n"
   ]
  },
  {
   "cell_type": "code",
   "execution_count": 11,
   "metadata": {},
   "outputs": [
    {
     "name": "stdout",
     "output_type": "stream",
     "text": [
      "[329508 329045 325941 323872 322167 318956 315009 314669 309873 302211\n",
      " 299817 295276 293174 289164 286487 280379 273994 271730 269975 268108\n",
      " 264326 262399 260935 257844 254640 247555 250593 241928 232377 220165\n",
      " 215980 214057 211991 209820 205211 184704 171321 170176 163331 162126\n",
      " 158822 156135 157140 154894 152796 144633 145765 140683 156816 153494\n",
      " 151763 145660 139042 130895 121961 120173 118400 119619 107743  98181\n",
      "  99770  95286  88903  81233  73786  80035  74681  69878  70455  60695\n",
      "  52413  46598  43668  47335  43126  59516  62481  49323  41369  35088\n",
      "  29554  25162  36050  28415  24744  19723  11819   9261  37024  32301\n",
      "  25961  20231  18981  14193   9425   7250  10708   5002   9308]\n"
     ]
    }
   ],
   "source": [
    "tree_fields=['SubfindID','SnapNum']\n",
    "subfindid_snapnum_tree=il.sublink.loadTree(basePath, 99, 329508, fields=tree_fields, onlyMPB=True)\n",
    "subfind_id=subfindid_snapnum_tree['SubfindID']\n",
    "print(subfind_id)\n"
   ]
  },
  {
   "cell_type": "code",
   "execution_count": null,
   "metadata": {},
   "outputs": [],
   "source": []
  }
 ],
 "metadata": {
  "kernelspec": {
   "display_name": "Python 3",
   "language": "python",
   "name": "python3"
  },
  "language_info": {
   "codemirror_mode": {
    "name": "ipython",
    "version": 3
   },
   "file_extension": ".py",
   "mimetype": "text/x-python",
   "name": "python",
   "nbconvert_exporter": "python",
   "pygments_lexer": "ipython3",
   "version": "3.6.7"
  }
 },
 "nbformat": 4,
 "nbformat_minor": 2
}
