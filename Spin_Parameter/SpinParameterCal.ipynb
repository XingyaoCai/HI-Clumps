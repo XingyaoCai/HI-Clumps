{
 "cells": [
  {
   "cell_type": "code",
   "execution_count": 1,
   "metadata": {},
   "outputs": [],
   "source": [
    "import illustris_python as il\n",
    "import numpy as np\n",
    "import matplotlib.pyplot as plt\n",
    "import matplotlib as mpl\n",
    "import FunctionLib\n",
    "#%matplotlib widget\n",
    "basePath ='./sims.TNG/TNG50-1/output'\n",
    "from tqdm import tqdm\n",
    "import gc\n",
    "import os"
   ]
  },
  {
   "cell_type": "code",
   "execution_count": 2,
   "metadata": {},
   "outputs": [],
   "source": [
    "snapshot_init=67\n",
    "snapshot_end=99\n",
    "lbsg_index_list=[117251,300903,324123,329508,382215,400973,419618,457431,460722,490814]\n",
    "m_dm=4.5E-5  #E10M_Sum\n",
    "h=0.6774  #km/Mpc\n",
    "Critial_Density=1.27E-8  #E10M_Sum/kpc^3\n",
    "Critial_Density_h=Critial_Density/h**2  #E10M_Sum/(kpc/h)^3\n",
    "lbsg_index_array=np.array(lbsg_index_list)"
   ]
  },
  {
   "cell_type": "code",
   "execution_count": 3,
   "metadata": {},
   "outputs": [],
   "source": [
    "gas_fields=['Coordinates','Masses','Velocities']\n",
    "dm_fields=['Coordinates','Velocities']\n",
    "stars_fields=['Coordinates','Masses','Velocities']\n",
    "bh_fields=['Coordinates','Masses','Velocities']\n",
    "tree_fields=['SubfindID','SnapNum','Mass']\n",
    "subhalo_fields=['SubhaloPos','SubhaloVel','SubhaloSpin','SubhaloCM','SubhaloMass']"
   ]
  },
  {
   "cell_type": "code",
   "execution_count": 4,
   "metadata": {},
   "outputs": [],
   "source": [
    "def Cal_M_200_From_R_200(R_200,Comoving_Critial_Density):\n",
    "    \n",
    "    M_200=200*Comoving_Critial_Density*4/3*3.14*R_200**3\n",
    "    return M_200\n",
    "\n",
    "def R_200_Calculation(snapshot_num,subhalos_data,subhalo_id,Comoving_Critial_Density):\n",
    "    \n",
    "    subhalo_comoving_position=subhalos_data['SubhaloPos'][subhalo_id]\n",
    "    subhalo_comoving_velocity=subhalos_data['SubhaloVel'][subhalo_id]\n",
    "    subhalo_spin=subhalos_data['SubhaloSpin'][subhalo_id]\n",
    "    subhalo_mass=subhalos_data['SubhaloMass'][subhalo_id]\n",
    "    \n",
    "    gas_data_tensor=il.snapshot.loadSubhalo(basePath,snapshot_num,subhalo_id,0,fields=gas_fields)\n",
    "    dm_data_tensor=il.snapshot.loadSubhalo(basePath,snapshot_num,subhalo_id,1,fields=dm_fields)\n",
    "    stars_data_tensor=il.snapshot.loadSubhalo(basePath,snapshot_num,subhalo_id,4,fields=stars_fields)\n",
    "    bh_data_tensor=il.snapshot.loadSubhalo(basePath,snapshot_num,subhalo_id,5,fields=bh_fields)\n",
    "    \n",
    "    \n",
    "    precision = 0.1\n",
    "    max_iter = 100\n",
    "    left, right = 0, 1000\n",
    "    \n",
    "    for i in range(max_iter):\n",
    "\n",
    "        mid = (left + right) / 2\n",
    "        \n",
    "        mass_in=total_mass_in_radius(gas_data_tensor,dm_data_tensor,stars_data_tensor,bh_data_tensor,subhalo_comoving_position,mid)\n",
    "        \n",
    "        density=3*mass_in/(4*3.14*mid**3)\n",
    "        \n",
    "        if density > 200*Comoving_Critial_Density:\n",
    "            left = mid\n",
    "\n",
    "        else:\n",
    "            right = mid\n",
    "        \n",
    "\n",
    "        if abs(right - left) < precision or i == max_iter - 1:\n",
    "            R_200 = (left + right) / 2\n",
    "            break\n",
    "    \n",
    "    M_200=Cal_M_200_From_R_200(R_200,Comoving_Critial_Density)\n",
    "    \n",
    "    return R_200,M_200\n",
    "\n",
    "def baryon_mass_in_radius(Center,Radius,Coordinates,Masses):\n",
    "    dist_to_com = np.sqrt(np.sum((Coordinates - Center)**2, axis=1))\n",
    "    within_radius_idx = np.where(dist_to_com <= Radius)[0]\n",
    "    total_mass_within_radius = np.sum(Masses[within_radius_idx])\n",
    "    return total_mass_within_radius\n",
    "\n",
    "def dm_mass_in_radius(Center,Radius,Coordinates):\n",
    "    dist_to_com = np.sqrt(np.sum((Coordinates - Center)**2, axis=1))\n",
    "    within_radius_idx = np.where(dist_to_com <= Radius)[0]\n",
    "    total_mass_within_radius = m_dm*within_radius_idx.shape[0]*h\n",
    "    return total_mass_within_radius\n",
    "\n",
    "def total_mass_in_radius(gas_data_tensor,dm_data_tensor,stars_data_tensor,bh_data_tensor,Center,Radius):\n",
    "    \n",
    "    gas_mass_in=baryon_mass_in_radius(Center,Radius,gas_data_tensor['Coordinates'],gas_data_tensor['Masses'])\n",
    "    dm_mass_in=dm_mass_in_radius(Center,Radius,dm_data_tensor['Coordinates'])\n",
    "    stars_mass_in=baryon_mass_in_radius(Center,Radius,stars_data_tensor['Coordinates'],stars_data_tensor['Masses'])\n",
    "    bh_mass_in=baryon_mass_in_radius(Center,Radius,bh_data_tensor['Coordinates'],bh_data_tensor['Masses'])\n",
    "    \n",
    "    total_mass_in=gas_mass_in+dm_mass_in+stars_mass_in+bh_mass_in\n",
    "    \n",
    "    return total_mass_in\n",
    "\n",
    "def Binary_DataIter(Data_Set1,Data_Set2):\n",
    "    for i in range(0,min(len(Data_Set1),len(Data_Set2))):\n",
    "        yield Data_Set1[i],Data_Set2[i]\n",
    "        \n",
    "def Velocity_Virial_Calculation(R_200,M_200):\n",
    "    Unit=4.3E4\n",
    "    V=np.sqrt(R_200/M_200*Unit)\n",
    "    return V\n",
    "    \n",
    "def cal_id_at_Z_from_99(Subhalo_Id_0,Z):#Z is the snapshot\n",
    "    subfindid_snapnum_tree=il.sublink.loadTree(basePath, 99, Subhalo_Id_0, fields=tree_fields, onlyMPB=True)\n",
    "    subfind_id=subfindid_snapnum_tree['SubfindID']\n",
    "    snapshot_num=subfindid_snapnum_tree['SnapNum']\n",
    "    index=np.where(snapshot_num==Z)[0]\n",
    "    return subfind_id[index][0]\n",
    "\n",
    "def Cal_Total_Spin(spin_array):\n",
    "    len=0.0\n",
    "    for axis_value in spin_array:\n",
    "        len=len+axis_value**2\n",
    "        \n",
    "    return np.sqrt(len)"
   ]
  },
  {
   "cell_type": "code",
   "execution_count": 11,
   "metadata": {},
   "outputs": [
    {
     "name": "stderr",
     "output_type": "stream",
     "text": [
      " 93%|█████████▎| 28/30 [1:36:41<06:54, 207.20s/it]\n"
     ]
    },
    {
     "ename": "IndexError",
     "evalue": "index 28 is out of bounds for axis 0 with size 28",
     "output_type": "error",
     "traceback": [
      "\u001b[0;31m---------------------------------------------------------------------------\u001b[0m",
      "\u001b[0;31mIndexError\u001b[0m                                Traceback (most recent call last)",
      "\u001b[0;32m<ipython-input-11-d3b54fbefdea>\u001b[0m in \u001b[0;36m<module>\u001b[0;34m\u001b[0m\n\u001b[1;32m     21\u001b[0m \u001b[0;34m\u001b[0m\u001b[0m\n\u001b[1;32m     22\u001b[0m         \u001b[0mspin_parameter\u001b[0m\u001b[0;34m=\u001b[0m\u001b[0mTotal_Spin\u001b[0m\u001b[0;34m*\u001b[0m\u001b[0mscale_factor\u001b[0m\u001b[0;34m/\u001b[0m\u001b[0;34m(\u001b[0m\u001b[0mV_200\u001b[0m\u001b[0;34m*\u001b[0m\u001b[0mR_200\u001b[0m\u001b[0;34m)\u001b[0m\u001b[0;34m\u001b[0m\u001b[0;34m\u001b[0m\u001b[0m\n\u001b[0;32m---> 23\u001b[0;31m         \u001b[0mspin_parameter_matrix\u001b[0m\u001b[0;34m[\u001b[0m\u001b[0mabs\u001b[0m\u001b[0;34m(\u001b[0m\u001b[0msnapshot_init\u001b[0m\u001b[0;34m-\u001b[0m\u001b[0mcurrent_snapshot\u001b[0m\u001b[0;34m)\u001b[0m\u001b[0;34m]\u001b[0m\u001b[0;34m[\u001b[0m\u001b[0mlbsg_index\u001b[0m\u001b[0;34m]\u001b[0m\u001b[0;34m=\u001b[0m\u001b[0mspin_parameter\u001b[0m\u001b[0;34m\u001b[0m\u001b[0;34m\u001b[0m\u001b[0m\n\u001b[0m\u001b[1;32m     24\u001b[0m \u001b[0;34m\u001b[0m\u001b[0m\n\u001b[1;32m     25\u001b[0m     \u001b[0mgc\u001b[0m\u001b[0;34m.\u001b[0m\u001b[0mcollect\u001b[0m\u001b[0;34m(\u001b[0m\u001b[0;34m)\u001b[0m\u001b[0;34m\u001b[0m\u001b[0;34m\u001b[0m\u001b[0m\n",
      "\u001b[0;31mIndexError\u001b[0m: index 28 is out of bounds for axis 0 with size 28"
     ]
    }
   ],
   "source": [
    "snapshot_end=70\n",
    "snapshot_init=99\n",
    "spin_parameter_matrix=np.zeros((abs(snapshot_end-snapshot_init+1),len(lbsg_index_list)))\n",
    "for current_snapshot in tqdm(range(snapshot_init,snapshot_end-1,-1)):\n",
    "\n",
    "    header=il.groupcat.loadHeader(basePath, current_snapshot)\n",
    "    scale_factor=header['Time']\n",
    "    comoving_critial_density=Critial_Density_h*(scale_factor**2)\n",
    "    \n",
    "    subhalos_data=il.groupcat.loadSubhalos(basePath,current_snapshot,fields=subhalo_fields)\n",
    "    \n",
    "    for subhalo_id_0 in lbsg_index_array:\n",
    "        lbsg_index=np.where(lbsg_index_array==subhalo_id_0)[0][0]\n",
    "        subhalo_id=cal_id_at_Z_from_99(subhalo_id_0,current_snapshot)\n",
    "\n",
    "        R_200,M_200=R_200_Calculation(current_snapshot,subhalos_data,subhalo_id,comoving_critial_density)\n",
    "        V_200=Velocity_Virial_Calculation(R_200,M_200)\n",
    "        \n",
    "        Spin_Array=subhalos_data['SubhaloSpin'][subhalo_id]\n",
    "        Total_Spin=Cal_Total_Spin(Spin_Array)\n",
    "        \n",
    "        spin_parameter=Total_Spin*scale_factor/(V_200*R_200)\n",
    "        spin_parameter_matrix[abs(snapshot_init-current_snapshot)][lbsg_index]=spin_parameter\n",
    "        \n",
    "    gc.collect()"
   ]
  },
  {
   "cell_type": "code",
   "execution_count": 12,
   "metadata": {},
   "outputs": [
    {
     "data": {
      "text/plain": [
       "array([[ 0.1951532 ,  0.30266728,  0.19418416,  0.19268461,  0.14101168,\n",
       "         0.13458659,  0.12065335,  0.06890232,  0.09056041,  0.08255872],\n",
       "       [ 0.20908652,  0.29875545,  0.18864785,  0.17446712,  0.13798   ,\n",
       "         0.1281866 ,  0.11766484,  0.06815747,  0.08723384,  0.08064944],\n",
       "       [ 0.19830108,  0.28945212,  0.17809205,  0.16934388,  0.13337887,\n",
       "         0.12308849,  0.11012375,  0.06447966,  0.01742224,  0.07786846],\n",
       "       [ 0.20481406,  0.28380561,  0.17222998,  0.18035348,  0.12751607,\n",
       "         0.12086147,  0.10647643,  0.06312393,  0.01681751,  0.07582787],\n",
       "       [ 0.21516041,  0.27736132,  0.15947957,  0.15960686,  0.12117844,\n",
       "         0.11703192,  0.1024594 ,  0.06136772,  0.08493156,  0.07428272],\n",
       "       [ 0.21431687,  0.27255977,  0.15873282,  0.1580072 ,  0.11796993,\n",
       "         0.11352438,  0.09234806,  0.06050346,  0.08124237,  0.07330201],\n",
       "       [ 0.2135746 ,  0.26206497,  0.14433657,  0.15364229,  0.11387717,\n",
       "         0.11102651,  0.09529911,  0.05632502,  0.07392122,  0.07299959],\n",
       "       [ 0.20932916,  0.25691142,  0.13383303,  0.15055605,  0.11120145,\n",
       "         0.10892151,  0.09536303,  0.05233843,  0.07241746,  0.07229562],\n",
       "       [ 0.20837983,  0.24924537,  0.1277985 ,  0.15809945,  0.10894255,\n",
       "         0.10358124,  0.09029274,  0.04862931,  0.0704621 ,  0.07087535],\n",
       "       [ 0.21462948,  0.24094109,  0.11944738,  0.15615682,  0.10762881,\n",
       "         0.10126466,  0.08631817,  0.04731903,  0.06626321,  0.06951618],\n",
       "       [ 0.2135813 ,  0.23518623,  0.12618956,  0.15099906,  0.10270021,\n",
       "         0.09845036,  0.08103074,  0.04635421,  0.05995111,  0.06690993],\n",
       "       [ 0.20804259,  0.22711366,  0.12054062,  0.14339447,  0.10167291,\n",
       "         0.09658035,  0.07743088,  0.0464364 ,  0.01734052,  0.06259601],\n",
       "       [ 0.20315871,  0.22196577,  0.11821578,  0.14018706,  0.10083855,\n",
       "         0.09637759,  0.076733  ,  0.04492132,  0.01741411,  0.05985652],\n",
       "       [ 0.19625736,  0.20697978,  0.10858613,  0.13328006,  0.09948026,\n",
       "         0.0949391 ,  0.07641877,  0.03397378,  0.01709842,  0.05769955],\n",
       "       [ 0.19115178,  0.19749908,  0.10292182,  0.12851922,  0.09917171,\n",
       "         0.09447968,  0.07623891,  0.03036206,  0.04452817,  0.05615224],\n",
       "       [ 0.17687442,  0.1821601 ,  0.09538286,  0.12539146,  0.09888475,\n",
       "         0.09067632,  0.07431693,  0.02753024,  0.04630136,  0.05416956],\n",
       "       [ 0.16581235,  0.17193599,  0.09116335,  0.12187283,  0.0966119 ,\n",
       "         0.08776749,  0.07235357,  0.02272038,  0.01800225,  0.05230711],\n",
       "       [ 0.15700592,  0.16720784,  0.0888379 ,  0.11818383,  0.095276  ,\n",
       "         0.08499763,  0.07105406,  0.02135356,  0.01819641,  0.05109028],\n",
       "       [ 0.14618962,  0.15629345,  0.08171733,  0.11647329,  0.09339919,\n",
       "         0.082432  ,  0.06790606,  0.01804596,  0.01799601,  0.04988675],\n",
       "       [ 0.14427114,  0.13801013,  0.0621823 ,  0.11436854,  0.09138701,\n",
       "         0.07983331,  0.06512544,  0.01681297,  0.01707527,  0.04883779],\n",
       "       [ 0.14402169,  0.12177555,  0.05457528,  0.1119333 ,  0.08972429,\n",
       "         0.07845002,  0.06409337,  0.01518663,  0.01648838,  0.04852821],\n",
       "       [ 0.13309997,  0.11903708,  0.04412594,  0.10829507,  0.08505217,\n",
       "         0.07383608,  0.06138359,  0.01422345,  0.04522419,  0.04750115],\n",
       "       [ 0.12607541,  0.10796965,  0.04507688,  0.10774387,  0.08313054,\n",
       "         0.07123742,  0.06112448,  0.01406773,  0.0429858 ,  0.04510441],\n",
       "       [ 0.12080002,  0.106175  ,  0.04913994,  0.10552749,  0.07800542,\n",
       "         0.06724027,  0.05958315,  0.01376486,  0.04286201,  0.04380679],\n",
       "       [ 0.11311696,  0.10089723,  0.04181742,  0.1040336 ,  0.07311937,\n",
       "         0.06157712,  0.06036956,  0.01327169,  0.03589499,  0.04334127],\n",
       "       [ 0.10436577,  0.10300317,  0.03644941,  0.10178651,  0.06879168,\n",
       "         0.05948983,  0.060208  ,  0.0130171 ,  0.01538721,  0.04307938],\n",
       "       [ 0.10227165,  0.09401347,  0.02852872,  0.0979783 ,  0.06007428,\n",
       "         0.05589402,  0.05819638,  0.01224725,  0.01557565,  0.04257294],\n",
       "       [ 0.10052772,  0.09212492,  0.02544369,  0.09230655,  0.05615134,\n",
       "         0.05471245,  0.05488597,  0.01142945,  0.01504352,  0.04186889]])"
      ]
     },
     "execution_count": 12,
     "metadata": {},
     "output_type": "execute_result"
    }
   ],
   "source": [
    "spin_parameter_matrix"
   ]
  },
  {
   "cell_type": "code",
   "execution_count": 26,
   "metadata": {},
   "outputs": [],
   "source": [
    "id_values=np.array(lbsg_index_array)\n",
    "t_values=np.array(range(snapshot_init,snapshot_end+1,-1))"
   ]
  },
  {
   "cell_type": "code",
   "execution_count": 27,
   "metadata": {},
   "outputs": [
    {
     "data": {
      "text/plain": [
       "(10,)"
      ]
     },
     "execution_count": 27,
     "metadata": {},
     "output_type": "execute_result"
    }
   ],
   "source": [
    "id_values.shape"
   ]
  },
  {
   "cell_type": "code",
   "execution_count": 21,
   "metadata": {},
   "outputs": [
    {
     "data": {
      "text/plain": [
       "(28,)"
      ]
     },
     "execution_count": 21,
     "metadata": {},
     "output_type": "execute_result"
    }
   ],
   "source": [
    "t_values.shape"
   ]
  },
  {
   "cell_type": "code",
   "execution_count": 19,
   "metadata": {},
   "outputs": [
    {
     "data": {
      "text/plain": [
       "(28, 10)"
      ]
     },
     "execution_count": 19,
     "metadata": {},
     "output_type": "execute_result"
    }
   ],
   "source": [
    "spin_parameter_matrix.shape"
   ]
  },
  {
   "cell_type": "code",
   "execution_count": 32,
   "metadata": {},
   "outputs": [
    {
     "data": {
      "text/plain": [
       "<Figure size 432x288 with 0 Axes>"
      ]
     },
     "metadata": {},
     "output_type": "display_data"
    }
   ],
   "source": [
    "num_snapshots=len(t_values)\n",
    "num_galaxies=len(id_values)\n",
    "\n",
    "for x_index,x in enumerate(id_values):\n",
    "    data=[spin_parameter_matrix[t_index][x_index] for t_index in range(num_snapshots)]\n",
    "    \n",
    "    plt.plot(t_values,data)\n",
    "    plt.xlabel('Snapshot')\n",
    "    plt.ylabel('Spin Parameter Evolution')\n",
    "    plt.title(f'Spin Parameter of Galaxy {x}')\n",
    "    \n",
    "    plt.savefig(f'{x}.png')\n",
    "    plt.clf()"
   ]
  },
  {
   "cell_type": "code",
   "execution_count": 29,
   "metadata": {},
   "outputs": [],
   "source": [
    "np.save('./matrix.npy',spin_parameter_matrix)"
   ]
  },
  {
   "cell_type": "code",
   "execution_count": null,
   "metadata": {},
   "outputs": [],
   "source": []
  }
 ],
 "metadata": {
  "kernelspec": {
   "display_name": "Python 3",
   "language": "python",
   "name": "python3"
  },
  "language_info": {
   "codemirror_mode": {
    "name": "ipython",
    "version": 3
   },
   "file_extension": ".py",
   "mimetype": "text/x-python",
   "name": "python",
   "nbconvert_exporter": "python",
   "pygments_lexer": "ipython3",
   "version": "3.6.7"
  }
 },
 "nbformat": 4,
 "nbformat_minor": 2
}
