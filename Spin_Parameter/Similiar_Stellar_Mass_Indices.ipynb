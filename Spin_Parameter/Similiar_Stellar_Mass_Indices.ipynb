{
 "cells": [
  {
   "cell_type": "code",
   "execution_count": 50,
   "metadata": {},
   "outputs": [],
   "source": [
    "import illustris_python as il\n",
    "import numpy as np\n",
    "import matplotlib.pyplot as plt\n",
    "import matplotlib as mpl\n",
    "\n",
    "# %matplotlib widget\n",
    "basePath = \"./sims.TNG/TNG50-1/output\"\n",
    "import tqdm\n",
    "import gc\n",
    "import os"
   ]
  },
  {
   "cell_type": "code",
   "execution_count": 51,
   "metadata": {},
   "outputs": [],
   "source": [
    "Snapshot_Init = 71\n",
    "Snapshot_End = 99\n",
    "Lbsg_Indcies_Array = np.array(\n",
    "    [117251, 300903, 324123, 329508, 382215,\n",
    "        400973, 419618, 457431, 460722, 490814]\n",
    ")\n",
    "\n",
    "h = 0.6774  # km/Mpc\n",
    "\n",
    "m_dm = 4.5e-5  # E10M_Sum\n",
    "m_dm_h = m_dm * h\n",
    "\n",
    "Critial_Density = 1.27e-8  # E10M_Sum/kpc^3\n",
    "Critial_Density_h = Critial_Density / h**2  # E10M_Sum/(kpc/h)^3"
   ]
  },
  {
   "cell_type": "code",
   "execution_count": 53,
   "metadata": {},
   "outputs": [],
   "source": [
    "subhalos_data_dic = il.groupcat.loadSubhalos(\n",
    "    basePath=basePath, snapNum=Snapshot_End, fields=[\"SubhaloMass\",\"SubhaloMassType\"]\n",
    ")\n"
   ]
  },
  {
   "cell_type": "code",
   "execution_count": 56,
   "metadata": {},
   "outputs": [
    {
     "name": "stderr",
     "output_type": "stream",
     "text": [
      "100%|██████████| 5688113/5688113 [00:17<00:00, 320669.15it/s]\n"
     ]
    }
   ],
   "source": [
    "stellar_mass_indices = list()\n",
    "for subhalo_id in tqdm.trange(subhalos_mass_float_array.shape[0]):\n",
    "\n",
    "    if subhalos_mass_float_array[subhalo_id] < 0.1:\n",
    "        continue\n",
    "    if subhalos_mass_float_array[subhalo_id] > 1000:\n",
    "        continue\n",
    "\n",
    "    subhalo_stellar_mass_float = subhalos_mass_types_float_array[subhalo_id][4]\n",
    "\n",
    "    if subhalo_stellar_mass_float > 0.1:\n",
    "        stellar_mass_indices.append(subhalo_id)\n",
    "\n"
   ]
  },
  {
   "cell_type": "code",
   "execution_count": 55,
   "metadata": {},
   "outputs": [],
   "source": [
    "subhalos_mass_float_array=subhalos_data_dic['SubhaloMass']\n",
    "subhalos_mass_types_float_array=subhalos_data_dic['SubhaloMassType']"
   ]
  },
  {
   "cell_type": "code",
   "execution_count": 59,
   "metadata": {},
   "outputs": [],
   "source": [
    "stellar_mass_indices_array=np.array(stellar_mass_indices)"
   ]
  },
  {
   "cell_type": "code",
   "execution_count": 60,
   "metadata": {},
   "outputs": [],
   "source": [
    "np.save('./stellar_mass_indices.npy',stellar_mass_indices_array)"
   ]
  },
  {
   "cell_type": "code",
   "execution_count": null,
   "metadata": {},
   "outputs": [],
   "source": []
  }
 ],
 "metadata": {
  "kernelspec": {
   "display_name": "Python 3 (ipykernel)",
   "language": "python",
   "name": "python3"
  },
  "language_info": {
   "codemirror_mode": {
    "name": "ipython",
    "version": 3
   },
   "file_extension": ".py",
   "mimetype": "text/x-python",
   "name": "python",
   "nbconvert_exporter": "python",
   "pygments_lexer": "ipython3",
   "version": "3.11.4"
  },
  "orig_nbformat": 4
 },
 "nbformat": 4,
 "nbformat_minor": 2
}
