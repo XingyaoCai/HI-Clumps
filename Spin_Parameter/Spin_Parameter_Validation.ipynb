{
 "cells": [
  {
   "cell_type": "code",
   "execution_count": 19,
   "metadata": {},
   "outputs": [],
   "source": [
    "import illustris_python as il\n",
    "import numpy as np\n",
    "import matplotlib.pyplot as plt\n",
    "import matplotlib as mpl\n",
    "basePath ='./sims.TNG/TNG50-1/output'\n",
    "\n",
    "main_subhalo_id=329508\n",
    "main_halo_id=23\n",
    "\n",
    "subhalos_fields=['SubhaloSpin','SubhaloGrNr','SubhaloMass']\n",
    "halos_fields=['Group_M_Mean200','Group_R_Mean200']\n",
    "missing_data_snaps=[31,32,35]\n",
    "full_snaps=[33,40,50,59,67,72,78,84,91,99]"
   ]
  },
  {
   "cell_type": "code",
   "execution_count": 3,
   "metadata": {},
   "outputs": [],
   "source": [
    "tree_fields=['SubfindID','SnapNum']\n",
    "subfindid_snapnum_tree=il.sublink.loadTree(basePath, 99, 329508, fields=tree_fields, onlyMPB=True)"
   ]
  },
  {
   "cell_type": "code",
   "execution_count": 4,
   "metadata": {},
   "outputs": [],
   "source": [
    "subfind_id=subfindid_snapnum_tree['SubfindID']\n",
    "snapshot_num=subfindid_snapnum_tree['SnapNum']"
   ]
  },
  {
   "cell_type": "code",
   "execution_count": 5,
   "metadata": {},
   "outputs": [],
   "source": [
    "def Binary_DataIter(Data_Set1,Data_Set2):\n",
    "    for i in range(0,min(len(Data_Set1),len(Data_Set2))):\n",
    "        yield Data_Set1[i],Data_Set2[i]\n",
    "        \n",
    "def Total_Spin_Cal(Spin_Array):\n",
    "    total_spin=0\n",
    "    for spin in Spin_Array:\n",
    "        total_spin+=(spin)**2\n",
    "    total_spin=total_spin**(1/2)\n",
    "    return total_spin"
   ]
  },
  {
   "cell_type": "code",
   "execution_count": 37,
   "metadata": {},
   "outputs": [],
   "source": [
    "spin_para=list()\n",
    "mass_list=list()"
   ]
  },
  {
   "cell_type": "code",
   "execution_count": null,
   "metadata": {},
   "outputs": [],
   "source": [
    "for current_subfind_id,current_snapshot_num in Binary_DataIter(subfind_id,snapshot_num):\n",
    "    if current_snapshot_num in missing_data_snaps: continue\n",
    "    if current_snapshot_num < 30: break\n",
    "\n",
    "    subhalos_data=il.groupcat.loadSubhalos(basePath,current_snapshot_num, fields=subhalos_fields)   \n",
    "    halos_data=il.groupcat.loadHalos(basePath,current_snapshot_num,fields=halos_fields)\n",
    "    header=il.groupcat.loadHeader(basePath, current_snapshot_num)\n",
    "    \n",
    "    time=header['Time']\n",
    "    M_Mean200=halos_data['Group_M_Mean200'][current_subfind_id]\n",
    "    subhalo_spin=subhalos_data['SubhaloSpin'][current_subfind_id]\n",
    "    halo_id=subhalos_data['SubhaloGrNr'][current_subfind_id]\n",
    "    \n",
    "    Group_M_200=halos_data['Group_M_Mean200'][halo_id]\n",
    "    Group_R_200=halos_spin['Group_R_Mean200'][halo_id]\n",
    "    \n",
    "    #缺GyNr数据\n",
    "    \n",
    "    \n",
    "    subhalo_spin=subhalos_data[current_subfind_id]\n",
    "    V_200=(43007.1*)**(1/2)\n",
    "    \n",
    "    Spin=Total_Spin_Cal(subhalo_spin)\n",
    "    CoSpin=Spin/time\n",
    "    spin_parameter=CoSpin/subhalo_vmax/subhalo_vmax_rad\n",
    "    \n",
    "    spin_para.append(spin_parameter)\n",
    "    snaplist.append(current_snapshot_num)\n",
    "    print(spin_parameter)"
   ]
  },
  {
   "cell_type": "code",
   "execution_count": null,
   "metadata": {},
   "outputs": [],
   "source": [
    "plt.plot(snaplist,spin_para)"
   ]
  },
  {
   "cell_type": "code",
   "execution_count": 20,
   "metadata": {},
   "outputs": [],
   "source": [
    "current_snapshot_num=50\n",
    "\n",
    "subhalos_data=il.groupcat.loadSubhalos(basePath,current_snapshot_num, fields=subhalos_fields)   \n",
    "halos_data=il.groupcat.loadHalos(basePath,current_snapshot_num,fields=halos_fields)\n",
    "header=il.groupcat.loadHeader(basePath, current_snapshot_num)\n",
    "    \n",
    "time=header['Time']\n",
    "\n"
   ]
  },
  {
   "cell_type": "code",
   "execution_count": 21,
   "metadata": {},
   "outputs": [
    {
     "data": {
      "text/plain": [
       "6780233"
      ]
     },
     "execution_count": 21,
     "metadata": {},
     "output_type": "execute_result"
    }
   ],
   "source": [
    "subhalos_spin=subhalos_data['SubhaloSpin']\n",
    "halos_id=subhalos_data['SubhaloGrNr']\n",
    "subhalos_mass=subhalos_data['SubhaloMass']\n",
    "\n",
    "Group_M_200s=halos_data['Group_M_Mean200']\n",
    "Group_R_200s=halos_data['Group_R_Mean200']\n",
    "\n",
    "subhalo_num=len(halos_id)\n",
    "subhalo_num"
   ]
  },
  {
   "cell_type": "code",
   "execution_count": 41,
   "metadata": {},
   "outputs": [
    {
     "data": {
      "text/plain": [
       "(array([     1,      2,  87125, 101009, 106001, 110862, 114772, 118813,\n",
       "        123137, 126646, 130254, 133837, 133838, 135871, 138975, 141965,\n",
       "        144904, 146546, 148668, 151037, 153494, 156083, 158267, 160370,\n",
       "        162738, 165282, 167854, 169401, 171738, 174075, 176324, 178021,\n",
       "        179342, 181044, 183225, 184805, 186226, 187650, 188936, 189955,\n",
       "        191612, 193153, 194155, 195636, 197030, 198351, 199677, 200752,\n",
       "        202094, 203704, 204984, 206386, 207683, 208603, 209967, 210927,\n",
       "        212082, 213279, 214137, 215165, 216435, 217773, 219145, 221043,\n",
       "        222506, 224620, 225857, 226788, 227888, 228904, 229968, 230938,\n",
       "        233979, 234932, 235672, 236658, 239390, 240072, 240875, 241679,\n",
       "        242495, 244863, 245604, 246598, 248389, 251634, 252468, 253145,\n",
       "        253881, 254473, 255891, 256471, 257247, 257926, 258649, 259473,\n",
       "        260271, 260976, 261670, 262167, 262716, 263483, 265881, 266419,\n",
       "        269902, 273429]),)"
      ]
     },
     "execution_count": 41,
     "metadata": {},
     "output_type": "execute_result"
    }
   ],
   "source": [
    "condition = (subhalos_mass > 100) & (subhalos_mass < 800)\n",
    "index_list = np.where(condition)\n",
    "index_list"
   ]
  },
  {
   "cell_type": "code",
   "execution_count": 30,
   "metadata": {},
   "outputs": [],
   "source": [
    "index=0"
   ]
  },
  {
   "cell_type": "code",
   "execution_count": 42,
   "metadata": {},
   "outputs": [
    {
     "name": "stdout",
     "output_type": "stream",
     "text": [
      "0.0175634623437\n",
      "0.00507281098713\n",
      "0.0947824097846\n",
      "0.02858917151\n",
      "0.0524773974792\n",
      "0.0289598139863\n",
      "0.0274689139635\n",
      "0.0250687800383\n",
      "0.0243946569653\n",
      "0.0684068668326\n",
      "0.0461946588993\n",
      "0.00964606750872\n",
      "0.0450585136665\n",
      "0.0384759201573\n",
      "0.0669306662669\n",
      "0.0352378038212\n",
      "0.0351701691092\n",
      "0.0168735635421\n",
      "0.020963368319\n",
      "0.0413932643473\n",
      "0.0136799485722\n",
      "0.076674337348\n",
      "0.0661676487428\n",
      "0.0919321909447\n",
      "0.0194939267275\n",
      "0.018951174679\n",
      "0.0453484196372\n",
      "0.0756630098839\n",
      "0.0340769470663\n",
      "0.0333103684783\n",
      "0.0964606698651\n",
      "0.0743562987878\n",
      "0.0866051610732\n",
      "0.031066815143\n",
      "0.0477805204652\n",
      "0.028571812193\n",
      "0.0454192266192\n",
      "0.114792287466\n",
      "0.0762195099272\n",
      "0.0276151924563\n",
      "0.0711928240876\n",
      "0.103963474728\n",
      "0.0985735422067\n",
      "0.103423954189\n",
      "0.0366891728389\n",
      "0.0524590987125\n",
      "0.131370938035\n",
      "0.0634259925181\n",
      "0.114547350216\n",
      "0.0541694140752\n",
      "0.0425883116452\n",
      "0.0518836012065\n",
      "0.034123414924\n",
      "0.02723400408\n",
      "0.0436036608553\n",
      "0.0770037660693\n",
      "0.0763753106266\n",
      "0.0939464742706\n",
      "0.034140097096\n",
      "0.0412229206241\n",
      "0.104762988143\n",
      "0.0606476179885\n",
      "0.0204290641956\n",
      "0.0805831567041\n",
      "0.0414393893756\n",
      "0.0369183277546\n",
      "0.070282516546\n",
      "0.0390796952143\n",
      "0.0399130163786\n",
      "0.0650476810325\n",
      "0.120547761332\n",
      "0.0233983449344\n",
      "0.0499977381734\n",
      "0.0803737228255\n",
      "0.0459145935218\n",
      "0.0339280951388\n",
      "0.0582089941447\n",
      "0.0274257658705\n",
      "0.0617902383556\n",
      "0.0853995329645\n",
      "0.0239826337286\n",
      "0.0526527031033\n",
      "0.129078295619\n",
      "0.057042874302\n",
      "0.0347366692099\n",
      "0.0290526015984\n",
      "0.0879894530517\n",
      "0.0129078161787\n",
      "0.0355886645089\n",
      "0.0231801322478\n",
      "0.0443527172977\n",
      "0.0246197387262\n",
      "0.0403313111644\n",
      "0.0770321362539\n",
      "0.0394961897963\n",
      "0.0282337807789\n",
      "0.0496010414183\n",
      "0.0243079474224\n",
      "0.0495483365284\n",
      "0.0489315214905\n",
      "0.0891685325742\n",
      "0.0450976514484\n",
      "0.0552300966265\n",
      "0.0553274760956\n",
      "0.0775108426496\n",
      "0.0844097988974\n"
     ]
    }
   ],
   "source": [
    "for index in index_list[0]:\n",
    "    subhalo_spin=subhalos_spin[index]\n",
    "    halo_id=halos_id[index]\n",
    "    Group_M_200=halos_data['Group_M_Mean200'][halo_id]\n",
    "    Group_R_200=halos_data['Group_R_Mean200'][halo_id]/0.704\n",
    "\n",
    "    \n",
    "    subhalo_spin=subhalos_data['SubhaloSpin'][index]\n",
    "    V_200=(43007.1*Group_M_200/Group_R_200)**(1/2)\n",
    "    \n",
    "    Spin=Total_Spin_Cal(subhalo_spin)\n",
    "    CoSpin=Spin/time\n",
    "    spin_parameter=CoSpin/V_200/Group_R_200\n",
    "    \n",
    "    spin_para.append(spin_parameter)\n",
    "    mass_list.append(subhalos_mass[index])\n",
    "    print(spin_parameter)"
   ]
  },
  {
   "cell_type": "code",
   "execution_count": 1,
   "metadata": {},
   "outputs": [
    {
     "ename": "NameError",
     "evalue": "name 'plt' is not defined",
     "output_type": "error",
     "traceback": [
      "\u001b[0;31m---------------------------------------------------------------------------\u001b[0m",
      "\u001b[0;31mNameError\u001b[0m                                 Traceback (most recent call last)",
      "\u001b[0;32m<ipython-input-1-16815718d99a>\u001b[0m in \u001b[0;36m<module>\u001b[0;34m\u001b[0m\n\u001b[0;32m----> 1\u001b[0;31m \u001b[0mplt\u001b[0m\u001b[0;34m.\u001b[0m\u001b[0mscatter\u001b[0m\u001b[0;34m(\u001b[0m\u001b[0mmass_list\u001b[0m\u001b[0;34m,\u001b[0m\u001b[0mspin_para\u001b[0m\u001b[0;34m)\u001b[0m\u001b[0;34m\u001b[0m\u001b[0;34m\u001b[0m\u001b[0m\n\u001b[0m\u001b[1;32m      2\u001b[0m \u001b[0mplt\u001b[0m\u001b[0;34m.\u001b[0m\u001b[0mannotate\u001b[0m\u001b[0;34m(\u001b[0m\u001b[0;34m'Galaxy'\u001b[0m\u001b[0;34m,\u001b[0m \u001b[0mxy\u001b[0m\u001b[0;34m=\u001b[0m\u001b[0;34m(\u001b[0m\u001b[0mmass_list\u001b[0m\u001b[0;34m[\u001b[0m\u001b[0;36m18\u001b[0m\u001b[0;34m]\u001b[0m\u001b[0;34m,\u001b[0m\u001b[0mspin_para\u001b[0m\u001b[0;34m[\u001b[0m\u001b[0;36m18\u001b[0m\u001b[0;34m]\u001b[0m\u001b[0;34m)\u001b[0m\u001b[0;34m,\u001b[0m\u001b[0marrowprops\u001b[0m\u001b[0;34m=\u001b[0m\u001b[0mdict\u001b[0m\u001b[0;34m(\u001b[0m\u001b[0mfacecolor\u001b[0m\u001b[0;34m=\u001b[0m\u001b[0;34m'black'\u001b[0m\u001b[0;34m,\u001b[0m \u001b[0mshrink\u001b[0m\u001b[0;34m=\u001b[0m\u001b[0;36m0.05\u001b[0m\u001b[0;34m)\u001b[0m\u001b[0;34m)\u001b[0m\u001b[0;34m\u001b[0m\u001b[0;34m\u001b[0m\u001b[0m\n",
      "\u001b[0;31mNameError\u001b[0m: name 'plt' is not defined"
     ]
    }
   ],
   "source": [
    "plt.scatter(mass_list,spin_para)\n",
    "plt.annotate('Galaxy', xy=(mass_list[18],spin_para[18]),arrowprops=dict(facecolor='black', shrink=0.05))"
   ]
  },
  {
   "cell_type": "code",
   "execution_count": null,
   "metadata": {},
   "outputs": [],
   "source": [
    "mass_list"
   ]
  },
  {
   "cell_type": "code",
   "execution_count": null,
   "metadata": {},
   "outputs": [],
   "source": [
    "subhalos_mass[index_list]"
   ]
  },
  {
   "cell_type": "code",
   "execution_count": null,
   "metadata": {},
   "outputs": [],
   "source": [
    "for index in index_list[0]:\n",
    "    subhalo_spin=subhalos_spin[index]\n",
    "    halo_id=halos_id[index]\n",
    "    Group_M_200=halos_data['Group_M_Mean200'][halo_id]\n",
    "    Group_R_200=halos_data['Group_R_Mean200'][halo_id]/0.704\n",
    "\n",
    "    \n",
    "    subhalo_spin=subhalos_data['SubhaloSpin'][index]\n",
    "    V_200=(43007.1*Group_M_200/Group_R_200)**(1/2)\n",
    "    \n",
    "    Spin=Total_Spin_Cal(subhalo_spin)\n",
    "    CoSpin=Spin/time\n",
    "    spin_parameter=CoSpin/V_200/Group_R_200\n",
    "    \n",
    "    spin_para.append(spin_parameter)\n",
    "    mass_list.append(subhalos_mass[index])\n",
    "    print(spin_parameter)"
   ]
  }
 ],
 "metadata": {
  "kernelspec": {
   "display_name": "Python 3",
   "language": "python",
   "name": "python3"
  },
  "language_info": {
   "codemirror_mode": {
    "name": "ipython",
    "version": 3
   },
   "file_extension": ".py",
   "mimetype": "text/x-python",
   "name": "python",
   "nbconvert_exporter": "python",
   "pygments_lexer": "ipython3",
   "version": "3.6.7"
  }
 },
 "nbformat": 4,
 "nbformat_minor": 2
}
