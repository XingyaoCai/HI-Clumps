{
 "cells": [
  {
   "cell_type": "code",
   "execution_count": 2,
   "id": "61e64835-fcc2-4a25-816e-4edb9ca53e18",
   "metadata": {
    "tags": []
   },
   "outputs": [],
   "source": [
    "import illustris_python as il\n",
    "import numpy as np\n",
    "import matplotlib.pyplot as plt\n",
    "import matplotlib as mpl\n",
    "import FunctionLib\n",
    "#%matplotlib widget\n",
    "basePath ='./sims.TNG/TNG50-1/output'\n",
    "from tqdm import tqdm\n",
    "import gc\n",
    "import os"
   ]
  },
  {
   "cell_type": "code",
   "execution_count": 3,
   "id": "d25dd54f-049e-4c4e-8a77-458d951a03f7",
   "metadata": {
    "tags": []
   },
   "outputs": [],
   "source": [
    "snapshot_init=67\n",
    "snapshot_end=99\n",
    "lbsg_index_list=[117251,300903,324123,329508,382215,400973,419618,457431,460722,490814]\n",
    "m_dm=4.5E-5  #E10M_Sum\n",
    "h=0.6774  #km/Mpc\n",
    "Critial_Density=1.27E-8  #E10M_Sum/kpc^3\n",
    "Critial_Density_h=Critial_Density/h**2  #E10M_Sum/(kpc/h)^3\n",
    "lbsg_index_array=np.array(lbsg_index_list)"
   ]
  },
  {
   "cell_type": "code",
   "execution_count": 4,
   "id": "e9cf893d-4d7b-481e-9810-13492d035a4c",
   "metadata": {
    "tags": []
   },
   "outputs": [],
   "source": [
    "gas_fields=['Coordinates','Masses','Velocities']\n",
    "dm_fields=['Coordinates','Velocities']\n",
    "stars_fields=['Coordinates','Masses','Velocities']\n",
    "bh_fields=['Coordinates','Masses','Velocities']\n",
    "tree_fields=['SubfindID','SnapNum','Mass']\n",
    "subhalo_fields=['SubhaloPos','SubhaloVel','SubhaloSpin','SubhaloCM','SubhaloMass']"
   ]
  },
  {
   "cell_type": "code",
   "execution_count": 5,
   "id": "b4d967b0-7326-46f6-b797-033c3c5963ab",
   "metadata": {
    "tags": []
   },
   "outputs": [],
   "source": [
    "def Stellar_Mass(Snapshot,Subhalo_Id):\n",
    "    return il.snapshot.loadSubhalo(basePath,Snapshot,Subhalo_Id,4,['Masses']).sum()"
   ]
  },
  {
   "cell_type": "code",
   "execution_count": 6,
   "id": "ef06e47d-6044-4432-8ad8-316b51d86f53",
   "metadata": {},
   "outputs": [],
   "source": [
    "subhalos_masses=il.groupcat.loadSubhalos(basePath,snapshot_end,fields=['SubhaloMass'])"
   ]
  },
  {
   "cell_type": "code",
   "execution_count": 8,
   "id": "65f3a453-e61b-4ac8-a87b-5dcfcbc183be",
   "metadata": {
    "tags": []
   },
   "outputs": [],
   "source": [
    "lbsg_stellarmass=list()\n",
    "for lbsg_id in lbsg_index_array:\n",
    "    lbsg_stellarmass.append(Stellar_Mass(snapshot_end,lbsg_id))\n",
    "    \n",
    "lbsg_stellarmass=np.array(lbsg_stellarmass)"
   ]
  },
  {
   "cell_type": "code",
   "execution_count": 11,
   "id": "b563b6b9-bd1a-4ead-9459-0d35578de1aa",
   "metadata": {
    "tags": []
   },
   "outputs": [
    {
     "name": "stdout",
     "output_type": "stream",
     "text": [
      "1.8174096\n",
      "42.361664\n"
     ]
    }
   ],
   "source": [
    "print(lbsg_stellarmass.min())\n",
    "print(lbsg_stellarmass.max())"
   ]
  },
  {
   "cell_type": "code",
   "execution_count": 51,
   "id": "a0272466-43cb-438e-ba49-48615b51819d",
   "metadata": {
    "tags": []
   },
   "outputs": [],
   "source": [
    "stellarmass_inf_range=(1.7,1.9)\n",
    "stellarmass_sup_range=(20,60)"
   ]
  },
  {
   "cell_type": "code",
   "execution_count": 17,
   "id": "c54d6dcf-811a-42b8-b4be-90ac56293c60",
   "metadata": {
    "tags": []
   },
   "outputs": [],
   "source": [
    "condition=(subhalos_masses>1e1)\n",
    "Stellar_Indices=np.array(np.where(condition)[0])"
   ]
  },
  {
   "cell_type": "code",
   "execution_count": 19,
   "id": "bf042771-64d0-4b12-a728-7601c8125adb",
   "metadata": {
    "tags": []
   },
   "outputs": [
    {
     "name": "stderr",
     "output_type": "stream",
     "text": [
      "100%|██████████| 1449/1449 [02:27<00:00,  9.81it/s]\n"
     ]
    }
   ],
   "source": [
    "stellar_mass_array=[]\n",
    "for subhalo_id in tqdm(Stellar_Indices):\n",
    "    stellar_mass_array.append(Stellar_Mass(Snapshot=snapshot_end,Subhalo_Id=subhalo_id))"
   ]
  },
  {
   "cell_type": "code",
   "execution_count": 52,
   "id": "f9dd9ddd-4946-48c0-8b33-f404b63f07cb",
   "metadata": {
    "tags": []
   },
   "outputs": [],
   "source": [
    "stellar_mass_array=np.array(stellar_mass_array)\n",
    "inf_condition=((stellar_mass_array > stellarmass_inf_range[0]) & (stellar_mass_array < stellarmass_inf_range[1]))\n",
    "sup_condition=((stellar_mass_array > stellarmass_sup_range[0]) & (stellar_mass_array < stellarmass_sup_range[1]))\n",
    "inf_stellar_mass_indices=np.where(inf_condition)[0]\n",
    "sup_stellar_mass_indices=np.where(sup_condition)[0]"
   ]
  },
  {
   "cell_type": "code",
   "execution_count": 53,
   "id": "3e4d6976-df52-4c8a-8316-4b86dca0d167",
   "metadata": {
    "tags": []
   },
   "outputs": [
    {
     "data": {
      "text/plain": [
       "(41,)"
      ]
     },
     "execution_count": 53,
     "metadata": {},
     "output_type": "execute_result"
    }
   ],
   "source": [
    "inf_stellar_mass_indices.shape"
   ]
  },
  {
   "cell_type": "code",
   "execution_count": 45,
   "id": "c139e820-91fb-4562-a8cf-d875cef9d390",
   "metadata": {
    "tags": []
   },
   "outputs": [
    {
     "data": {
      "text/plain": [
       "(30,)"
      ]
     },
     "execution_count": 45,
     "metadata": {},
     "output_type": "execute_result"
    }
   ],
   "source": [
    "sup_stellar_mass_indices.shape"
   ]
  },
  {
   "cell_type": "code",
   "execution_count": 55,
   "id": "3662d6da-b3c2-4003-91f2-9a184e711351",
   "metadata": {
    "tags": []
   },
   "outputs": [],
   "source": [
    "np.save('inf_stellar_mass_indices.npy',inf_stellar_mass_indices)"
   ]
  },
  {
   "cell_type": "code",
   "execution_count": null,
   "id": "f24cc191-cbb9-447e-84d7-d53cda299d14",
   "metadata": {},
   "outputs": [],
   "source": []
  }
 ],
 "metadata": {
  "kernelspec": {
   "display_name": "Python 3 (ipykernel)",
   "language": "python",
   "name": "python3"
  },
  "language_info": {
   "codemirror_mode": {
    "name": "ipython",
    "version": 3
   },
   "file_extension": ".py",
   "mimetype": "text/x-python",
   "name": "python",
   "nbconvert_exporter": "python",
   "pygments_lexer": "ipython3",
   "version": "3.11.4"
  }
 },
 "nbformat": 4,
 "nbformat_minor": 5
}
