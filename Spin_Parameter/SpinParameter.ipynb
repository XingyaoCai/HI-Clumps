{
 "cells": [
  {
   "cell_type": "code",
   "execution_count": 28,
   "metadata": {},
   "outputs": [],
   "source": [
    "import illustris_python as il\n",
    "import numpy as np\n",
    "import matplotlib.pyplot as plt\n",
    "import matplotlib as mpl\n",
    "basePath ='./sims.TNG/TNG50-1/output'\n",
    "\n",
    "main_subhalo_id=329508\n",
    "main_halo_id=23\n",
    "\n",
    "subhalos_fields=['SubhaloSpin','SubhaloGrNr','SubhaloMass']\n",
    "halos_fields=['Group_M_Mean200','Group_R_Mean200']\n",
    "missing_data_snaps=[31,32,35]\n",
    "full_snaps=[33,40,50,59,67,72,78,84,91,99]\n",
    "\n",
    "\n",
    "missing_data_snaps=[31,32,35]\n",
    "full_snaps=[33,40,50,59,67,72,78,84,91,99]\n",
    "Z_list=[2.32,2.00, 1.90,1.74,1.67,1.60,1.53,1.50,1.41,1.36,1.30,1.25,1.21,1.15,1.11,1.07,1.04,1.00,0.95,0.92,0.89,0.85,0.82,0.79,0.76,0.73,0.7,0.68,0.64,0.62,0.6,0.58,0.55,0.52,0.5,0.48,0.46,0.44,0.42,0.4,0.38,0.36,0.35,0.33,0.31,0.3,0.27,0.26,0.24,0.23,0.21,0.2,0.18,0.17,0.15,0.14,0.13,0.11,0.10,0.08,0.07,0.06,0.05,0.03,0.02,0.01,0.00]"
   ]
  },
  {
   "cell_type": "code",
   "execution_count": 2,
   "metadata": {},
   "outputs": [],
   "source": [
    "tree_fields=['SubfindID','SnapNum']\n",
    "subfindid_snapnum_tree=il.sublink.loadTree(basePath, 99, 329508, fields=tree_fields, onlyMPB=True)"
   ]
  },
  {
   "cell_type": "code",
   "execution_count": 3,
   "metadata": {},
   "outputs": [],
   "source": [
    "subfind_id=subfindid_snapnum_tree['SubfindID']\n",
    "snapshot_num=subfindid_snapnum_tree['SnapNum']"
   ]
  },
  {
   "cell_type": "code",
   "execution_count": 4,
   "metadata": {},
   "outputs": [],
   "source": [
    "def Binary_DataIter(Data_Set1,Data_Set2):\n",
    "    for i in range(0,min(len(Data_Set1),len(Data_Set2))):\n",
    "        yield Data_Set1[i],Data_Set2[i]\n",
    "        \n",
    "def Total_Spin_Cal(Spin_Array):\n",
    "    total_spin=0\n",
    "    for spin in Spin_Array:\n",
    "        total_spin+=(spin)**2\n",
    "    total_spin=total_spin**(1/2)\n",
    "    return total_spin"
   ]
  },
  {
   "cell_type": "code",
   "execution_count": null,
   "metadata": {},
   "outputs": [],
   "source": [
    "main_spin_para=[]\n",
    "rankings=[]\n",
    "snaps_list=[]\n",
    "for current_subfind_id,current_snapshot_num in Binary_DataIter(subfind_id,snapshot_num):\n",
    "    if current_snapshot_num in missing_data_snaps: continue\n",
    "    if current_snapshot_num < 30: break\n",
    "    subhalos_data=il.groupcat.loadSubhalos(basePath,current_snapshot_num, fields=subhalos_fields)   \n",
    "    halos_data=il.groupcat.loadHalos(basePath,current_snapshot_num,fields=halos_fields)\n",
    "    header=il.groupcat.loadHeader(basePath, current_snapshot_num)\n",
    "    \n",
    "    time=header['Time']\n",
    "    \n",
    "    subhalos_spin=subhalos_data['SubhaloSpin']\n",
    "    halos_id=subhalos_data['SubhaloGrNr']\n",
    "    subhalos_mass=subhalos_data['SubhaloMass']\n",
    "\n",
    "    Group_M_200s=halos_data['Group_M_Mean200']\n",
    "    Group_R_200s=halos_data['Group_R_Mean200']\n",
    "    \n",
    "    current_galaxy_mass=subhalos_mass[current_subfind_id]\n",
    "    \n",
    "    condition = (subhalos_mass > 0.5*current_galaxy_mass) & (subhalos_mass < 2.5*current_galaxy_mass)\n",
    "    index_list = np.where(condition)[0]\n",
    "    subhalos_spin_para=list()\n",
    "    subhalos_mass_list=list()\n",
    "    for index in index_list:\n",
    "        subhalo_spin=subhalos_spin[index]\n",
    "        halo_id=halos_id[index]\n",
    "        Group_M_200=halos_data['Group_M_Mean200'][halo_id]\n",
    "        Group_R_200=halos_data['Group_R_Mean200'][halo_id]/0.704\n",
    "\n",
    "    \n",
    "        subhalo_spin=subhalos_data['SubhaloSpin'][index]\n",
    "        V_200=(43007.1*Group_M_200/Group_R_200)**(1/2)\n",
    "    \n",
    "        Spin=Total_Spin_Cal(subhalo_spin)\n",
    "        CoSpin=Spin/time\n",
    "        spin_parameter=CoSpin/V_200/Group_R_200\n",
    "    \n",
    "        subhalos_spin_para.append(spin_parameter)\n",
    "        subhalos_mass_list.append(subhalos_mass[index])\n",
    "        \n",
    "    subhalos_spin_para=np.array(subhalos_spin_para)\n",
    "    subhalos_mass_list=np.array(subhalos_mass_list)\n",
    "    \n",
    "    id_in_sublist=np.where(subhalos_mass_list==current_galaxy_mass)[0]\n",
    "    main_spin_para.append(subhalos_spin_para[id_in_sublist])\n",
    "    snaps_list.append(current_snapshot_num)\n",
    "    \n",
    "    sorted_spin_array = sorted(subhalos_spin_para, reverse=True)\n",
    "    rank = sorted_spin_array.index(subhalos_spin_para[id_in_sublist]) + 1\n",
    "    rankings.append(rank)\n",
    "    \n",
    "    print(subhalos_spin_para[id_in_sublist][0],rank,current_snapshot_num)"
   ]
  },
  {
   "cell_type": "code",
   "execution_count": 31,
   "metadata": {},
   "outputs": [
    {
     "data": {
      "text/plain": [
       "([<matplotlib.axis.XTick at 0x7f7cdacc57b8>,\n",
       "  <matplotlib.axis.XTick at 0x7f7cdacc50f0>,\n",
       "  <matplotlib.axis.XTick at 0x7f7cdacbfe10>,\n",
       "  <matplotlib.axis.XTick at 0x7f7cdace3a20>,\n",
       "  <matplotlib.axis.XTick at 0x7f7cdace3eb8>,\n",
       "  <matplotlib.axis.XTick at 0x7f7cdac6d358>,\n",
       "  <matplotlib.axis.XTick at 0x7f7cdac6d860>,\n",
       "  <matplotlib.axis.XTick at 0x7f7cdac6dcc0>,\n",
       "  <matplotlib.axis.XTick at 0x7f7cdac751d0>,\n",
       "  <matplotlib.axis.XTick at 0x7f7cdac756a0>,\n",
       "  <matplotlib.axis.XTick at 0x7f7cdac75b70>,\n",
       "  <matplotlib.axis.XTick at 0x7f7cdac75c18>],\n",
       " <a list of 12 Text xticklabel objects>)"
      ]
     },
     "execution_count": 31,
     "metadata": {},
     "output_type": "execute_result"
    },
    {
     "data": {
      "image/png": "[encoded data removed]",
      "text/plain": [
       "<Figure size 432x288 with 1 Axes>"
      ]
     },
     "metadata": {
      "needs_background": "light"
     },
     "output_type": "display_data"
    }
   ],
   "source": [
    "rankings_array=np.array(rankings)\n",
    "snapshot_array=np.array(snaps_list)\n",
    "z_array=np.flipud(np.array(Z_list))\n",
    "plt.plot(snapshot_array,rankings_array)\n",
    "plt.gca().invert_yaxis()\n",
    "plt.xticks(snapshot_array[::6],z_array[::6])"
   ]
  },
  {
   "cell_type": "code",
   "execution_count": null,
   "metadata": {},
   "outputs": [],
   "source": []
  }
 ],
 "metadata": {
  "kernelspec": {
   "display_name": "Python 3",
   "language": "python",
   "name": "python3"
  },
  "language_info": {
   "codemirror_mode": {
    "name": "ipython",
    "version": 3
   },
   "file_extension": ".py",
   "mimetype": "text/x-python",
   "name": "python",
   "nbconvert_exporter": "python",
   "pygments_lexer": "ipython3",
   "version": "3.6.7"
  }
 },
 "nbformat": 4,
 "nbformat_minor": 2
}
