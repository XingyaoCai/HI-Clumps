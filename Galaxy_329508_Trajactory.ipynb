{
 "cells": [
  {
   "cell_type": "code",
   "execution_count": 1,
   "metadata": {},
   "outputs": [],
   "source": [
    "import os\n",
    "import gc\n",
    "from tqdm import tqdm\n",
    "import illustris_python as il\n",
    "import numpy as np\n",
    "import matplotlib.pyplot as plt\n",
    "import matplotlib as mpl\n",
    "import math\n",
    "\n",
    "# %matplotlib widget\n",
    "basePath = \"./sims.TNG/TNG50-1/output\"\n",
    "\n",
    "Snapshot_Init = 71\n",
    "Snapshot_End = 99\n",
    "Lbsg_Indcies_Array = np.array(\n",
    "    [117251, 300903, 324123, 329508, 382215,\n",
    "        400973, 419618, 457431, 460722, 490814]\n",
    ")\n",
    "\n",
    "h = 0.6774  # km/Mpc\n",
    "\n",
    "m_dm = 4.5e-5  # E10M_Sum\n",
    "m_dm_h = m_dm * h\n",
    "\n",
    "Critial_Density = 1.27e-8  # E10M_Sum/kpc^3\n",
    "Critial_Density_h = Critial_Density / h**2  # E10M_Sum/(kpc/h)^3\n"
   ]
  },
  {
   "cell_type": "code",
   "execution_count": 2,
   "metadata": {},
   "outputs": [],
   "source": [
    "Subhalo_Index_At_99=329508\n",
    "Subhalo_Dict_At_99=il.groupcat.loadSingle(basePath,Snapshot_End,-1,Subhalo_Index_At_99)\n"
   ]
  },
  {
   "cell_type": "code",
   "execution_count": 4,
   "metadata": {},
   "outputs": [],
   "source": [
    "Sublink_Fields=['SubfindID','SnapNum']\n"
   ]
  },
  {
   "cell_type": "code",
   "execution_count": 7,
   "metadata": {},
   "outputs": [
    {
     "data": {
      "text/plain": [
       "{'count': 99,\n",
       " 'SubfindID': array([329508, 329045, 325941, 323872, 322167, 318956, 315009, 314669,\n",
       "        309873, 302211, 299817, 295276, 293174, 289164, 286487, 280379,\n",
       "        273994, 271730, 269975, 268108, 264326, 262399, 260935, 257844,\n",
       "        254640, 247555, 250593, 241928, 232377, 220165, 215980, 214057,\n",
       "        211991, 209820, 205211, 184704, 171321, 170176, 163331, 162126,\n",
       "        158822, 156135, 157140, 154894, 152796, 144633, 145765, 140683,\n",
       "        156816, 153494, 151763, 145660, 139042, 130895, 121961, 120173,\n",
       "        118400, 119619, 107743,  98181,  99770,  95286,  88903,  81233,\n",
       "         73786,  80035,  74681,  69878,  70455,  60695,  52413,  46598,\n",
       "         43668,  47335,  43126,  59516,  62481,  49323,  41369,  35088,\n",
       "         29554,  25162,  36050,  28415,  24744,  19723,  11819,   9261,\n",
       "         37024,  32301,  25961,  20231,  18981,  14193,   9425,   7250,\n",
       "         10708,   5002,   9308], dtype=int32),\n",
       " 'SnapNum': array([99, 98, 97, 96, 95, 94, 93, 92, 91, 90, 89, 88, 87, 86, 85, 84, 83,\n",
       "        82, 81, 80, 79, 78, 77, 76, 75, 74, 73, 72, 71, 70, 69, 68, 67, 66,\n",
       "        65, 64, 63, 62, 61, 60, 59, 58, 57, 56, 55, 54, 53, 52, 51, 50, 49,\n",
       "        48, 47, 46, 45, 44, 43, 42, 41, 40, 39, 38, 37, 36, 35, 34, 33, 32,\n",
       "        31, 30, 29, 28, 27, 26, 25, 24, 23, 22, 21, 20, 19, 18, 17, 16, 15,\n",
       "        14, 13, 12, 11, 10,  9,  8,  7,  6,  5,  4,  3,  2,  1],\n",
       "       dtype=int16)}"
      ]
     },
     "execution_count": 7,
     "metadata": {},
     "output_type": "execute_result"
    }
   ],
   "source": [
    "il.sublink.loadTree(basePath,99,Subhalo_Index_At_99,onlyMPB=1,fields=Sublink_Fields)\n"
   ]
  },
  {
   "cell_type": "code",
   "execution_count": 10,
   "metadata": {},
   "outputs": [
    {
     "ename": "",
     "evalue": "",
     "output_type": "error",
     "traceback": [
      "\u001b[1;31mCanceled future for execute_request message before replies were done"
     ]
    }
   ],
   "source": [
    "gas_data=il.snapshot.loadSubhalo(basePath, 98, 329045, 'gas', fields=['Coordinates','Masses'])\n",
    "\n",
    "\n",
    "GasCoordinates = gas_data['Coordinates']\n",
    "Masses = gas_data['Masses']\n",
    "\n",
    "\n",
    "\n",
    "GasCoorMin = GasCoordinates.min(axis=0)\n",
    "GasCoorMax = GasCoordinates.max(axis=0)\n",
    "plt.figure(figsize=(12, 12), dpi=200)\n",
    "\n",
    "plt.style.use(\"dark_background\")\n",
    "bars=(GasCoorMax-GasCoorMin)/10\n",
    "h, _, _, image = plt.hist2d(GasCoordinates[:, 1],\n",
    "                            GasCoordinates[:, 2],\n",
    "                            weights=Masses,\n",
    "\n",
    "                            norm=mpl.colors.LogNorm(),\n",
    "                            bins=(int(bars[1]),int(bars[2])))\n",
    "plt.xlim([GasCoorMin[1],GasCoorMax[1]])\n",
    "plt.ylim([GasCoorMin[2],GasCoorMax[2]])\n",
    "plt.xlabel('y [ckpc/h]')\n",
    "plt.ylabel('z [ckpc/h]')\n",
    "\n",
    "    #draw_circle = plt.Circle(( CircleCenter[1],  CircleCenter[2]), 150, fill=False)\n",
    "    #plt.gcf().gca().add_artist(draw_circle)\n",
    "plt.colorbar(image)\n",
    "plt.gca().set_aspect(1)\n"
   ]
  },
  {
   "cell_type": "code",
   "execution_count": null,
   "metadata": {},
   "outputs": [],
   "source": []
  }
 ],
 "metadata": {
  "kernelspec": {
   "display_name": "Python 3 (ipykernel)",
   "language": "python",
   "name": "python3"
  },
  "language_info": {
   "codemirror_mode": {
    "name": "ipython",
    "version": 3
   },
   "file_extension": ".py",
   "mimetype": "text/x-python",
   "name": "python",
   "nbconvert_exporter": "python",
   "pygments_lexer": "ipython3",
   "version": "3.11.4"
  }
 },
 "nbformat": 4,
 "nbformat_minor": 2
}
