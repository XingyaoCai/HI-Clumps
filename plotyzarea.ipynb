{
 "cells": [
  {
   "cell_type": "code",
   "execution_count": 1,
   "metadata": {},
   "outputs": [],
   "source": [
    "import illustris_python as il\n",
    "import numpy as np\n",
    "import matplotlib.pyplot as plt\n",
    "import matplotlib as mpl\n",
    "#%matplotlib widget\n",
    "basePath ='./sims.TNG/TNG50-1/output'\n",
    "from tqdm import tqdm\n",
    "import gc\n",
    "\n",
    "fields=['SubhaloPos','SubhaloMass']\n"
   ]
  },
  {
   "cell_type": "code",
   "execution_count": 2,
   "metadata": {},
   "outputs": [],
   "source": [
    "class Cell:\n",
    "    def __init__(self):\n",
    "        self.Coordinate = np.array([0.0, 0.0, 0.0])\n",
    "        self.Mass = 0.0\n",
    "\n",
    "\n",
    "class Cloud:\n",
    "    def __init__(self, x_range, y_range):\n",
    "        x_min, x_max = x_range\n",
    "        y_min, y_max = y_range\n",
    "        x_centers = np.arange(x_min + 0.25, x_max, 0.5)\n",
    "        y_centers = np.arange(y_min + 0.25, y_max, 0.5)\n",
    "        xx, yy = np.meshgrid(x_centers, y_centers)\n",
    "        self.cells = [Cell() for _ in range(xx.size)]\n",
    "        self.x_range = x_range\n",
    "        self.y_range = y_range\n",
    "        self.assign_coordinates(xx.flatten(), yy.flatten())\n",
    "\n",
    "    def assign_coordinates(self, x_coords, y_coords):\n",
    "        for i, cell in enumerate(self.cells):\n",
    "            cell.Coordinate = np.array([0.0, y_coords[i], x_coords[i]])\n",
    "\n",
    "    def assign_mass(self, coordinates: np.ndarray, masses: np.ndarray):\n",
    "        x_min, x_max = self.x_range\n",
    "        y_min, y_max = self.y_range\n",
    "        x_bars = int((x_max - x_min) / 0.5)\n",
    "        for i in range(coordinates.shape[0]):\n",
    "            coord = coordinates[i]\n",
    "            mass = masses[i]\n",
    "            x_index = int((coord[1] - x_min) / 0.5)\n",
    "            y_index = int((coord[2] - y_min) / 0.5)\n",
    "            if x_index >= x_bars or y_index >= x_bars:\n",
    "                continue\n",
    "            index = x_index * x_bars + y_index\n",
    "            self.cells[index].Mass += mass\n",
    "\n",
    "    def visualize(self, savePath):\n",
    "        plt.figure(figsize=(20, 20), dpi=300)\n",
    "        plt.style.use(\"dark_background\")\n",
    "        x_range, y_range = self.x_range, self.y_range\n",
    "        plt.hist2d([cell.Coordinate[1] for cell in self.cells], [cell.Coordinate[2] for cell in self.cells], norm=mpl.colors.LogNorm(),cmin=0.00005, bins=[int((y_range[1]-y_range[0])*2), int((x_range[1]-x_range[0])*2)], weights=[cell.Mass for cell in self.cells])\n",
    "        plt.xlabel('y [ckpc/h]')\n",
    "        plt.ylabel('z [ckpc/h]')\n",
    "        plt.ylim(self.x_range[0],self.x_range[1])\n",
    "        plt.xlim(self.y_range[0],self.y_range[1])\n",
    "        plt.axes().get_xaxis().set_visible(False)\n",
    "        plt.axes().get_yaxis().set_visible(False)\n",
    "        plt.axis('equal')\n",
    "        plt.savefig(savePath)\n",
    "        plt.close('all')\n",
    "\n",
    "    def reset(self):\n",
    "        for cell in self.cells:\n",
    "            cell.Coordinate = np.array([0.0, 0.0, 0.0])\n",
    "            cell.Mass = 0.0\n",
    "            \n",
    "def Binary_DataIter(Data_Set1,Data_Set2):\n",
    "    for i in range(0,min(len(Data_Set1),len(Data_Set2))):\n",
    "        yield Data_Set1[i],Data_Set2[i]"
   ]
  },
  {
   "cell_type": "code",
   "execution_count": 3,
   "metadata": {},
   "outputs": [
    {
     "data": {
      "text/plain": [
       "0"
      ]
     },
     "execution_count": 3,
     "metadata": {},
     "output_type": "execute_result"
    }
   ],
   "source": [
    "tree_fields=['SubfindID','SnapNum']\n",
    "subfindid_snapnum_tree=il.sublink.loadTree(basePath, 99, 329508, fields=tree_fields, onlyMPB=True)\n",
    "subfind_id=subfindid_snapnum_tree['SubfindID']\n",
    "snapshot_num=subfindid_snapnum_tree['SnapNum']\n",
    "del subfindid_snapnum_tree\n",
    "gc.collect()"
   ]
  },
  {
   "cell_type": "code",
   "execution_count": 4,
   "metadata": {},
   "outputs": [
    {
     "name": "stderr",
     "output_type": "stream",
     "text": [
      "100%|██████████| 4463/4463 [02:20<00:00, 31.86it/s] \n",
      "/opt/conda/lib/python3.6/site-packages/matplotlib/cbook/deprecation.py:107: MatplotlibDeprecationWarning: Adding an axes using the same arguments as a previous axes currently reuses the earlier instance.  In a future version, a new instance will always be created and returned.  Meanwhile, this warning can be suppressed, and the future behavior ensured, by passing a unique label to each axes instance.\n",
      "  warnings.warn(message, mplDeprecation, stacklevel=1)\n",
      "/opt/conda/lib/python3.6/site-packages/matplotlib/colors.py:1031: RuntimeWarning: invalid value encountered in less_equal\n",
      "  mask |= resdat <= 0\n",
      "100%|██████████| 4450/4450 [02:27<00:00, 30.08it/s] \n",
      "100%|██████████| 4422/4422 [01:36<00:00, 45.60it/s] \n",
      "100%|██████████| 4413/4413 [02:32<00:00, 28.95it/s]\n",
      "100%|██████████| 4397/4397 [02:23<00:00, 30.70it/s] \n"
     ]
    }
   ],
   "source": [
    "for current_subfind_id,current_snapshot_num in Binary_DataIter(subfind_id,snapshot_num):\n",
    "    if current_snapshot_num < 70: break\n",
    "    if current_snapshot_num>74:continue    \n",
    "    subhalo_data=il.groupcat.loadSubhalos(basePath, current_snapshot_num, fields=fields)\n",
    "    Positions=subhalo_data['SubhaloPos']\n",
    "    Mass=subhalo_data['SubhaloMass']\n",
    "    GalaxyPos=Positions[current_subfind_id]\n",
    "    \n",
    "    xmin=GalaxyPos[1]-1100\n",
    "    xmax=GalaxyPos[1]+1100\n",
    "    \n",
    "    ymin=GalaxyPos[2]-1100\n",
    "    ymax=GalaxyPos[2]+1100\n",
    "    \n",
    "    condition = (Positions[:, 1] >= xmin) & (Positions[:, 1] <= xmax) & (Positions[:, 2] >= ymin) & (Positions[:, 2] <= ymax) & (Mass > 0.01)\n",
    "    index = np.where(condition)[0]\n",
    "\n",
    "    del subhalo_data,Positions,Mass,condition,GalaxyPos\n",
    "    gc.collect()\n",
    "    cloud=Cloud([int(xmin+100),int(xmin+2100)],[int(ymin+100),int(ymin+2100)])\n",
    "    \n",
    "    for i in tqdm(index):\n",
    "        cell_data=il.snapshot.loadSubhalo(basePath, current_snapshot_num, i, 'gas', fields=['Coordinates','Masses'])\n",
    "        if len(cell_data)==1:continue\n",
    "        GasCoordinates = cell_data['Coordinates']\n",
    "        Masses = cell_data['Masses']\n",
    "\n",
    "        cloud.assign_mass(GasCoordinates, Masses)\n",
    "        del GasCoordinates,Masses\n",
    "\n",
    "        \n",
    "    del index\n",
    "    cloud.visualize('./areafigsyz/{}.png'.format(current_snapshot_num))\n",
    "    del cloud\n",
    "    gc.collect()"
   ]
  },
  {
   "cell_type": "code",
   "execution_count": null,
   "metadata": {},
   "outputs": [],
   "source": []
  }
 ],
 "metadata": {
  "kernelspec": {
   "display_name": "Python 3",
   "language": "python",
   "name": "python3"
  },
  "language_info": {
   "codemirror_mode": {
    "name": "ipython",
    "version": 3
   },
   "file_extension": ".py",
   "mimetype": "text/x-python",
   "name": "python",
   "nbconvert_exporter": "python",
   "pygments_lexer": "ipython3",
   "version": "3.6.7"
  }
 },
 "nbformat": 4,
 "nbformat_minor": 2
}
