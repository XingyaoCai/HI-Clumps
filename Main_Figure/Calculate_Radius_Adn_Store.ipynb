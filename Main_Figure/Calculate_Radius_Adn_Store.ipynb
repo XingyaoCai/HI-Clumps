{
 "cells": [
  {
   "cell_type": "code",
   "execution_count": 18,
   "metadata": {},
   "outputs": [],
   "source": [
    "import illustris_python as il\n",
    "import numpy as np\n",
    "import matplotlib.pyplot as plt\n",
    "plt.rcParams[\"font.family\"] = \"serif\"\n",
    "plt.rcParams[\"font.serif\"] = \"DejaVu Serif\"\n",
    "import matplotlib as mpl\n",
    "import h5py\n",
    "import multiprocessing\n",
    "from tqdm import tqdm\n",
    "\n",
    "\n",
    "\n",
    "# %matplotlib widget\n",
    "basePath = \"./sims.TNG/TNG50-1/output\"\n",
    "from tqdm import tqdm\n",
    "import gc\n",
    "import os\n",
    "\n",
    "Snapshot_Init = 50\n",
    "Snapshot_End = 99\n",
    "\n",
    "h = 0.6774  # km/Mpc\n",
    "\n",
    "m_dm = 4.5e-5  # E10M_Sum\n",
    "m_dm_h = m_dm * h\n",
    "\n",
    "Critial_Density = 1.27e-8  # E10M_Sum/kpc^3\n",
    "Critial_Density_h = Critial_Density / h**2  # E10M_Sum/(kpc/h)^3\n",
    "\n",
    "Host_Index_At_99 = 329508\n",
    "Host_Index_At_98 = 329045\n",
    "Satellite_Index_At_98 = 329051\n",
    "\n",
    "Full_Snapshots=np.array([50,59,67,72,78,84,91,99])"
   ]
  },
  {
   "cell_type": "code",
   "execution_count": 3,
   "metadata": {},
   "outputs": [],
   "source": [
    "Subhalos_Fields=['SubhaloMassType','SubhaloPos','SubhaloMass']\n",
    "Subhalos_Dict=il.groupcat.loadSubhalos(basePath, Snapshot_End, fields=Subhalos_Fields)"
   ]
  },
  {
   "cell_type": "code",
   "execution_count": 8,
   "metadata": {},
   "outputs": [],
   "source": [
    "Subhalos_Stellar_Mass=Subhalos_Dict['SubhaloMassType'][:,4]/h\n",
    "stellar_condition=Subhalos_Stellar_Mass>1\n",
    "Subhalos_Gas_Mass=Subhalos_Dict['SubhaloMassType'][:,0]/h\n",
    "gas_condition=Subhalos_Gas_Mass>1\n",
    "Subhalo_Mass=Subhalos_Dict['SubhaloMass']/h\n",
    "mass_condition=Subhalo_Mass<10000\n",
    "Subhalos_Indices=np.where(stellar_condition&gas_condition&mass_condition)[0]\n"
   ]
  },
  {
   "cell_type": "code",
   "execution_count": 16,
   "metadata": {},
   "outputs": [
    {
     "data": {
      "text/plain": [
       "(706,)"
      ]
     },
     "execution_count": 16,
     "metadata": {},
     "output_type": "execute_result"
    }
   ],
   "source": [
    "Subhalos_Indices.shape"
   ]
  },
  {
   "cell_type": "code",
   "execution_count": 17,
   "metadata": {},
   "outputs": [],
   "source": [
    "Gas_Fields=['Masses','Coordinates','NeutralHydrogenAbundance']\n",
    "Stars_Fields=['Masses','Coordinates']"
   ]
  },
  {
   "cell_type": "code",
   "execution_count": 5,
   "metadata": {},
   "outputs": [],
   "source": [
    "def batch_distance_calculation(pos1, pos2, boxsize=None):\n",
    "    # 计算每个点与目标点的距离\n",
    "    dxs = np.abs(pos1[:, 0] - pos2[0])\n",
    "    dys = np.abs(pos1[:, 1] - pos2[1])\n",
    "    dzs = np.abs(pos1[:, 2] - pos2[2])\n",
    "\n",
    "    # 考虑周期性边界条件\n",
    "    if boxsize is not None:\n",
    "        dxs2 = np.abs(boxsize - dxs)\n",
    "        dys2 = np.abs(boxsize - dys)\n",
    "        dzs2 = np.abs(boxsize - dzs)\n",
    "\n",
    "        # 在周期性边界条件下，选择最短的距离\n",
    "        dxs = np.minimum(dxs, dxs2)\n",
    "        dys = np.minimum(dys, dys2)\n",
    "        dzs = np.minimum(dzs, dzs2)\n",
    "\n",
    "    # 计算三维空间点之间的欧氏距离\n",
    "    distances = np.linalg.norm(np.vstack([dxs, dys, dzs]).T, axis=1)\n",
    "\n",
    "    return distances\n",
    "\n",
    "\n",
    "def Radius90(Particles_Coordinates,Particles_Masses,Center):\n",
    "    boxsize=51700\n",
    "    Particles_Distance=batch_distance_calculation(Particles_Coordinates,Center,boxsize)\n",
    "    Particles_Distance_Sorted=np.sort(Particles_Distance)\n",
    "    Particles_Masses_Sorted=Particles_Masses[np.argsort(Particles_Distance)]\n",
    "    Masses_Cumulative=np.cumsum(Particles_Masses_Sorted)\n",
    "    Masses_Cumulative_Normalized=Masses_Cumulative/Masses_Cumulative[-1]\n",
    "    Radius90=Particles_Distance_Sorted[np.where(Masses_Cumulative_Normalized>=0.9)[0][0]]\n",
    "    Radius50=Particles_Distance_Sorted[np.where(Masses_Cumulative_Normalized>=0.5)[0][0]]\n",
    "    return Radius90,Radius50\n",
    "\n",
    "def Radius90_Process_And_Save(Subhalo_Index):\n",
    "    Subhalo_Dict=il.groupcat.loadSingle(basePath, Snapshot_End, -1,Subhalo_Index)\n",
    "    Subhalo_Center=Subhalo_Dict['SubhaloPos']/h\n",
    "    Subhalo_Mass=Subhalo_Dict['SubhaloMass']/h\n",
    "    if Subhalo_Mass>10000:\n",
    "        HI_Radius90=-1\n",
    "        Stars_Radius90=-1\n",
    "        File=dict()\n",
    "        File['Subhalo_Index']=Subhalo_Index\n",
    "        File['Subhalo_MassType']=Subhalo_Dict['SubhaloMassType']/h\n",
    "        File['HI_Radius90']=HI_Radius90\n",
    "        File['HI_Radius50']=HI_Radius90\n",
    "        File['Stars_Radius50']=Stars_Radius90\n",
    "        File['Stars_Radius90']=Stars_Radius90\n",
    "        hdf5_filename=str(Subhalo_Index)+'.hdf5'\n",
    "        hdf5_path=os.path.join('./Radius90',hdf5_filename)\n",
    "        with h5py.File(hdf5_path,'w') as f:\n",
    "            for key in File.keys():\n",
    "                f[key]=File[key]\n",
    "        return 0\n",
    "\n",
    "    Gas_Dict=il.snapshot.loadSubhalo(basePath, Snapshot_End, Subhalo_Index,'gas',fields=Gas_Fields)\n",
    "    if len(Gas_Dict)==1:\n",
    "        HI_Radius90=0\n",
    "        Stars_Radius90=0\n",
    "        File=dict()\n",
    "        File['Subhalo_Index']=Subhalo_Index\n",
    "        File['Subhalo_MassType']=Subhalo_Dict['SubhaloMassType']/h\n",
    "        File['HI_Radius90']=HI_Radius90\n",
    "        File['HI_Radius50']=HI_Radius90\n",
    "        File['Stars_Radius50']=Stars_Radius90\n",
    "        File['Stars_Radius90']=Stars_Radius90\n",
    "        hdf5_filename=str(Subhalo_Index)+'.hdf5'\n",
    "        hdf5_path=os.path.join('./Radius90',hdf5_filename)\n",
    "        with h5py.File(hdf5_path,'w') as f:\n",
    "            for key in File.keys():\n",
    "                f[key]=File[key]\n",
    "        return 0\n",
    "    Gas_Coordinates=Gas_Dict['Coordinates']/h\n",
    "    Gas_Masses=Gas_Dict['Masses']/h\n",
    "    Gas_NeutralHydrogenAbundance=Gas_Dict['NeutralHydrogenAbundance']\n",
    "    Gas_NeutralHydrogen_Masses=Gas_Masses*Gas_NeutralHydrogenAbundance\n",
    "\n",
    "\n",
    "\n",
    "    HI_Radius90=Radius90(Gas_Coordinates,Gas_NeutralHydrogen_Masses,Subhalo_Center)\n",
    "    del Gas_Dict,Gas_Coordinates,Gas_Masses,Gas_NeutralHydrogenAbundance,Gas_NeutralHydrogen_Masses\n",
    "\n",
    "    Stars_Dict=il.snapshot.loadSubhalo(basePath, Snapshot_End, Subhalo_Index,'stars',fields=Stars_Fields)\n",
    "    Stars_Coordinates=Stars_Dict['Coordinates']/h\n",
    "    Stars_Masses=Stars_Dict['Masses']/h\n",
    "    Stars_Radius90=Radius90(Stars_Coordinates,Stars_Masses,Subhalo_Center)\n",
    "    del Stars_Dict,Stars_Coordinates,Stars_Masses\n",
    "\n",
    "    File=dict()\n",
    "    File['Subhalo_Index']=Subhalo_Index\n",
    "    File['Subhalo_MassType']=Subhalo_Dict['SubhaloMassType']/h\n",
    "    File['HI_Radius90']=HI_Radius90[0]\n",
    "    File['HI_Radius50']=HI_Radius90[1]\n",
    "    File['Stars_Radius90']=Stars_Radius90[0]\n",
    "    File['Stars_Radius50']=Stars_Radius90[1]\n",
    "\n",
    "\n",
    "    hdf5_filename=str(Subhalo_Index)+'.hdf5'\n",
    "    hdf5_path=os.path.join('./Radius90',hdf5_filename)\n",
    "    with h5py.File(hdf5_path,'w') as f:\n",
    "        for key in File.keys():\n",
    "            f[key]=File[key]\n",
    "    return 0"
   ]
  },
  {
   "cell_type": "code",
   "execution_count": 6,
   "metadata": {},
   "outputs": [],
   "source": [
    "def Detect_Mkdir(Path):\n",
    "    if not (os.path.exists(Path)):\n",
    "        os.makedirs(Path)\n",
    "    return Path"
   ]
  },
  {
   "cell_type": "code",
   "execution_count": 9,
   "metadata": {},
   "outputs": [],
   "source": [
    "hdf5_filepath=Detect_Mkdir('./Radius90')\n",
    "import multiprocessing"
   ]
  },
  {
   "cell_type": "code",
   "execution_count": 25,
   "metadata": {},
   "outputs": [
    {
     "name": "stderr",
     "output_type": "stream",
     "text": [
      "  0%|          | 0/3 [00:00<?, ?it/s]"
     ]
    },
    {
     "name": "stderr",
     "output_type": "stream",
     "text": [
      "100%|██████████| 3/3 [02:31<00:00, 50.42s/it]\n"
     ]
    },
    {
     "name": "stdout",
     "output_type": "stream",
     "text": [
      "All processes have finished.\n"
     ]
    }
   ],
   "source": [
    "def process_subhaloindex(i,Subhalo_Indices_Chunks):\n",
    "    Subhalo_Indices=Subhalo_Indices_Chunks[i]\n",
    "    for Subhalo_Index in tqdm(Subhalo_Indices):\n",
    "        Radius90_Process_And_Save(Subhalo_Index)\n",
    "\n",
    "def chunks(lst, chunk_size):\n",
    "    for i in range(0, len(lst), chunk_size):\n",
    "        yield lst[i:i + chunk_size]\n",
    "\n",
    "processes = []\n",
    "num_processes = 2\n",
    "Subhalo_Indices = missing_indices\n",
    "from random import shuffle\n",
    "shuffle(Subhalo_Indices)\n",
    "\n",
    "Subhalo_Indices_Chunks = list(chunks(Subhalo_Indices, len(Subhalo_Indices) // num_processes))\n",
    "\n",
    "for i in range(num_processes):\n",
    "    process = multiprocessing.Process(target=process_subhaloindex, args=((i,Subhalo_Indices_Chunks)))\n",
    "    processes.append(process)\n",
    "\n",
    "# 启动进程\n",
    "for process in processes:\n",
    "    process.start()\n",
    "\n",
    "# 等待所有进程完成\n",
    "for process in processes:\n",
    "    process.join()\n",
    "\n",
    "print(\"All processes have finished.\")"
   ]
  },
  {
   "cell_type": "code",
   "execution_count": 26,
   "metadata": {},
   "outputs": [],
   "source": [
    "\n",
    "hdf5_File_Path = './Radius90'\n",
    "hdf5_files = [f for f in os.listdir(hdf5_File_Path) if f.endswith('.hdf5')]\n",
    "with h5py.File(os.path.join(hdf5_File_Path, hdf5_files[0]), 'r') as file:\n",
    "    # 获取文件中的 keys\n",
    "    hdf5_keys = list(file.keys())"
   ]
  },
  {
   "cell_type": "code",
   "execution_count": 27,
   "metadata": {},
   "outputs": [
    {
     "name": "stdout",
     "output_type": "stream",
     "text": [
      "(3,) (3295,)\n"
     ]
    }
   ],
   "source": [
    "calculated_indices = []\n",
    "for subindex in range(len(hdf5_files)):\n",
    "    calculated_indices.append(int(hdf5_files[subindex][:-5]))\n",
    "calculated_indices = np.array(calculated_indices)\n",
    "missing_indices = []\n",
    "for subindex in Subhalos_Stellar_Mass_Indices:\n",
    "    if subindex not in calculated_indices:\n",
    "        missing_indices.append(subindex)\n",
    "missing_indices = np.array(missing_indices)\n",
    "print(missing_indices.shape,Subhalos_Stellar_Mass_Indices.shape)"
   ]
  },
  {
   "cell_type": "code",
   "execution_count": 28,
   "metadata": {},
   "outputs": [
    {
     "ename": "",
     "evalue": "",
     "output_type": "error",
     "traceback": [
      "\u001b[1;31mThe Kernel crashed while executing code in the the current cell or a previous cell. Please review the code in the cell(s) to identify a possible cause of the failure. Click <a href='https://aka.ms/vscodeJupyterKernelCrash'>here</a> for more info. View Jupyter <a href='command:jupyter.viewOutput'>log</a> for further details."
     ]
    },
    {
     "ename": "",
     "evalue": "",
     "output_type": "error",
     "traceback": [
      "\u001b[1;31mCanceled future for execute_request message before replies were done"
     ]
    }
   ],
   "source": [
    "for i in missing_indices:\n",
    "    Radius90_Process_And_Save(i)"
   ]
  },
  {
   "cell_type": "markdown",
   "metadata": {},
   "source": [
    "how to identify the disk structure in the simulation using the particle distribution?\n",
    "\n",
    "1. Find a centre for the subhalo, then define multiple orentations for the disk.\n",
    "2. For each oreintation, calculate the half mass distance for the subalo, centred at the centre defined before.\n",
    "3. For each oreintation, calculate the half mass distance for a peculiar disk, centred at the centre defined before.\n",
    "4. Compare the two half mass distances, if they are similar, then the disk is face-on, otherwise it is edge-on. Then you can say the diskstruc"
   ]
  },
  {
   "cell_type": "code",
   "execution_count": null,
   "metadata": {},
   "outputs": [],
   "source": []
  }
 ],
 "metadata": {
  "kernelspec": {
   "display_name": "Python 3 (ipykernel)",
   "language": "python",
   "name": "python3"
  }
 },
 "nbformat": 4,
 "nbformat_minor": 2
}
