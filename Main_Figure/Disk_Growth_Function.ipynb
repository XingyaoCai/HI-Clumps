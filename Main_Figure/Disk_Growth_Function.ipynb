{
 "cells": [
  {
   "cell_type": "code",
   "execution_count": 2,
   "metadata": {},
   "outputs": [],
   "source": [
    "import illustris_python as il\n",
    "import numpy as np\n",
    "import matplotlib.pyplot as plt\n",
    "plt.rcParams[\"font.family\"] = \"serif\"\n",
    "plt.rcParams[\"font.serif\"] = \"DejaVu Serif\"\n",
    "import matplotlib as mpl\n",
    "import h5py\n",
    "import multiprocessing\n",
    "from tqdm import tqdm\n",
    "\n",
    "\n",
    "\n",
    "# %matplotlib widget\n",
    "basePath = \"./sims.TNG/TNG50-1/output\"\n",
    "from tqdm import tqdm\n",
    "import gc\n",
    "import os\n",
    "\n",
    "Snapshot_Init = 71\n",
    "Current_Snapshot = 99\n",
    "\n",
    "h = 0.6774  # km/Mpc\n",
    "\n",
    "m_dm = 4.5e-5  # E10M_Sum}\n",
    "m_dm_h = m_dm * h\n",
    "\n",
    "Critial_Density = 1.27e-8  # E10M_Sun/kpc^3\n",
    "Critial_Density_h = Critial_Density / h**2  # E10M_Sun/h/(kpc/h)^3\n"
   ]
  },
  {
   "cell_type": "code",
   "execution_count": 3,
   "metadata": {},
   "outputs": [],
   "source": [
    "Gas_Fields=['Masses','Coordinates','NeutralHydrogenAbundance']\n",
    "Stars_Fields=['Masses','Coordinates']"
   ]
  },
  {
   "cell_type": "code",
   "execution_count": 4,
   "metadata": {},
   "outputs": [],
   "source": [
    "def batch_distance_calculation(pos1, pos2, boxsize=None):\n",
    "    # 计算每个点与目标点的距离\n",
    "    dxs = np.abs(pos1[:, 0] - pos2[0])\n",
    "    dys = np.abs(pos1[:, 1] - pos2[1])\n",
    "    dzs = np.abs(pos1[:, 2] - pos2[2])\n",
    "\n",
    "    # 考虑周期性边界条件\n",
    "    if boxsize is not None:\n",
    "        dxs2 = np.abs(boxsize - dxs)\n",
    "        dys2 = np.abs(boxsize - dys)\n",
    "        dzs2 = np.abs(boxsize - dzs)\n",
    "\n",
    "        # 在周期性边界条件下，选择最短的距离\n",
    "        dxs = np.minimum(dxs, dxs2)\n",
    "        dys = np.minimum(dys, dys2)\n",
    "        dzs = np.minimum(dzs, dzs2)\n",
    "\n",
    "    # 计算三维空间点之间的欧氏距离\n",
    "    distances = np.linalg.norm(np.vstack([dxs, dys, dzs]).T, axis=1)\n",
    "\n",
    "    return distances\n",
    "\n",
    "\n",
    "def Radius90(Particles_Coordinates,Particles_Masses,Center):\n",
    "    boxsize=51700\n",
    "    Particles_Distance=batch_distance_calculation(Particles_Coordinates,Center,boxsize)\n",
    "    Particles_Distance_Sorted=np.sort(Particles_Distance)\n",
    "    Particles_Masses_Sorted=Particles_Masses[np.argsort(Particles_Distance)]\n",
    "    Masses_Cumulative=np.cumsum(Particles_Masses_Sorted)\n",
    "    Masses_Cumulative_Normalized=Masses_Cumulative/Masses_Cumulative[-1]\n",
    "    Radius90=Particles_Distance_Sorted[np.where(Masses_Cumulative_Normalized>=0.9)[0][0]]\n",
    "    Radius60=Particles_Distance_Sorted[np.where(Masses_Cumulative_Normalized>=0.6)[0][0]]\n",
    "    Radius50=Particles_Distance_Sorted[np.where(Masses_Cumulative_Normalized>=0.5)[0][0]]\n",
    "    return Radius90,Radius60,Radius50\n",
    "\n",
    "#def a function, given the Particles_Coordinates, Particles_Masses, Center, return a radius of a sphere which has the density of a given value\n",
    "\n"
   ]
  },
  {
   "cell_type": "code",
   "execution_count": 19,
   "metadata": {},
   "outputs": [],
   "source": [
    "Subhalo_Index=329508\n",
    "Current_Snapshot=99\n",
    "Subhalo_Tree=il.sublink.loadTree(basePath, Current_Snapshot, Subhalo_Index,fields=['SnapNum','SubfindID'],onlyMPB=True)"
   ]
  },
  {
   "cell_type": "code",
   "execution_count": null,
   "metadata": {},
   "outputs": [],
   "source": [
    "Subhalo_Tree"
   ]
  },
  {
   "cell_type": "code",
   "execution_count": 18,
   "metadata": {},
   "outputs": [],
   "source": [
    "Full_Snapshots=np.array([99,91,84,78,72,67,59,50,40,33,25,21,17,13,11,8,6,4,3,2])"
   ]
  },
  {
   "cell_type": "code",
   "execution_count": 81,
   "metadata": {},
   "outputs": [
    {
     "name": "stderr",
     "output_type": "stream",
     "text": [
      "99it [00:47,  2.09it/s]\n"
     ]
    }
   ],
   "source": [
    "HI_R90=list()\n",
    "\n",
    "for Current_Snapshot, Subhalo_Index in tqdm(zip(Subhalo_Tree['SnapNum'],Subhalo_Tree['SubfindID'])):\n",
    "\n",
    "    Subhalo_Dict=il.groupcat.loadSingle(basePath, Current_Snapshot, -1,Subhalo_Index)\n",
    "    Subhalo_Center=Subhalo_Dict['SubhaloPos']/h\n",
    "    Subhalo_Mass=Subhalo_Dict['SubhaloMass']/h\n",
    "\n",
    "    if Current_Snapshot in Full_Snapshots:\n",
    "        Gas_Dict=il.snapshot.loadSubhalo(basePath, Current_Snapshot, Subhalo_Index,'gas',fields=Gas_Fields)\n",
    "        Gas_Coordinates=Gas_Dict['Coordinates']/h\n",
    "        Gas_Masses=Gas_Dict['Masses']/h\n",
    "        Gas_NeutralHydrogenAbundance=Gas_Dict['NeutralHydrogenAbundance']\n",
    "        Gas_NeutralHydrogen_Masses=Gas_Masses*Gas_NeutralHydrogenAbundance\n",
    "        ratio=Subhalo_Dict['SubhaloMassType'][0]/np.sum(Gas_NeutralHydrogen_Masses)/25\n",
    "        HI_Radius90=Density_Radius(Gas_Coordinates,Gas_NeutralHydrogen_Masses,Subhalo_Center,ratio)\n",
    "        HI_R90.append(HI_Radius90)\n"
   ]
  },
  {
   "cell_type": "code",
   "execution_count": 80,
   "metadata": {},
   "outputs": [],
   "source": [
    "\n",
    "\n",
    "#use a function Density_Radius to calculate\n",
    "def Density_Radius(Particles_Coordinates,Particles_Masses,Subhalo_Center,Ratio):\n",
    "    boxsize=51700\n",
    "    Particles_Distance=batch_distance_calculation(Particles_Coordinates,Subhalo_Center,boxsize)\n",
    "    Particles_Distance_Sorted=np.sort(Particles_Distance)\n",
    "    Particles_Masses_Sorted=Particles_Masses[np.argsort(Particles_Distance)]\n",
    "    Masses_Cumulative=np.cumsum(Particles_Masses_Sorted)\n",
    "    Density_Cumulative=Masses_Cumulative/(4/3*np.pi*np.power(Particles_Distance_Sorted,3))\n",
    "    Density_Cumulative_Normalized=Density_Cumulative/Critial_Density/200\n",
    "    Radius=Particles_Distance_Sorted[np.argmax(Density_Cumulative_Normalized):][np.where(Density_Cumulative_Normalized[np.argmax(Density_Cumulative_Normalized):]<Ratio)[0][0]]\n",
    "\n",
    "    return Radius"
   ]
  },
  {
   "cell_type": "code",
   "execution_count": 82,
   "metadata": {},
   "outputs": [
    {
     "data": {
      "text/plain": [
       "[<matplotlib.lines.Line2D at 0x7f18e0ae2410>]"
      ]
     },
     "execution_count": 82,
     "metadata": {},
     "output_type": "execute_result"
    },
    {
     "data": {
      "image/png": "[encoded data removed]",
      "text/plain": [
       "<Figure size 640x480 with 1 Axes>"
      ]
     },
     "metadata": {},
     "output_type": "display_data"
    }
   ],
   "source": [
    "plt.plot(Full_Snapshots,HI_R90)"
   ]
  },
  {
   "cell_type": "code",
   "execution_count": 83,
   "metadata": {},
   "outputs": [
    {
     "data": {
      "text/plain": [
       "[159.9037788583252,\n",
       " 105.46302033517655,\n",
       " 94.36874100902322,\n",
       " 80.65831766084709,\n",
       " 28.93877439460174,\n",
       " 41.30414407522569,\n",
       " 52.84019410778173,\n",
       " 93.3510284375349,\n",
       " 4.053383119145267,\n",
       " 4.458662524656253,\n",
       " 6.436241631640975,\n",
       " 0.06735664899678655,\n",
       " 14.744210241865908,\n",
       " 45.39829863493446,\n",
       " 37.04040169238007,\n",
       " 28.22600578407006,\n",
       " 10.58605965868579,\n",
       " 18.431281220577418,\n",
       " 3.801657808690961,\n",
       " 2.067862316002757]"
      ]
     },
     "execution_count": 83,
     "metadata": {},
     "output_type": "execute_result"
    }
   ],
   "source": [
    "HI_R90"
   ]
  },
  {
   "cell_type": "code",
   "execution_count": null,
   "metadata": {},
   "outputs": [],
   "source": []
  }
 ],
 "metadata": {
  "kernelspec": {
   "display_name": "Python 3 (ipykernel)",
   "language": "python",
   "name": "python3"
  }
 },
 "nbformat": 4,
 "nbformat_minor": 2
}
