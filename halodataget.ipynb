{
 "cells": [
  {
   "cell_type": "code",
   "execution_count": 1,
   "metadata": {},
   "outputs": [],
   "source": [
    "import illustris_python as il\n",
    "import numpy as np\n",
    "import matplotlib.pyplot as plt\n",
    "import matplotlib as mpl\n",
    "basePath ='./sims.TNG/TNG50-1/output'"
   ]
  },
  {
   "cell_type": "code",
   "execution_count": 2,
   "metadata": {},
   "outputs": [],
   "source": [
    "halos=il.groupcat.loadHalos(basePath,99,['GroupMass'])"
   ]
  },
  {
   "cell_type": "code",
   "execution_count": 3,
   "metadata": {},
   "outputs": [
    {
     "data": {
      "text/plain": [
       "(10247012,)"
      ]
     },
     "execution_count": 3,
     "metadata": {},
     "output_type": "execute_result"
    }
   ],
   "source": [
    "halos.shape"
   ]
  },
  {
   "cell_type": "code",
   "execution_count": 4,
   "metadata": {},
   "outputs": [],
   "source": [
    "sort=np.sort(halos)"
   ]
  },
  {
   "cell_type": "code",
   "execution_count": 5,
   "metadata": {},
   "outputs": [
    {
     "data": {
      "text/plain": [
       "array([  1.48575430e+04,   7.31285254e+03,   5.12836914e+03, ...,\n",
       "         2.05161676e-04,   2.28723671e-04,   2.01964285e-04], dtype=float32)"
      ]
     },
     "execution_count": 5,
     "metadata": {},
     "output_type": "execute_result"
    }
   ],
   "source": [
    "halos"
   ]
  },
  {
   "cell_type": "code",
   "execution_count": 5,
   "metadata": {},
   "outputs": [],
   "source": [
    "select=sort[::-1][20:50]"
   ]
  },
  {
   "cell_type": "code",
   "execution_count": 6,
   "metadata": {},
   "outputs": [
    {
     "data": {
      "text/plain": [
       "array([ 1180.07421875,  1129.07751465,  1096.0847168 ,   863.79406738,\n",
       "         800.37677002,   759.71563721,   633.46563721,   631.17028809,\n",
       "         622.77508545,   584.76367188,   560.12939453,   552.25469971,\n",
       "         551.50695801,   534.18463135,   503.55783081,   468.55526733,\n",
       "         458.12841797,   444.11853027,   437.98483276,   434.65634155,\n",
       "         399.06921387,   388.7562561 ,   386.2043457 ,   384.00881958,\n",
       "         383.30471802,   378.60620117,   372.993927  ,   372.26095581,\n",
       "         368.16195679,   366.33972168], dtype=float32)"
      ]
     },
     "execution_count": 6,
     "metadata": {},
     "output_type": "execute_result"
    }
   ],
   "source": [
    "select"
   ]
  },
  {
   "cell_type": "code",
   "execution_count": 7,
   "metadata": {},
   "outputs": [],
   "source": [
    "index_list=[]\n",
    "for i in select:\n",
    "    index_list.append(int(np.where(halos==i)[0]))"
   ]
  },
  {
   "cell_type": "code",
   "execution_count": 2,
   "metadata": {},
   "outputs": [],
   "source": [
    "index_list=[3,4,5,15,18,19]"
   ]
  },
  {
   "cell_type": "code",
   "execution_count": 3,
   "metadata": {},
   "outputs": [
    {
     "name": "stdout",
     "output_type": "stream",
     "text": [
      "3\n",
      "4\n",
      "5\n",
      "15\n",
      "18\n",
      "19\n"
     ]
    }
   ],
   "source": [
    "for i in index_list:\n",
    "    gascorr=il.snapshot.loadHalo(basePath, 99, i, 'gas', fields=['Coordinates'])\n",
    "    Abundance = il.snapshot.loadHalo(basePath,\n",
    "                                   99,i,\n",
    "                                   'gas',\n",
    "                          fields=['NeutralHydrogenAbundance'])\n",
    "    Masses = il.snapshot.loadHalo(basePath, 99,i, 'gas', fields=['Masses'])\n",
    "    NeutralHydrogenAbundance=Masses*Abundance\n",
    "    Starscoor=il.snapshot.loadHalo(basePath,99,i,'stars',fields=['Coordinates'])\n",
    "    abundancefile='./addNpy/Abundance'+str(i)+'.npy'\n",
    "    gascoorfile='./addNpy/Coordinates'+str(i)+'.npy'\n",
    "    starcoorfile='./addNpy/StarsCoordinates'+str(i)+'.npy'\n",
    "    np.save(abundancefile,NeutralHydrogenAbundance)\n",
    "    np.save(gascoorfile,gascorr)\n",
    "    np.save(starcoorfile,Starscoor)\n",
    "    print(i)"
   ]
  },
  {
   "cell_type": "code",
   "execution_count": 4,
   "metadata": {},
   "outputs": [],
   "source": [
    "np.save('./addNpy/index_list2.npy',np.array(index_list))"
   ]
  },
  {
   "cell_type": "code",
   "execution_count": 2,
   "metadata": {},
   "outputs": [],
   "source": [
    "Starsmass=il.snapshot.loadHalo(basePath,99,23,'stars',fields=['Masses'])"
   ]
  },
  {
   "cell_type": "code",
   "execution_count": 3,
   "metadata": {},
   "outputs": [
    {
     "data": {
      "text/plain": [
       "35.571945"
      ]
     },
     "execution_count": 3,
     "metadata": {},
     "output_type": "execute_result"
    }
   ],
   "source": [
    "Starsmass.sum()"
   ]
  },
  {
   "cell_type": "code",
   "execution_count": null,
   "metadata": {},
   "outputs": [],
   "source": []
  }
 ],
 "metadata": {
  "kernelspec": {
   "display_name": "Python 3",
   "language": "python",
   "name": "python3"
  },
  "language_info": {
   "codemirror_mode": {
    "name": "ipython",
    "version": 3
   },
   "file_extension": ".py",
   "mimetype": "text/x-python",
   "name": "python",
   "nbconvert_exporter": "python",
   "pygments_lexer": "ipython3",
   "version": "3.6.7"
  }
 },
 "nbformat": 4,
 "nbformat_minor": 2
}
