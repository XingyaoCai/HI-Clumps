{
 "cells": [
  {
   "cell_type": "code",
   "execution_count": 1,
   "metadata": {},
   "outputs": [],
   "source": [
    "import illustris_python as il\n",
    "import numpy as np\n",
    "import matplotlib.pyplot as plt\n",
    "import matplotlib as mpl\n",
    "basePath ='./sims.TNG/TNG50-1/output'\n",
    "\n",
    "main_subhalo_id=329508\n",
    "main_halo_id=23"
   ]
  },
  {
   "cell_type": "code",
   "execution_count": 15,
   "metadata": {},
   "outputs": [],
   "source": [
    "def draw(i,sp):\n",
    "    GasCoordinates = il.snapshot.loadSubhalo(basePath, sp, i, 'gas', fields=['Coordinates'])\n",
    "    #GasAbundance = il.snapshot.loadSubhalo(basePath, sp,i, 'gas', fields=['NeutralHydrogenAbundance'])\n",
    "    Masses = il.snapshot.loadSubhalo(basePath, sp,i, 'gas', fields=['Masses'])\n",
    "    #NeutralHydrogenAbundance=Masses*GasAbundance\n",
    "\n",
    "    GasCoorMin = np.array(GasCoordinates).min(axis=0)\n",
    "    GasCoorMax = np.array(GasCoordinates).max(axis=0)\n",
    "    CircleCenter = (GasCoorMin + GasCoorMax) / 2\n",
    "    plt.figure(figsize=(12, 12), dpi=200)\n",
    "\n",
    "    plt.style.use(\"dark_background\")\n",
    "    bars=(GasCoorMax-GasCoorMin)\n",
    "    h, _, _, image = plt.hist2d(GasCoordinates[:, 1],\n",
    "                            GasCoordinates[:, 2],\n",
    "                            weights=Masses,#NeutralHydrogenAbundance,\n",
    "                            \n",
    "                            norm=mpl.colors.LogNorm(),\n",
    "                            bins=(10*bars[1],10*bars[2]))\n",
    "    plt.xlim([GasCoorMin[1],GasCoorMax[1]])\n",
    "    plt.ylim([GasCoorMin[2],GasCoorMax[2]])\n",
    "    plt.xlabel('y [ckpc/h]')\n",
    "    plt.ylabel('z [ckpc/h]')\n",
    "    #draw_circle = plt.Circle(( CircleCenter[1],  CircleCenter[2]), 150, fill=False)\n",
    "    #plt.gcf().gca().add_artist(draw_circle)\n",
    "    plt.colorbar(image)\n",
    "    plt.gca().set_aspect(1)\n",
    "    plt.show()"
   ]
  },
  {
   "cell_type": "code",
   "execution_count": 8,
   "metadata": {},
   "outputs": [],
   "source": [
    "subhalo_data=il.groupcat.loadSubhalos(basePath,82, fields=['SubhaloPos','SubhaloMass'])\n",
    "Positions=subhalo_data['SubhaloPos']\n",
    "Mass=subhalo_data['SubhaloMass']"
   ]
  },
  {
   "cell_type": "code",
   "execution_count": 9,
   "metadata": {},
   "outputs": [
    {
     "data": {
      "text/plain": [
       "array([  7177.57177734,  19555.40039062,  22022.31640625], dtype=float32)"
      ]
     },
     "execution_count": 9,
     "metadata": {},
     "output_type": "execute_result"
    }
   ],
   "source": [
    "GalaxyPos=Positions[273994]\n",
    "GalaxyPos"
   ]
  },
  {
   "cell_type": "code",
   "execution_count": 11,
   "metadata": {},
   "outputs": [
    {
     "data": {
      "text/plain": [
       "array([271730, 271731])"
      ]
     },
     "execution_count": 11,
     "metadata": {},
     "output_type": "execute_result"
    }
   ],
   "source": [
    "condition = (Positions[:, 0] >= 7000) & (Positions[:, 0] <= 7400) & (Positions[:, 1] >= 19350) & (Positions[:, 1] <= 19750) &(Positions[:, 2] >= 22000) & (Positions[:, 2] <= 26000)& (Mass > 10)\n",
    "index = np.where(condition)[0]\n",
    "index"
   ]
  },
  {
   "cell_type": "code",
   "execution_count": null,
   "metadata": {},
   "outputs": [],
   "source": [
    "tree_fields=['SubfindID','SnapNum','DescendantID']\n",
    "subfindid_snapnum_tree1=il.sublink.loadTree(basePath,81, 269976, fields=tree_fields, onlyMPB=True)\n",
    "for i in range(len(subfindid_snapnum_tree1['SubfindID'])):\n",
    "    print(subfindid_snapnum_tree1['SubfindID'][i],\n",
    "          subfindid_snapnum_tree1['SnapNum'][i],\n",
    "          subfindid_snapnum_tree1['DescendantID'][i],\n",
    "          subhaloID2subfindID(subfindid_snapnum_tree1['DescendantID'][i],sublink))"
   ]
  },
  {
   "cell_type": "code",
   "execution_count": 3,
   "metadata": {},
   "outputs": [],
   "source": [
    "sublink = il.sublink.loadTree(basePath,99,329508)"
   ]
  },
  {
   "cell_type": "code",
   "execution_count": 4,
   "metadata": {},
   "outputs": [],
   "source": [
    "def subhaloID2subfindID (subhaloID,sublink=sublink):\n",
    "    subhaloID_array=sublink['SubhaloID']\n",
    "    subfindIndex=np.where(subhaloID_array==subhaloID)\n",
    "    subfindID=sublink['SubfindID'][subfindIndex]\n",
    "    \n",
    "    return subfindID\n",
    "\n",
    "def DescendantSubfindID(subfindID,snapshot_num,sublink=sublink):\n",
    "    tree_fields=['SubfindID','SnapNum','DescendantID']\n",
    "    subfindid_snapnum_tree=il.sublink.loadTree(basePath, snapshot_num,subfindID, fields=tree_fields, onlyMPB=True)\n",
    "    if subfindid_snapnum_tree['DescendantID'][0]==-1:return -1\n",
    "    descendant_subfind_id=subhaloID2subfindID(subfindid_snapnum_tree['DescendantID'][0],sublink)[0]\n",
    "    return descendant_subfind_id"
   ]
  },
  {
   "cell_type": "code",
   "execution_count": 20,
   "metadata": {},
   "outputs": [],
   "source": [
    "subfindID=220166\n",
    "snapshot_num=70\n",
    "subfindlist_0=[]\n",
    "while(1):\n",
    "    subfindlist_0.append(subfindID)\n",
    "    subfindID=DescendantSubfindID(subfindID,snapshot_num,sublink=sublink)\n",
    "    snapshot_num+=1\n",
    "    \n",
    "    if subfindID==-1:break"
   ]
  },
  {
   "cell_type": "code",
   "execution_count": 6,
   "metadata": {},
   "outputs": [
    {
     "data": {
      "text/plain": [
       "[220165,\n",
       " 232377,\n",
       " 241928,\n",
       " 250593,\n",
       " 247555,\n",
       " 254640,\n",
       " 257844,\n",
       " 260935,\n",
       " 262399,\n",
       " 264326,\n",
       " 268108,\n",
       " 269975,\n",
       " 271730,\n",
       " 273994,\n",
       " 280379,\n",
       " 286487,\n",
       " 289164,\n",
       " 293174,\n",
       " 295276,\n",
       " 299817,\n",
       " 302211,\n",
       " 309873,\n",
       " 314669,\n",
       " 315009,\n",
       " 318956,\n",
       " 322167,\n",
       " 323872,\n",
       " 325941,\n",
       " 329045,\n",
       " 329508]"
      ]
     },
     "execution_count": 6,
     "metadata": {},
     "output_type": "execute_result"
    }
   ],
   "source": [
    "subfindlist_0"
   ]
  },
  {
   "cell_type": "code",
   "execution_count": null,
   "metadata": {},
   "outputs": [],
   "source": [
    "plt.plot(np.arange(70,100,1),np.array(subfindlist_0))\n",
    "plt.plot(np.arange(70,100,1),np.array(subfindlist_1))\n",
    "plt.show()"
   ]
  },
  {
   "cell_type": "code",
   "execution_count": null,
   "metadata": {},
   "outputs": [],
   "source": [
    "for i in range(70,100):\n",
    "    draw(subfindlist_1[i-70],i)"
   ]
  },
  {
   "cell_type": "code",
   "execution_count": null,
   "metadata": {},
   "outputs": [],
   "source": []
  }
 ],
 "metadata": {
  "kernelspec": {
   "display_name": "Python 3",
   "language": "python",
   "name": "python3"
  },
  "language_info": {
   "codemirror_mode": {
    "name": "ipython",
    "version": 3
   },
   "file_extension": ".py",
   "mimetype": "text/x-python",
   "name": "python",
   "nbconvert_exporter": "python",
   "pygments_lexer": "ipython3",
   "version": "3.6.7"
  }
 },
 "nbformat": 4,
 "nbformat_minor": 2
}
