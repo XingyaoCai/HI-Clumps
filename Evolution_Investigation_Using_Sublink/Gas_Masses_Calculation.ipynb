{
 "cells": [
  {
   "cell_type": "markdown",
   "metadata": {},
   "source": [
    "This file is used to calculate the cold gas mass and evolution of given subhalos."
   ]
  },
  {
   "cell_type": "code",
   "execution_count": null,
   "metadata": {},
   "outputs": [],
   "source": [
    "import illustris_python as il\n",
    "import numpy as np\n",
    "import matplotlib.pyplot as plt\n",
    "import matplotlib as mpl\n",
    "import FunctionLib\n",
    "#%matplotlib widget\n",
    "basePath ='./sims.TNG/TNG50-1/output'\n",
    "from tqdm import tqdm\n",
    "import gc\n",
    "import os\n",
    "\n",
    "lbsg_index_list=[117251,117254,300903,307486,324123,329508,342446,382215,383975,388544,400973,419618,434356,448830,457431,460722,462710,490814,507292,514272,529855]\n"
   ]
  },
  {
   "cell_type": "code",
   "execution_count": null,
   "metadata": {},
   "outputs": [],
   "source": [
    "for index in lbsg_index_list:\n",
    "\n",
    "    sublink_tree=il.sublink.loadTree(basePath, 99, index, fields=['SubfindID','SnapNum','Mass'], onlyMPB=False)\n",
    "    condition=(sublink_tree['Mass']>1)&(sublink_tree['SnapNum']>=67)\n",
    "    tree_index=np.where(condition)[0]\n",
    "\n",
    "    cold_gas_mass_list=[]\n",
    "    gas_mass_list=[]\n",
    "    cold_gas_ratio=[]\n",
    "    for Snaps in tqdm(range(99,66,-1)):\n",
    "        redshift_condition=(sublink_tree['SnapNum']==Snaps)&(sublink_tree['Mass']>0.1)\n",
    "        redshift_index=np.where(redshift_condition)[0]\n",
    "        cold_gas_mass_sum=0\n",
    "        gas_mass_sum=0\n",
    "\n",
    "        if isinstance(redshift_index, int):\n",
    "            redshift_index = np.array([redshift_index])\n",
    "\n",
    "        for i in redshift_index:\n",
    "            cold_gas_mass,gas_mass=FunctionLib.Cold_Gas_Mass(Snaps,sublink_tree['SubfindID'][i])\n",
    "            cold_gas_mass_sum+=cold_gas_mass\n",
    "            gas_mass_sum+=gas_mass\n",
    "        cold_gas_mass_list.append(cold_gas_mass_sum)\n",
    "        gas_mass_list.append(gas_mass_sum)\n",
    "        ratio=cold_gas_mass_sum/gas_mass_sum\n",
    "        cold_gas_ratio.append(ratio)\n",
    "    cold_gas_mass_array=np.log(np.array(cold_gas_mass_list))\n",
    "    gas_mass_array=np.log(np.array(gas_mass_list))\n",
    "    cold_gas_ratio=np.array(cold_gas_ratio)\n",
    "    if not os.path.exists('./cgm/' + str(index)+'/'+'cold_gas'):\n",
    "        os.makedirs('./cgm/' +str(index)+'/'+'cold_gas')\n",
    "    plt.plot(range(99,66,-1),cold_gas_mass_array)\n",
    "    plt.savefig('./cgm/' +str(index)+'/'+'cold_gas'+'/coldgas.png')\n",
    "    plt.close('all')\n",
    "\n",
    "    plt.plot(range(99,66,-1),gas_mass_array)\n",
    "    plt.savefig('./cgm/' +str(index)+'/'+'cold_gas'+'/gas.png')\n",
    "    plt.close('all')\n",
    "\n",
    "    plt.plot(range(99,66,-1),cold_gas_ratio)\n",
    "    plt.savefig('./cgm/' +str(index)+'/'+'cold_gas'+'/ratio.png')\n",
    "    plt.close('all')\n",
    "\n",
    "    plt.plot(range(99,66,-1),cold_gas_mass_array)\n",
    "    plt.plot(range(99,66,-1),gas_mass_array)\n",
    "    plt.savefig('./cgm/' +str(index)+'/'+'cold_gas'+'/gascom.png')\n",
    "    plt.close('all')\n"
   ]
  },
  {
   "cell_type": "code",
   "execution_count": null,
   "metadata": {},
   "outputs": [],
   "source": [
    "gas=il.snapshot.loadSubhalo(basePath,99,329508,0,fields=['Masses'])\n"
   ]
  },
  {
   "cell_type": "code",
   "execution_count": null,
   "metadata": {},
   "outputs": [],
   "source": [
    "gas.sum()\n"
   ]
  },
  {
   "cell_type": "code",
   "execution_count": null,
   "metadata": {},
   "outputs": [],
   "source": [
    "subhalos=il.groupcat.loadSubhalos(basePath,99,fields=['SubhaloMass'])\n"
   ]
  },
  {
   "cell_type": "code",
   "execution_count": null,
   "metadata": {},
   "outputs": [],
   "source": [
    "stars=il.snapshot.loadSubhalo(basePath,99,329508,5,fields=['BH_Mass'])\n"
   ]
  },
  {
   "cell_type": "code",
   "execution_count": null,
   "metadata": {},
   "outputs": [],
   "source": [
    "subhalos[329508]\n"
   ]
  },
  {
   "cell_type": "code",
   "execution_count": null,
   "metadata": {},
   "outputs": [],
   "source": [
    "dm.shape\n"
   ]
  },
  {
   "cell_type": "code",
   "execution_count": null,
   "metadata": {},
   "outputs": [],
   "source": [
    "def drawstars(i,sp,savepath,basePath):\n",
    "    gas_data=il.snapshot.loadSubhalo(basePath, sp, i, 'stars', fields=['Coordinates','Masses'])\n",
    "\n",
    "    GasCoordinates = gas_data['Coordinates']\n",
    "    Masses = gas_data['Masses']\n",
    "\n",
    "    GasCoorMin = GasCoordinates.min(axis=0)\n",
    "    GasCoorMax = GasCoordinates.max(axis=0)\n",
    "    CircleCenter = (GasCoorMin + GasCoorMax) / 2\n",
    "    plt.figure(figsize=(12, 12), dpi=200)\n",
    "\n",
    "    plt.style.use(\"dark_background\")\n",
    "    bars=(GasCoorMax-GasCoorMin)\n",
    "    h, _, _, image = plt.hist2d(GasCoordinates[:, 1],\n",
    "                            GasCoordinates[:, 2],\n",
    "                            weights=Masses,\n",
    "                            cmin=1E-5,\n",
    "                            norm=mpl.colors.LogNorm(),\n",
    "                            bins=(bars[1],bars[2]))\n",
    "    plt.xlim([GasCoorMin[1],GasCoorMax[1]])\n",
    "    plt.ylim([GasCoorMin[2],GasCoorMax[2]])\n",
    "    plt.xlabel('y [ckpc/h]')\n",
    "    plt.ylabel('z [ckpc/h]')\n",
    "    #draw_circle = plt.Circle(( CircleCenter[1],  CircleCenter[2]), 150, fill=False)\n",
    "    #plt.gcf().gca().add_artist(draw_circle)\n",
    "    plt.colorbar(image)\n",
    "    plt.gca().set_aspect(1)\n",
    "#    plt.savefig(savepath+'/{}.png'.format(i))\n"
   ]
  },
  {
   "cell_type": "code",
   "execution_count": null,
   "metadata": {},
   "outputs": [],
   "source": [
    "drawstars(329508,99,'none',basePath)\n"
   ]
  },
  {
   "cell_type": "code",
   "execution_count": null,
   "metadata": {},
   "outputs": [],
   "source": [
    "gas_data=il.snapshot.loadSubhalo(basePath, 99, 329508, 'gas', fields=['Coordinates','Masses','NeutralHydrogenAbundance'])\n",
    "\n",
    "GasCoordinates = gas_data['Coordinates']\n",
    "Masses = gas_data['Masses']\n",
    "Abundance=gas_data['NeutralHydrogenAbundance']\n",
    "\n",
    "HI_mass=Abundance*Masses\n",
    "HI_mass.sum()\n"
   ]
  },
  {
   "cell_type": "code",
   "execution_count": null,
   "metadata": {},
   "outputs": [],
   "source": []
  }
 ],
 "metadata": {
  "kernelspec": {
   "display_name": "Python 3",
   "language": "python",
   "name": "python3"
  },
  "language_info": {
   "codemirror_mode": {
    "name": "ipython",
    "version": 3
   },
   "file_extension": ".py",
   "mimetype": "text/x-python",
   "name": "python",
   "nbconvert_exporter": "python",
   "pygments_lexer": "ipython3",
   "version": "3.6.7"
  }
 },
 "nbformat": 4,
 "nbformat_minor": 2
}
