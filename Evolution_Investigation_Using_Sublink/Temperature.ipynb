{
 "cells": [
  {
   "cell_type": "code",
   "execution_count": 1,
   "metadata": {},
   "outputs": [],
   "source": [
    "import illustris_python as il\n",
    "import numpy as np\n",
    "import matplotlib.pyplot as plt\n",
    "import matplotlib as mpl\n",
    "basePath ='./sims.TNG/TNG50-1/output'\n",
    "\n",
    "main_subhalo_id=329508\n",
    "main_halo_id=23\n",
    "\n",
    "problem_snapshots=[64,67,68]\n",
    "snap_number=99"
   ]
  },
  {
   "cell_type": "code",
   "execution_count": 3,
   "metadata": {},
   "outputs": [],
   "source": [
    "subhalos_fields=['SubhaloMass']\n"
   ]
  },
  {
   "cell_type": "code",
   "execution_count": 4,
   "metadata": {},
   "outputs": [],
   "source": [
    "subhalos_data=il.groupcat.loadSubhalos(basePath,snap_number,subhalos_fields)"
   ]
  },
  {
   "cell_type": "code",
   "execution_count": 5,
   "metadata": {},
   "outputs": [
    {
     "data": {
      "text/plain": [
       "10997"
      ]
     },
     "execution_count": 5,
     "metadata": {},
     "output_type": "execute_result"
    }
   ],
   "source": [
    "lower_bound=0.9\n",
    "upper_bound=100\n",
    "upper_id=15\n",
    "lower_id=72\n",
    "filtered_indices = [i for i, x in enumerate(subhalos_data) if lower_bound <= x <= upper_bound]\n",
    "len(filtered_indices)"
   ]
  },
  {
   "cell_type": "code",
   "execution_count": null,
   "metadata": {},
   "outputs": [],
   "source": [
    "filtered_indices"
   ]
  },
  {
   "cell_type": "code",
   "execution_count": 16,
   "metadata": {},
   "outputs": [],
   "source": [
    "def Binary_DataIter(Data_Set1,Data_Set2):\n",
    "    for i in range(0,min(len(Data_Set1),len(Data_Set2))):\n",
    "        yield Data_Set1[i],Data_Set2[i]\n",
    "        \n",
    "def Cold_Gas_Ratio(snap_num,subhalo_id):\n",
    "    gas_fields=['ElectronAbundance','InternalEnergy','Masses']\n",
    "    subhalo_data=il.snapshot.loadSubhalo(basePath,snap_number,subhalo_id,0,fields=gas_fields)\n",
    "    if len(subhalo_data)==1:\n",
    "        return 0\n",
    "    \n",
    "    x_e=subhalo_data['ElectronAbundance'].astype(np.float64)\n",
    "    internal_energy=subhalo_data['InternalEnergy'].astype(np.float64)\n",
    "    gas_cell_masses=subhalo_data['Masses'].astype(np.float64)\n",
    "    \n",
    "    m_p=1.673E-24\n",
    "    X_H=0.76\n",
    "    unit_switching=1E10\n",
    "    mean_molecular_weight=4*m_p/(1+3*X_H+4*X_H*x_e)\n",
    "    k_B=1.38E-16\n",
    "    gas_cell_temperature_in_Kelvin=2/3*internal_energy/k_B*unit_switching*mean_molecular_weight\n",
    "    cold_gas_mass=0\n",
    "    gas_mass=gas_cell_masses.sum()\n",
    "    \n",
    "    for temperature,gas_cell_mass in Binary_DataIter(gas_cell_temperature_in_Kelvin,gas_cell_masses):\n",
    "        if temperature<10000:cold_gas_mass+=gas_cell_mass    \n",
    "    ratio=cold_gas_mass/gas_mass\n",
    "    subhalo_mass=subhalos_data[subhalo_id]\n",
    "    return ratio, subhalo_mass"
   ]
  },
  {
   "cell_type": "code",
   "execution_count": 19,
   "metadata": {},
   "outputs": [],
   "source": [
    "ratio=[]\n",
    "mass=[]"
   ]
  },
  {
   "cell_type": "code",
   "execution_count": 20,
   "metadata": {},
   "outputs": [
    {
     "name": "stdout",
     "output_type": "stream",
     "text": [
      "100\n",
      "200\n",
      "300\n",
      "400\n",
      "500\n",
      "600\n",
      "700\n",
      "800\n",
      "900\n",
      "1000\n"
     ]
    }
   ],
   "source": [
    "caled=0\n",
    "for subhalo_id in filtered_indices[::10]:\n",
    "    result=Cold_Gas_Ratio(99,subhalo_id)\n",
    "    if result==0:\n",
    "        continue\n",
    "    ratio.append(result[0])\n",
    "    mass.append(result[1])\n",
    "    caled+=1\n",
    "    if not(caled%100):print(caled)"
   ]
  },
  {
   "cell_type": "code",
   "execution_count": 21,
   "metadata": {},
   "outputs": [
    {
     "data": {
      "text/plain": [
       "<matplotlib.collections.PathCollection at 0x7fb59ce7e5f8>"
      ]
     },
     "execution_count": 21,
     "metadata": {},
     "output_type": "execute_result"
    },
    {
     "data": {
      "image/png": "[encoded data removed]",
      "text/plain": [
       "<Figure size 432x288 with 1 Axes>"
      ]
     },
     "metadata": {
      "needs_background": "light"
     },
     "output_type": "display_data"
    }
   ],
   "source": [
    "plt.scatter(mass,ratio)"
   ]
  },
  {
   "cell_type": "code",
   "execution_count": 17,
   "metadata": {},
   "outputs": [],
   "source": [
    "a=Cold_Gas_Ratio(99,329508)"
   ]
  },
  {
   "cell_type": "code",
   "execution_count": 18,
   "metadata": {},
   "outputs": [
    {
     "data": {
      "text/plain": [
       "(0.067311756937977918, 775.56519)"
      ]
     },
     "execution_count": 18,
     "metadata": {},
     "output_type": "execute_result"
    }
   ],
   "source": [
    "a"
   ]
  },
  {
   "cell_type": "code",
   "execution_count": null,
   "metadata": {},
   "outputs": [],
   "source": []
  }
 ],
 "metadata": {
  "kernelspec": {
   "display_name": "Python 3",
   "language": "python",
   "name": "python3"
  },
  "language_info": {
   "codemirror_mode": {
    "name": "ipython",
    "version": 3
   },
   "file_extension": ".py",
   "mimetype": "text/x-python",
   "name": "python",
   "nbconvert_exporter": "python",
   "pygments_lexer": "ipython3",
   "version": "3.6.7"
  }
 },
 "nbformat": 4,
 "nbformat_minor": 2
}
