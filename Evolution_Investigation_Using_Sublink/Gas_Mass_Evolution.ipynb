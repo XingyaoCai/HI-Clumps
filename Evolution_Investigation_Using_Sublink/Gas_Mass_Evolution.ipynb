{
 "cells": [
  {
   "cell_type": "markdown",
   "metadata": {},
   "source": [
    "This file calculates the mass evolution of selected subhalo."
   ]
  },
  {
   "cell_type": "code",
   "execution_count": 1,
   "metadata": {},
   "outputs": [],
   "source": [
    "import illustris_python as il\n",
    "import numpy as np\n",
    "import matplotlib.pyplot as plt\n",
    "import matplotlib as mpl\n",
    "basePath ='./sims.TNG/TNG50-1/output'\n",
    "\n",
    "main_subhalo_id=329508\n",
    "main_halo_id=23\n",
    "\n",
    "halos_fields=['Group_R_Crit200','Group_M_Crit200']\n",
    "subhalos_fields=['SubhaloCM','SubhaloGrNr']\n",
    "gas_cell_fields=['Coordinates','Masses']\n",
    "stars_cell_fields=['Coordinates','Masses']\n",
    "\n",
    "missing_data_snaps=[31,32,35]\n",
    "full_snaps=[33,40,50,59,67,72,78,84,91,99]\n",
    "Z_list=[2.32,2.00, 1.90,1.74,1.67,1.60,1.53,1.50,1.41,1.36,1.30,1.25,1.21,1.15,1.11,1.07,1.04,1.00,0.95,0.92,0.89,0.85,0.82,0.79,0.76,0.73,0.7,0.68,0.64,0.62,0.6,0.58,0.55,0.52,0.5,0.48,0.46,0.44,0.42,0.4,0.38,0.36,0.35,0.33,0.31,0.3,0.27,0.26,0.24,0.23,0.21,0.2,0.18,0.17,0.15,0.14,0.13,0.11,0.10,0.08,0.07,0.06,0.05,0.03,0.02,0.01,0.00]\n"
   ]
  },
  {
   "cell_type": "code",
   "execution_count": 2,
   "metadata": {},
   "outputs": [],
   "source": [
    "def Binary_DataIter(Data_Set1,Data_Set2):\n",
    "    for i in range(0,min(len(Data_Set1),len(Data_Set2))):\n",
    "        yield Data_Set1[i],Data_Set2[i]\n",
    "\n"
   ]
  },
  {
   "cell_type": "code",
   "execution_count": 62,
   "metadata": {},
   "outputs": [],
   "source": [
    "tree_fields=['SubfindID','SnapNum','Mass']\n",
    "subfindid_snapnum_tree0=il.sublink.loadTree(basePath, 99, 329508, fields=tree_fields, onlyMPB=True)\n"
   ]
  },
  {
   "cell_type": "code",
   "execution_count": 67,
   "metadata": {},
   "outputs": [],
   "source": [
    "subfindid_snapnum_tree1=il.sublink.loadTree(basePath, 98, 329051, fields=tree_fields, onlyMPB=True)\n"
   ]
  },
  {
   "cell_type": "code",
   "execution_count": 35,
   "metadata": {},
   "outputs": [
    {
     "data": {
      "text/plain": [
       "{'count': 99,\n",
       " 'SubfindID': array([329051, 325943, 323873, 322168, 318957, 315010, 314670, 309874,\n",
       "        302212, 299818, 295277, 293175, 289165, 286488, 280380, 273995,\n",
       "        271731, 269976, 268109, 264327, 262400, 260936, 257845, 254641,\n",
       "        247556, 250594, 241929, 232378, 220166, 215981, 214058, 211992,\n",
       "        209821, 205212, 184705, 171322, 170177, 163332, 162127, 158823,\n",
       "        156136, 157141, 154895, 152797, 144634, 145766, 140684, 246753,\n",
       "        250015, 249254, 247478, 239558, 230640, 227686, 226621, 221848,\n",
       "        218465, 211931, 203569, 200239, 192299, 183653, 171726, 160613,\n",
       "        153862, 152761, 166948, 156337, 153298, 145260, 153762, 162053,\n",
       "        146722, 138045, 130609, 117138, 104193,  90374, 100712,  65772,\n",
       "        106566, 103447,  95344,  82235,  82127,  76036,  84183,  67742,\n",
       "         59660,  51028,  41332,  40795,  40336,  36394,  26835,  18836,\n",
       "         11515,   7391,  30589], dtype=int32),\n",
       " 'SnapNum': array([98, 97, 96, 95, 94, 93, 92, 91, 90, 89, 88, 87, 86, 85, 84, 83, 82,\n",
       "        81, 80, 79, 78, 77, 76, 75, 74, 73, 72, 71, 70, 69, 68, 67, 66, 65,\n",
       "        64, 63, 62, 61, 60, 59, 58, 57, 56, 55, 54, 53, 52, 51, 50, 49, 48,\n",
       "        47, 46, 45, 44, 43, 42, 41, 40, 39, 38, 37, 36, 35, 34, 33, 32, 31,\n",
       "        30, 29, 28, 27, 26, 25, 24, 23, 22, 21, 20, 19, 18, 17, 16, 15, 14,\n",
       "        13, 12, 11, 10,  9,  8,  7,  6,  5,  4,  3,  2,  1,  0], dtype=int16)}"
      ]
     },
     "execution_count": 35,
     "metadata": {},
     "output_type": "execute_result"
    }
   ],
   "source": [
    "subfindid_snapnum_tree1\n"
   ]
  },
  {
   "cell_type": "code",
   "execution_count": 36,
   "metadata": {},
   "outputs": [],
   "source": [
    "cold_mass_list=[]\n",
    "total_mass_list=[]\n",
    "subhalo_mass_list=[]\n",
    "snaps_list=[]\n",
    "for current_subfind_id,current_snapshot_num in Binary_DataIter(subfindid_snapnum_tree1['SubfindID'],subfindid_snapnum_tree1['SnapNum']):\n",
    "    if current_snapshot_num < 40: break\n",
    "    cold_mass,total_mass=calculate_gas_mass(current_snapshot_num,current_subfind_id)\n",
    "    cold_mass_list.append(cold_mass)\n",
    "    total_mass_list.append(total_mass)\n",
    "    snaps_list.append(current_snapshot_num)\n"
   ]
  },
  {
   "cell_type": "code",
   "execution_count": 12,
   "metadata": {},
   "outputs": [],
   "source": [
    "def calculate_gas_mass(snap_num, subhalo_id):\n",
    "    gas_fields = ['ElectronAbundance', 'InternalEnergy', 'Masses']\n",
    "    subhalo_data = il.snapshot.loadSubhalo(basePath, snap_num, subhalo_id, 0, fields=gas_fields)\n",
    "    if len(subhalo_data) == 1:\n",
    "        return 0\n",
    "\n",
    "    x_e = subhalo_data['ElectronAbundance'].astype(np.float64)\n",
    "    internal_energy = subhalo_data['InternalEnergy'].astype(np.float64)\n",
    "    gas_cell_masses = subhalo_data['Masses'].astype(np.float64)\n",
    "\n",
    "    m_p = 1.673E-24\n",
    "    X_H = 0.76\n",
    "    unit_switching = 1E10\n",
    "    mean_molecular_weight = 4 * m_p / (1 + 3 * X_H + 4 * X_H * x_e)\n",
    "    k_B = 1.38E-16\n",
    "    gas_cell_temperature_in_Kelvin = 2 / 3 * internal_energy / k_B * unit_switching * mean_molecular_weight\n",
    "\n",
    "    cold_gas_mask = np.where(gas_cell_temperature_in_Kelvin < 10000)\n",
    "    cold_gas_mass = gas_cell_masses[cold_gas_mask].sum()\n",
    "    gas_mass = gas_cell_masses.sum()\n",
    "\n",
    "    return cold_gas_mass, gas_mass\n"
   ]
  },
  {
   "cell_type": "code",
   "execution_count": 37,
   "metadata": {},
   "outputs": [
    {
     "name": "stderr",
     "output_type": "stream",
     "text": [
      "/opt/conda/lib/python3.6/site-packages/ipykernel_launcher.py:2: RuntimeWarning: divide by zero encountered in log\n",
      "  \n"
     ]
    },
    {
     "data": {
      "image/png": "[encoded data removed]",
      "text/plain": [
       "<Figure size 432x288 with 1 Axes>"
      ]
     },
     "metadata": {
      "needs_background": "light"
     },
     "output_type": "display_data"
    }
   ],
   "source": [
    "plt.plot(snaps_list,np.log(total_mass_list))\n",
    "plt.plot(snaps_list,np.log(cold_mass_list))\n",
    "plt.savefig('329508.png')\n"
   ]
  },
  {
   "cell_type": "code",
   "execution_count": 29,
   "metadata": {},
   "outputs": [],
   "source": [
    "plt.close('all')\n"
   ]
  },
  {
   "cell_type": "code",
   "execution_count": 38,
   "metadata": {},
   "outputs": [],
   "source": [
    "def calculate_stars_mass(snap_num, subhalo_id):\n",
    "    stars_fields = ['Masses']\n",
    "    subhalo_data = il.snapshot.loadSubhalo(basePath, snap_num, subhalo_id, 4, fields=stars_fields)\n",
    "    if len(subhalo_data) == 1:\n",
    "        return 0\n",
    "\n",
    "\n",
    "\n",
    "    stars_mass = subhalo_data.sum()\n",
    "\n",
    "    return stars_mass\n"
   ]
  },
  {
   "cell_type": "code",
   "execution_count": 60,
   "metadata": {},
   "outputs": [],
   "source": [
    "stars_list=[]\n",
    "snaps_list=[]\n",
    "for current_subfind_id,current_snapshot_num in Binary_DataIter(subfindid_snapnum_tree0['SubfindID'],subfindid_snapnum_tree0['SnapNum']):\n",
    "    if current_snapshot_num < 40: break\n",
    "    star_mass=calculate_stars_mass(current_snapshot_num,current_subfind_id)\n",
    "    stars_list.append(star_mass)\n",
    "    snaps_list.append(current_snapshot_num)\n"
   ]
  },
  {
   "cell_type": "code",
   "execution_count": 70,
   "metadata": {},
   "outputs": [
    {
     "data": {
      "image/png": "[encoded data removed]",
      "text/plain": [
       "<Figure size 432x288 with 1 Axes>"
      ]
     },
     "metadata": {
      "needs_background": "light"
     },
     "output_type": "display_data"
    }
   ],
   "source": [
    "plt.plot(subfindid_snapnum_tree0['SnapNum'][0:60],np.log(subfindid_snapnum_tree0['Mass'][0:60]))\n",
    "plt.savefig('dm.png')\n"
   ]
  },
  {
   "cell_type": "code",
   "execution_count": 54,
   "metadata": {},
   "outputs": [
    {
     "data": {
      "text/plain": [
       "<Figure size 432x288 with 0 Axes>"
      ]
     },
     "metadata": {},
     "output_type": "display_data"
    }
   ],
   "source": [
    "plt.clf()\n"
   ]
  },
  {
   "cell_type": "code",
   "execution_count": 53,
   "metadata": {},
   "outputs": [],
   "source": [
    "plt.show()\n"
   ]
  },
  {
   "cell_type": "code",
   "execution_count": null,
   "metadata": {},
   "outputs": [],
   "source": []
  }
 ],
 "metadata": {
  "kernelspec": {
   "display_name": "Python 3",
   "language": "python",
   "name": "python3"
  },
  "language_info": {
   "codemirror_mode": {
    "name": "ipython",
    "version": 3
   },
   "file_extension": ".py",
   "mimetype": "text/x-python",
   "name": "python",
   "nbconvert_exporter": "python",
   "pygments_lexer": "ipython3",
   "version": "3.6.7"
  }
 },
 "nbformat": 4,
 "nbformat_minor": 2
}
