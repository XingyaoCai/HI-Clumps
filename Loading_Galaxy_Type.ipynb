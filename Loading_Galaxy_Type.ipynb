{
 "cells": [
  {
   "cell_type": "code",
   "execution_count": 1,
   "metadata": {},
   "outputs": [],
   "source": [
    "import illustris_python as il\n",
    "import numpy as np\n",
    "import matplotlib.pyplot as plt\n",
    "import matplotlib as mpl\n",
    "import h5py\n",
    "# %matplotlib widget\n",
    "basePath = \"./sims.TNG/TNG50-1/output\"\n",
    "from tqdm import tqdm\n",
    "import gc\n",
    "import os\n",
    "\n",
    "Snapshot_Init = 71\n",
    "Snapshot_End = 99\n",
    "Lbsg_Indcies_Array = np.array(\n",
    "    [117251, 300903, 324123, 329508, 382215, 400973, 419618, 457431, 460722, 490814]\n",
    ")\n",
    "\n",
    "h = 0.6774  # km/Mpc\n",
    "\n",
    "m_dm = 4.5e-5  # E10M_Sum\n",
    "m_dm_h = m_dm * h\n",
    "\n",
    "Critial_Density = 1.27e-8  # E10M_Sum/kpc^3\n",
    "Critial_Density_h = Critial_Density / h**2  # E10M_Sum/(kpc/h)^3\n"
   ]
  },
  {
   "cell_type": "code",
   "execution_count": 2,
   "metadata": {},
   "outputs": [],
   "source": [
    "with h5py.File('stellar_circs.hdf5','r') as f:\n",
    "    SubfindID = f['Snapshot_99/SubfindID'][()]\n",
    "    CircAbove07Frac = f['Snapshot_99/CircAbove07Frac'][()]\n"
   ]
  },
  {
   "cell_type": "code",
   "execution_count": 9,
   "metadata": {},
   "outputs": [
    {
     "name": "stdout",
     "output_type": "stream",
     "text": [
      "circ for this subhalo:  [0.39272636]\n",
      "circ for this subhalo:  [0.17321473]\n",
      "circ for this subhalo:  [0.1165873]\n",
      "circ for this subhalo:  [0.3625133]\n",
      "circ for this subhalo:  [0.23637083]\n",
      "circ for this subhalo:  [0.25091308]\n",
      "circ for this subhalo:  [0.16543594]\n",
      "circ for this subhalo:  [0.23387785]\n",
      "circ for this subhalo:  [0.36701438]\n",
      "circ for this subhalo:  [0.3130595]\n"
     ]
    }
   ],
   "source": [
    "for target_subhalo_id in Lbsg_Indcies_Array:\n",
    "    w = np.where(SubfindID == target_subhalo_id)\n",
    "    print('circ for this subhalo: ', CircAbove07Frac[w])\n"
   ]
  },
  {
   "cell_type": "code",
   "execution_count": 8,
   "metadata": {},
   "outputs": [
    {
     "data": {
      "text/plain": [
       "(array([ 17.,  52.,  96., 117., 141., 135., 123., 123., 114., 114., 124.,\n",
       "        105., 133., 116., 123., 131., 152., 142., 130., 129., 148., 133.,\n",
       "        116., 111.,  84.,  80.,  86.,  86.,  64.,  86.,  61.,  83.,  66.,\n",
       "         63.,  62.,  58.,  64.,  69.,  72.,  57.,  57.,  67.,  68.,  63.,\n",
       "         54.,  53.,  60.,  58.,  44.,  43.,  49.,  37.,  44.,  42.,  45.,\n",
       "         35.,  44.,  37.,  34.,  37.,  44.,  49.,  36.,  54.,  42.,  46.,\n",
       "         37.,  40.,  49.,  29.,  41.,  41.,  50.,  45.,  39.,  43.,  32.,\n",
       "         39.,  35.,  31.,  36.,  37.,  31.,  36.,  33.,  40.,  30.,  25.,\n",
       "         34.,  26.,  33.,  45.,  22.,  27.,  35.,  38.,  27.,  37.,  28.,\n",
       "         32.,  35.,  27.,  31.,  24.,  25.,  34.,  27.,  31.,  30.,  31.,\n",
       "         31.,  26.,  34.,  34.,  26.,  22.,  22.,  24.,  30.,  19.,  18.,\n",
       "         31.,  28.,  25.,  18.,  26.,  25.,  22.,  27.,  28.,  19.,  21.,\n",
       "         28.,  11.,  15.,  23.,  23.,  11.,  22.,  17.,  17.,  16.,  18.,\n",
       "         22.,  20.,  17.,  13.,  17.,  14.,  19.,  18.,  11.,  15.,  20.,\n",
       "         17.,   8.,  16.,  14.,  12.,  11.,   8.,  10.,   7.,   8.,  13.,\n",
       "          6.,   7.,   4.,   4.,  11.,   7.,  12.,   7.,   5.,   5.,   5.,\n",
       "          7.,   6.,   3.,   4.,   4.,   5.,   7.,   3.,   1.,   4.,   2.,\n",
       "          4.,   1.,   2.,   0.,   2.,   0.,   0.,   1.,   0.,   1.,   0.,\n",
       "          0.,   1.]),\n",
       " array([0.02117315, 0.02511635, 0.02905955, 0.03300275, 0.03694594,\n",
       "        0.04088914, 0.04483233, 0.04877553, 0.05271873, 0.05666192,\n",
       "        0.06060512, 0.06454831, 0.06849151, 0.07243471, 0.07637791,\n",
       "        0.0803211 , 0.08426429, 0.08820749, 0.09215069, 0.09609389,\n",
       "        0.10003708, 0.10398028, 0.10792348, 0.11186667, 0.11580987,\n",
       "        0.11975306, 0.12369626, 0.12763946, 0.13158265, 0.13552585,\n",
       "        0.13946904, 0.14341225, 0.14735544, 0.15129864, 0.15524183,\n",
       "        0.15918502, 0.16312823, 0.16707142, 0.17101462, 0.17495781,\n",
       "        0.17890102, 0.1828442 , 0.1867874 , 0.1907306 , 0.19467379,\n",
       "        0.198617  , 0.20256019, 0.20650338, 0.21044658, 0.21438977,\n",
       "        0.21833298, 0.22227617, 0.22621937, 0.23016256, 0.23410575,\n",
       "        0.23804896, 0.24199215, 0.24593535, 0.24987854, 0.25382173,\n",
       "        0.25776494, 0.26170814, 0.26565132, 0.26959452, 0.27353773,\n",
       "        0.27748093, 0.2814241 , 0.2853673 , 0.28931051, 0.2932537 ,\n",
       "        0.2971969 , 0.3011401 , 0.3050833 , 0.30902648, 0.31296968,\n",
       "        0.3169129 , 0.32085606, 0.32479927, 0.32874247, 0.33268568,\n",
       "        0.33662885, 0.34057206, 0.34451526, 0.34845844, 0.35240164,\n",
       "        0.35634485, 0.36028805, 0.36423123, 0.36817443, 0.37211764,\n",
       "        0.3760608 , 0.38000402, 0.38394722, 0.38789043, 0.3918336 ,\n",
       "        0.3957768 , 0.39972   , 0.4036632 , 0.4076064 , 0.4115496 ,\n",
       "        0.4154928 , 0.41943598, 0.42337918, 0.4273224 , 0.43126556,\n",
       "        0.43520877, 0.43915197, 0.44309518, 0.44703835, 0.45098156,\n",
       "        0.45492476, 0.45886794, 0.46281114, 0.46675435, 0.47069755,\n",
       "        0.47464073, 0.47858393, 0.48252714, 0.4864703 , 0.49041352,\n",
       "        0.49435672, 0.49829993, 0.5022431 , 0.5061863 , 0.5101295 ,\n",
       "        0.5140727 , 0.5180159 , 0.52195907, 0.5259023 , 0.5298455 ,\n",
       "        0.5337887 , 0.5377319 , 0.5416751 , 0.5456183 , 0.54956144,\n",
       "        0.55350465, 0.55744785, 0.56139106, 0.56533426, 0.56927747,\n",
       "        0.5732207 , 0.5771638 , 0.581107  , 0.5850502 , 0.58899343,\n",
       "        0.59293664, 0.59687984, 0.60082304, 0.6047662 , 0.6087094 ,\n",
       "        0.6126526 , 0.6165958 , 0.620539  , 0.6244822 , 0.6284254 ,\n",
       "        0.63236856, 0.63631177, 0.640255  , 0.6441982 , 0.6481414 ,\n",
       "        0.6520846 , 0.6560278 , 0.65997094, 0.66391414, 0.66785735,\n",
       "        0.67180055, 0.67574376, 0.67968696, 0.68363017, 0.6875733 ,\n",
       "        0.6915165 , 0.6954597 , 0.6994029 , 0.70334613, 0.70728934,\n",
       "        0.71123254, 0.7151757 , 0.7191189 , 0.7230621 , 0.7270053 ,\n",
       "        0.7309485 , 0.7348917 , 0.7388349 , 0.74277806, 0.74672127,\n",
       "        0.7506645 , 0.7546077 , 0.7585509 , 0.7624941 , 0.7664373 ,\n",
       "        0.77038044, 0.77432364, 0.77826685, 0.78221005, 0.78615326,\n",
       "        0.79009646, 0.79403967, 0.7979828 , 0.801926  , 0.8058692 ,\n",
       "        0.8098124 ], dtype=float32),\n",
       " <BarContainer object of 200 artists>)"
      ]
     },
     "execution_count": 8,
     "metadata": {},
     "output_type": "execute_result"
    },
    {
     "data": {
      "image/png": "[encoded data removed]",
      "text/plain": [
       "<Figure size 640x480 with 1 Axes>"
      ]
     },
     "metadata": {},
     "output_type": "display_data"
    }
   ],
   "source": [
    "plt.hist(CircAbove07Frac,200)\n"
   ]
  },
  {
   "cell_type": "code",
   "execution_count": 13,
   "metadata": {},
   "outputs": [
    {
     "data": {
      "text/plain": [
       "<KeysViewHDF5 ['Header', 'Snapshot_25', 'Snapshot_29', 'Snapshot_33', 'Snapshot_40', 'Snapshot_50', 'Snapshot_67']>"
      ]
     },
     "execution_count": 13,
     "metadata": {},
     "output_type": "execute_result"
    }
   ],
   "source": [
    "f=h5py.File('morphologies_deeplearn.hdf5','r')\n",
    "f.keys()\n"
   ]
  },
  {
   "cell_type": "code",
   "execution_count": null,
   "metadata": {},
   "outputs": [],
   "source": []
  }
 ],
 "metadata": {
  "kernelspec": {
   "display_name": "Python 3 (ipykernel)",
   "language": "python",
   "name": "python3"
  },
  "language_info": {
   "codemirror_mode": {
    "name": "ipython",
    "version": 3
   },
   "file_extension": ".py",
   "mimetype": "text/x-python",
   "name": "python",
   "nbconvert_exporter": "python",
   "pygments_lexer": "ipython3",
   "version": "3.9.13"
  }
 },
 "nbformat": 4,
 "nbformat_minor": 2
}
