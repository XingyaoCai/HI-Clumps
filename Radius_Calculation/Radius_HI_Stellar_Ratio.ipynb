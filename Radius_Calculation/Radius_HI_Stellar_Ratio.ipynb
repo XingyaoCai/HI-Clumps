{
 "cells": [
  {
   "cell_type": "code",
   "execution_count": null,
   "metadata": {},
   "outputs": [],
   "source": [
    "import illustris_python as il\n",
    "import numpy as np\n",
    "import matplotlib.pyplot as plt\n",
    "import matplotlib as mpl\n",
    "\n",
    "# %matplotlib widget\n",
    "basePath = \"./sims.TNG/TNG50-1/output\"\n",
    "import tqdm\n",
    "import gc\n",
    "import os"
   ]
  },
  {
   "cell_type": "code",
   "execution_count": null,
   "metadata": {},
   "outputs": [],
   "source": [
    "Snapshot_Init = 71\n",
    "Snapshot_End = 99\n",
    "Lbsg_Indcies_Array = np.array(\n",
    "    [117251, 300903, 324123, 329508, 382215,\n",
    "        400973, 419618, 457431, 460722, 490814]\n",
    ")\n",
    "\n",
    "h = 0.6774  # km/Mpc\n",
    "\n",
    "m_dm = 4.5e-5  # E10M_Sum\n",
    "m_dm_h = m_dm * h\n",
    "\n",
    "Critial_Density = 1.27e-8  # E10M_Sum/kpc^3\n",
    "Critial_Density_h = Critial_Density / h**2  # E10M_Sum/(kpc/h)^3"
   ]
  },
  {
   "cell_type": "code",
   "execution_count": null,
   "metadata": {},
   "outputs": [],
   "source": [
    "Similiar_Stellar_Mass_Indices=np.load('./stellar_mass_indices.npy')"
   ]
  },
  {
   "cell_type": "code",
   "execution_count": 9,
   "metadata": {},
   "outputs": [],
   "source": [
    "def HI_Radius_90_Calculation_At_99(Subhalo_Id):\n",
    "    max_iter=100\n",
    "    precension=1\n",
    "    left = 0\n",
    "    right=500\n",
    "\n",
    "    subhalo_data_dict = il.groupcat.loadSingle(basePath,99,-1,Subhalo_Id)\n",
    "\n",
    "    subhalo_comoving_position_floatarray = subhalo_data_dict['SubhaloPos']\n",
    "\n",
    "    gas_data_dict=il.snapshot.loadSubhalo(basePath,99,Subhalo_Id,'gas',fields=['Coordinates','Masses','NeutralHydrogenAbundance'])\n",
    "    \n",
    "    if len(gas_data_dict)==1: return 0\n",
    "\n",
    "    gas_data_dict['Masses']=gas_data_dict['Masses']*gas_data_dict['NeutralHydrogenAbundance']\n",
    "\n",
    "    gas_mass_90=gas_data_dict['Masses'].sum()*0.9\n",
    "\n",
    "    for epoch in range(max_iter):\n",
    "        mid=(left+right)/2\n",
    "        \n",
    "        mass_in=Baryon_Mass_Within_Given_Radius(subhalo_comoving_position_floatarray,mid,gas_data_dict['Coordinates'],gas_data_dict['Masses'])\n",
    "\n",
    "        if mass_in > gas_mass_90: right=mid\n",
    "\n",
    "        else: left=mid\n",
    "\n",
    "        if abs(right-left)<precension or epoch == max_iter:\n",
    "            R_90_Com_Float = (left + right) / 2\n",
    "            break\n",
    "\n",
    "    del max_iter,precension,left,right,subhalo_data_dict,subhalo_comoving_position_floatarray,gas_data_dict,gas_mass_90\n",
    "\n",
    "    return R_90_Com_Float\n",
    "\n",
    "def Stellar_Radius_90_Calculation_At_99(Subhalo_Id):\n",
    "    max_iter=100\n",
    "    precension=1\n",
    "    left = 0\n",
    "    right=500\n",
    "\n",
    "    subhalo_data_dict = il.groupcat.loadSingle(basePath,99,-1,Subhalo_Id)\n",
    "\n",
    "    subhalo_comoving_position_floatarray = subhalo_data_dict['SubhaloPos']\n",
    "\n",
    "    stellar_data_dict=il.snapshot.loadSubhalo(basePath,99,Subhalo_Id,'stellar',fields=['Coordinates','Masses'])\n",
    "    \n",
    "    if len(stellar_data_dict)==1: return 0\n",
    "\n",
    "    stellar_mass_90=stellar_data_dict['Masses'].sum()*0.9\n",
    "\n",
    "    for epoch in range(max_iter):\n",
    "\n",
    "        mid=(left+right)/2\n",
    "        mass_in=Baryon_Mass_Within_Given_Radius(subhalo_comoving_position_floatarray,mid,stellar_data_dict['Coordinates'],stellar_data_dict['Masses'])\n",
    "\n",
    "        if mass_in > stellar_mass_90: right=mid\n",
    "\n",
    "        else: left=mid\n",
    "\n",
    "        if abs(right-left)<precension or epoch == max_iter:\n",
    "            R_90_Com_Float = (left + right) / 2\n",
    "            break\n",
    "\n",
    "    del max_iter,precension,left,right,subhalo_data_dict,subhalo_comoving_position_floatarray,stellar_data_dict,stellar_mass_90\n",
    "\n",
    "    return R_90_Com_Float\n",
    "\n",
    "\n",
    "\n",
    "def Baryon_Mass_Within_Given_Radius(Galaxy_Center_FloatArray,Mass_Radius_Float,Particle_Coordinates_FloatArray,Particle_Masses_FloatArray):\n",
    "    dist_to_com_floatarray = np.sqrt(np.sum((Particle_Coordinates_FloatArray - Galaxy_Center_FloatArray)**2, axis=1))\n",
    "    within_radius_indices_intarray = np.where(dist_to_com_floatarray <= Mass_Radius_Float)[0]\n",
    "    Total_Mass_Within_Radius_Float = np.sum(Particle_Masses_FloatArray[within_radius_indices_intarray])\n",
    "    \n",
    "    del dist_to_com_floatarray,within_radius_indices_intarray\n",
    "    \n",
    "    return Total_Mass_Within_Radius_Float\n",
    "\n",
    "def Total_Mass_Type_Within_Given_Radius(Galaxy_Center_FloatArray,Mass_Radius_Float,Data_Dict):\n",
    "    \n",
    "    mass_within_radius=Baryon_Mass_Within_Given_Radius(Galaxy_Center_FloatArray,Mass_Radius_Float,Data_Dict['Coordinates'],Data_Dict['Masses'])\n",
    "    \n",
    "    return mass_within_radius\n",
    "\n",
    "def Calculate_Radius_Ratio(Subhalo_Id):\n",
    "    R_HI=HI_Radius_90_Calculation_At_99(Subhalo_Id)\n",
    "    R_Stellar=Stellar_Radius_90_Calculation_At_99(Subhalo_Id)\n",
    "\n",
    "    if R_HI * R_Stellar:\n",
    "        return R_HI/R_Stellar\n",
    "\n",
    "    else: return -1"
   ]
  },
  {
   "cell_type": "code",
   "execution_count": 10,
   "metadata": {},
   "outputs": [
    {
     "name": "stderr",
     "output_type": "stream",
     "text": [
      "100%|██████████| 2602/2602 [2:57:28<00:00,  4.09s/it]  \n"
     ]
    }
   ],
   "source": [
    "ratio_list=list()\n",
    "for subhalo_id in tqdm.tqdm(Similiar_Stellar_Mass_Indices):\n",
    "    ratio_list.append(Calculate_Radius_Ratio(subhalo_id))\n",
    "\n",
    "ratio_array=np.array(ratio_list)\n",
    "np.save('./ratio.npy',ratio_array)"
   ]
  },
  {
   "cell_type": "code",
   "execution_count": 35,
   "metadata": {},
   "outputs": [
    {
     "data": {
      "text/plain": [
       "Text(0.5, 1.0, 'Ratio Distribution')"
      ]
     },
     "execution_count": 35,
     "metadata": {},
     "output_type": "execute_result"
    },
    {
     "data": {
      "image/png": "[encoded data removed]",
      "text/plain": [
       "<Figure size 640x480 with 1 Axes>"
      ]
     },
     "metadata": {},
     "output_type": "display_data"
    }
   ],
   "source": [
    "plt.hist(ratio_array,bins=1000)\n",
    "plt.xlim([0,10])\n",
    "plt.ylim([0,200])\n",
    "plt.xlabel('Number')\n",
    "plt.ylabel('Ratio')\n",
    "plt.title('Ratio Distribution')"
   ]
  },
  {
   "cell_type": "code",
   "execution_count": 23,
   "metadata": {},
   "outputs": [
    {
     "data": {
      "text/plain": [
       "(303,)"
      ]
     },
     "execution_count": 23,
     "metadata": {},
     "output_type": "execute_result"
    }
   ],
   "source": [
    "np.where(ratio_array==-1)[0].shape"
   ]
  },
  {
   "cell_type": "code",
   "execution_count": 20,
   "metadata": {},
   "outputs": [
    {
     "data": {
      "text/plain": [
       "113.66666666666667"
      ]
     },
     "execution_count": 20,
     "metadata": {},
     "output_type": "execute_result"
    }
   ],
   "source": [
    "ratio_array.max()"
   ]
  },
  {
   "cell_type": "code",
   "execution_count": 29,
   "metadata": {},
   "outputs": [],
   "source": [
    "data=il.groupcat.loadSubhalos(basePath,99,['SubhaloMass'])"
   ]
  },
  {
   "cell_type": "code",
   "execution_count": 34,
   "metadata": {},
   "outputs": [
    {
     "data": {
      "text/plain": [
       "(324,)"
      ]
     },
     "execution_count": 34,
     "metadata": {},
     "output_type": "execute_result"
    }
   ],
   "source": [
    "np.where(data>50)[0].shape"
   ]
  },
  {
   "cell_type": "code",
   "execution_count": null,
   "metadata": {},
   "outputs": [],
   "source": [
    "Calculate_Radius_Ratio()"
   ]
  }
 ],
 "metadata": {
  "kernelspec": {
   "display_name": "Python 3 (ipykernel)",
   "language": "python",
   "name": "python3"
  },
  "orig_nbformat": 4
 },
 "nbformat": 4,
 "nbformat_minor": 2
}
