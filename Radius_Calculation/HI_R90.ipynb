{
 "cells": [
  {
   "cell_type": "code",
   "execution_count": null,
   "metadata": {},
   "outputs": [],
   "source": [
    "import illustris_python as il\n",
    "import numpy as np\n",
    "import matplotlib.pyplot as plt\n",
    "import matplotlib as mpl\n",
    "basePath ='./sims.TNG/TNG50-1/output'\n",
    "\n",
    "main_subhalo_id=329508\n",
    "main_halo_id=23\n",
    "\n",
    "\n",
    "missing_data_snaps=[31,32,35]\n",
    "full_snaps=[33,40,50,59,67,72,78,84,91,99]"
   ]
  },
  {
   "cell_type": "code",
   "execution_count": null,
   "metadata": {},
   "outputs": [],
   "source": [
    "tree_fields=['SubfindID','SnapNum']\n",
    "subfindid_snapnum_tree=il.sublink.loadTree(basePath, 99, 329508, fields=tree_fields, onlyMPB=True)\n",
    "subfind_id=subfindid_snapnum_tree['SubfindID']\n",
    "snapshot_num=subfindid_snapnum_tree['SnapNum']"
   ]
  },
  {
   "cell_type": "code",
   "execution_count": null,
   "metadata": {},
   "outputs": [],
   "source": [
    "def calculate_R90(Rmin, Rmax, MassRatio,Masses,Coordinates,CenterOfMass):\n",
    "    # 定义精度和最大迭代次数\n",
    "    precision = 1\n",
    "    max_iter = 1000\n",
    "    \n",
    "    # 初始化左右边界\n",
    "    left, right = Rmin, Rmax\n",
    "    \n",
    "    # 迭代计算R_90\n",
    "    for i in range(max_iter):\n",
    "        # 计算中间点\n",
    "        mid = (left + right) / 2\n",
    "        \n",
    "        # 计算该点的质量占比\n",
    "        ratio =  mass_ratio_within_radius(mid, Masses, Coordinates, CenterOfMass)\n",
    "        \n",
    "        # 如果质量占比小于90%，则将左边界更新为mid\n",
    "        if ratio < 0.9:\n",
    "            left = mid\n",
    "        # 否则将右边界更新为mid\n",
    "        else:\n",
    "            right = mid\n",
    "        \n",
    "        # 如果当前的区间长度小于给定的精度，或者达到最大迭代次数，就停止迭代\n",
    "        if abs(right - left) < precision or i == max_iter - 1:\n",
    "            R90 = (left + right) / 2\n",
    "            break\n",
    "    \n",
    "    return R90\n",
    "\n",
    "def mass_ratio_within_radius(Radius, Masses, Coordinates, CenterOfMass):\n",
    "    # 计算每个恒星到质心的距离\n",
    "    dist_to_com = np.sqrt(np.sum((Coordinates - CenterOfMass)**2, axis=1))\n",
    "    \n",
    "    # 找到距离质心小于R_200的所有恒星的下标\n",
    "    within_radius_idx = np.where(dist_to_com <= Radius)[0]\n",
    "    \n",
    "    # 计算在R_200范围内的恒星总质量\n",
    "    total_mass_within_radius = np.sum(Masses[within_radius_idx])\n",
    "    \n",
    "    # 计算星系总质量\n",
    "    total_mass = np.sum(Masses)\n",
    "    \n",
    "    # 计算质量比值\n",
    "    mass_ratio = total_mass_within_radius / total_mass\n",
    "    \n",
    "    return mass_ratio\n",
    "\n",
    "def Binary_DataIter(Data_Set1,Data_Set2):\n",
    "    for i in range(0,min(len(Data_Set1),len(Data_Set2))):\n",
    "        yield Data_Set1[i],Data_Set2[i]"
   ]
  },
  {
   "cell_type": "code",
   "execution_count": null,
   "metadata": {},
   "outputs": [],
   "source": [
    "R_90/R_Crit"
   ]
  },
  {
   "cell_type": "code",
   "execution_count": null,
   "metadata": {},
   "outputs": [],
   "source": [
    "stars_R_virial_ratio_list=[]\n",
    "snaps_list=[]"
   ]
  },
  {
   "cell_type": "code",
   "execution_count": null,
   "metadata": {},
   "outputs": [],
   "source": [
    "for current_subfind_id,current_snapshot_num in Binary_DataIter(subfind_id,snapshot_num):\n",
    "    if current_snapshot_num not in full_snaps: continue\n",
    "    if current_snapshot_num < 30: break\n",
    "    \n",
    "    gas_subset_fields=['Coordinates','Masses','NeutralHydrogenAbundance']\n",
    "    subhalos_fields=['SubhaloCM']\n",
    "    \n",
    "    gas_data=il.snapshot.loadSubhalo(basePath,current_snapshot_num,current_subfind_id,'gas',fields=gas_subset_fields)\n",
    "    center_mass=il.groupcat.loadSubhalos(basePath,current_snapshot_num, fields=subhalos_fields)[current_subfind_id]\n",
    "    halo_id=il.groupcat.loadSubhalos(basePath,current_snapshot_num, fields=['SubhaloGrNr'])[current_subfind_id]\n",
    "    \n",
    "    gas_mass=gas_data['Masses']\n",
    "    gas_HI_abundance=gas_data['NeutralHydrogenAbundance']\n",
    "    gas_HI_mass=gas_mass*gas_HI_abundance\n",
    "    gas_coordiantes=gas_data['Coordinates']\n",
    "    \n",
    "    halos_fields=['Group_R_Crit200','Group_R_Mean200']\n",
    "    radius=il.groupcat.loadHalos(basePath, current_snapshot_num, fields=halos_fields)\n",
    "    R_Crit=radius['Group_R_Crit200'][halo_id]\n",
    "    R_Mean=radius['Group_R_Mean200'][halo_id]\n",
    "    \n",
    "    R_90=calculate_R90(0,R_Mean,mass_ratio_within_radius,gas_HI_mass,gas_coordiantes,center_mass)\n",
    "    Virial_ratio=R_90/R_Crit\n",
    "    print(Virial_ratio)\n",
    "    \n",
    "    R_virial_ratio_list.append(Virial_ratio)\n",
    "    snaps_list.append(current_snapshot_num)"
   ]
  },
  {
   "cell_type": "code",
   "execution_count": null,
   "metadata": {},
   "outputs": [],
   "source": [
    "R_virial_ratio_array=np.array(R_virial_ratio_list)\n",
    "snaps_array=np.array(snaps_list)"
   ]
  },
  {
   "cell_type": "code",
   "execution_count": null,
   "metadata": {},
   "outputs": [],
   "source": [
    "plt.plot(snaps_array,R_virial_ratio_array)\n",
    "new_x = [2,1.5,1,0.7,0.5,0.4,0.3,0.2,0.1,0]\n",
    "plt.xticks(snaps_array, new_x)\n",
    "plt.show()"
   ]
  },
  {
   "cell_type": "code",
   "execution_count": null,
   "metadata": {},
   "outputs": [],
   "source": [
    "stars_R_virial_ratio_list=[]\n",
    "snaps_list=[]\n",
    "for current_subfind_id,current_snapshot_num in Binary_DataIter(subfind_id,snapshot_num):\n",
    "    #if current_snapshot_num in missing_data_snaps: continue\n",
    "    if current_snapshot_num not in full_snaps: continue\n",
    "    if current_snapshot_num < 30: break\n",
    "    \n",
    "    stars_subset_fields=['Coordinates','Masses']\n",
    "    subhalos_fields=['SubhaloCM']\n",
    "    \n",
    "    stars_data=il.snapshot.loadSubhalo(basePath,current_snapshot_num,current_subfind_id,'stars',fields=stars_subset_fields)\n",
    "    center_mass=il.groupcat.loadSubhalos(basePath,current_snapshot_num, fields=subhalos_fields)[current_subfind_id]\n",
    "    halo_id=il.groupcat.loadSubhalos(basePath,current_snapshot_num, fields=['SubhaloGrNr'])[current_subfind_id]\n",
    "    \n",
    "    stars_mass=gas_data['Masses']\n",
    "    stars_coordiantes=gas_data['Coordinates']\n",
    "    \n",
    "    halos_fields=['Group_R_Crit200','Group_R_Mean200']\n",
    "    radius=il.groupcat.loadHalos(basePath, current_snapshot_num, fields=halos_fields)\n",
    "    R_Crit=radius['Group_R_Crit200'][halo_id]\n",
    "    R_Mean=radius['Group_R_Mean200'][halo_id]\n",
    "    \n",
    "    R_90=calculate_R90(0,R_Mean,mass_ratio_within_radius,stars_mass,stars_coordiantes,center_mass)\n",
    "    Virial_ratio=R_90/R_Crit\n",
    "    print(Virial_ratio)\n",
    "    \n",
    "    stars_R_virial_ratio_list.append(Virial_ratio)\n",
    "    snaps_list.append(current_snapshot_num)"
   ]
  },
  {
   "cell_type": "code",
   "execution_count": null,
   "metadata": {},
   "outputs": [],
   "source": [
    "stars_R_virial_ratio_array=np.array(stars_R_virial_ratio_list)\n",
    "snaps_array=np.array(snaps_list)\n",
    "plt.plot(snaps_array,stars_R_virial_ratio_array)"
   ]
  },
  {
   "cell_type": "code",
   "execution_count": null,
   "metadata": {},
   "outputs": [],
   "source": [
    "R_virial_ratio_array=np.array([1.64081724107,\n",
    "1.53052903296,\n",
    "1.42584120527,\n",
    "1.35851458861,\n",
    "1.29856381891,\n",
    "1.22872999012,\n",
    "1.18612066942,\n",
    "1.11899748304,\n",
    "1.07291643638,\n",
    "0.659726475015]).T\n",
    "snaps_array=np.array(full_snaps)\n",
    "snaps_array=np.flipud(snaps_array)\n",
    "\n",
    "plt.plot(snaps_array,R_virial_ratio_array)\n",
    "new_x = [2,1.5,1,0.7,0.5,0.4,0.3,0.2,0.1,0]\n",
    "new_x=np.flipud(np.array(new_x))\n",
    "plt.xticks(snaps_array, new_x)\n",
    "plt.show()"
   ]
  },
  {
   "cell_type": "code",
   "execution_count": null,
   "metadata": {},
   "outputs": [],
   "source": [
    "R_virial_ratio_array"
   ]
  },
  {
   "cell_type": "code",
   "execution_count": null,
   "metadata": {},
   "outputs": [],
   "source": [
    "snaps_array"
   ]
  },
  {
   "cell_type": "code",
   "execution_count": null,
   "metadata": {},
   "outputs": [],
   "source": []
  }
 ],
 "metadata": {
  "kernelspec": {
   "display_name": "Python 3",
   "language": "python",
   "name": "python3"
  },
  "language_info": {
   "codemirror_mode": {
    "name": "ipython",
    "version": 3
   },
   "file_extension": ".py",
   "mimetype": "text/x-python",
   "name": "python",
   "nbconvert_exporter": "python",
   "pygments_lexer": "ipython3",
   "version": "3.6.7"
  }
 },
 "nbformat": 4,
 "nbformat_minor": 2
}
