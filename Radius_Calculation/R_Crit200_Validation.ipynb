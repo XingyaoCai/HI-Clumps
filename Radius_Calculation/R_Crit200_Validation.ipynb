{
 "cells": [
  {
   "cell_type": "markdown",
   "metadata": {},
   "source": [
    "This file uses the halo Critical_R_200 to validate the algorithm designed by us."
   ]
  },
  {
   "cell_type": "code",
   "execution_count": 1,
   "metadata": {},
   "outputs": [],
   "source": [
    "import illustris_python as il\n",
    "import numpy as np\n",
    "import matplotlib.pyplot as plt\n",
    "import matplotlib as mpl\n",
    "import FunctionLib\n",
    "#%matplotlib widget\n",
    "basePath ='./sims.TNG/TNG50-1/output'\n",
    "from tqdm import tqdm\n",
    "import gc\n",
    "import os\n"
   ]
  },
  {
   "cell_type": "code",
   "execution_count": 2,
   "metadata": {},
   "outputs": [],
   "source": [
    "m_dm=4.5E-5  #E10M_Sum\n",
    "h=0.6774  #km/Mpc\n",
    "Critial_Density=1.27E-8  #E10M_Sum/kpc^3\n",
    "Critial_Density_h=Critial_Density/h**2  #E10M_Sum/(kpc/h)^3\n"
   ]
  },
  {
   "cell_type": "code",
   "execution_count": 3,
   "metadata": {},
   "outputs": [],
   "source": [
    "gas_fields=['Coordinates','Masses','Velocities']\n",
    "dm_fields=['Coordinates','Velocities']\n",
    "stars_fields=['Coordinates','Masses','Velocities']\n",
    "bh_fields=['Coordinates','Masses','Velocities']\n",
    "\n",
    "halo_fields=['GroupPos','Group_M_Crit200','Group_R_Crit200','GroupMass']\n"
   ]
  },
  {
   "cell_type": "code",
   "execution_count": 10,
   "metadata": {},
   "outputs": [],
   "source": [
    "def Cal_M_200_From_R_200(R_200,Comoving_Critial_Density):\n",
    "\n",
    "    M_200=200*Comoving_Critial_Density*4/3*3.14*R_200**3\n",
    "    return M_200\n",
    "\n",
    "def R_200_Calculation(snapshot_num,halos_data,halo_id,Comoving_Critial_Density):\n",
    "\n",
    "    subhalo_comoving_position=halos_data['GroupPos'][halo_id]\n",
    "    subhalo_mass=halos_data['GroupMass'][halo_id]\n",
    "\n",
    "    gas_data_tensor=il.snapshot.loadHalo(basePath,snapshot_num,halo_id,0,fields=gas_fields)\n",
    "    dm_data_tensor=il.snapshot.loadHalo(basePath,snapshot_num,halo_id,1,fields=dm_fields)\n",
    "    stars_data_tensor=il.snapshot.loadHalo(basePath,snapshot_num,halo_id,4,fields=stars_fields)\n",
    "    bh_data_tensor=il.snapshot.loadHalo(basePath,snapshot_num,halo_id,5,fields=bh_fields)\n",
    "\n",
    "\n",
    "    precision = 0.1\n",
    "    max_iter = 100\n",
    "    left, right = 0, 1000\n",
    "\n",
    "    for i in range(max_iter):\n",
    "\n",
    "        mid = (left + right) / 2\n",
    "\n",
    "        mass_in=total_mass_in_radius(gas_data_tensor,dm_data_tensor,stars_data_tensor,bh_data_tensor,subhalo_comoving_position,mid)\n",
    "\n",
    "        density=3*mass_in/(4*3.14*mid**3)\n",
    "\n",
    "        if density > 200*Comoving_Critial_Density:\n",
    "            left = mid\n",
    "\n",
    "        else:\n",
    "            right = mid\n",
    "\n",
    "\n",
    "        if abs(right - left) < precision or i == max_iter - 1:\n",
    "            R_200 = (left + right) / 2\n",
    "            break\n",
    "\n",
    "    M_200=Cal_M_200_From_R_200(R_200,comoving_critial_density)\n",
    "\n",
    "    return R_200,M_200,mass_in\n",
    "\n",
    "def baryon_mass_in_radius(Center,Radius,Coordinates,Masses):\n",
    "    dist_to_com = np.sqrt(np.sum((Coordinates - Center)**2, axis=1))\n",
    "    within_radius_idx = np.where(dist_to_com <= Radius)[0]\n",
    "    total_mass_within_radius = np.sum(Masses[within_radius_idx])\n",
    "    return total_mass_within_radius\n",
    "\n",
    "def dm_mass_in_radius(Center,Radius,Coordinates):\n",
    "    dist_to_com = np.sqrt(np.sum((Coordinates - Center)**2, axis=1))\n",
    "    within_radius_idx = np.where(dist_to_com <= Radius)[0]\n",
    "    total_mass_within_radius = m_dm*within_radius_idx.shape[0]*h\n",
    "    return total_mass_within_radius\n",
    "\n",
    "def total_mass_in_radius(gas_data_tensor,dm_data_tensor,stars_data_tensor,bh_data_tensor,Center,Radius):\n",
    "\n",
    "    gas_mass_in=baryon_mass_in_radius(Center,Radius,gas_data_tensor['Coordinates'],gas_data_tensor['Masses'])\n",
    "    dm_mass_in=dm_mass_in_radius(Center,Radius,dm_data_tensor['Coordinates'])\n",
    "    stars_mass_in=baryon_mass_in_radius(Center,Radius,stars_data_tensor['Coordinates'],stars_data_tensor['Masses'])\n",
    "    bh_mass_in=baryon_mass_in_radius(Center,Radius,bh_data_tensor['Coordinates'],bh_data_tensor['Masses'])\n",
    "\n",
    "    total_mass_in=gas_mass_in+dm_mass_in+stars_mass_in+bh_mass_in\n",
    "\n",
    "    return total_mass_in\n"
   ]
  },
  {
   "cell_type": "code",
   "execution_count": 11,
   "metadata": {},
   "outputs": [
    {
     "name": "stdout",
     "output_type": "stream",
     "text": [
      "406.768798828125 398.529 751.882525222 751.933846602 794.893\n",
      "352.813720703125 345.481 490.618015004 490.625578726 517.763\n",
      "412.139892578125 402.354 782.061763711 782.014265156 817.978\n",
      "343.719482421875 335.208 453.648563293 453.649729613 473.001\n",
      "377.044677734375 366.791 598.805163593 598.717650506 619.697\n",
      "343.536376953125 335.473 452.923949522 452.960500887 474.095\n",
      "328.826904296875 320.847 397.199894035 397.238601041 414.768\n",
      "328.338623046875 320.023 395.43309143 395.467880032 411.561\n",
      "340.484619140625 332.715 440.960396806 441.013367912 462.505\n",
      "341.705322265625 335.188 445.720205511 445.718109828 472.912\n",
      " \n"
     ]
    },
    {
     "ename": "KeyboardInterrupt",
     "evalue": "",
     "output_type": "error",
     "traceback": [
      "\u001b[0;31m---------------------------------------------------------------------------\u001b[0m",
      "\u001b[0;31mKeyboardInterrupt\u001b[0m                         Traceback (most recent call last)",
      "\u001b[0;32m<ipython-input-11-a6ff38d19f4b>\u001b[0m in \u001b[0;36m<module>\u001b[0;34m\u001b[0m\n\u001b[1;32m      1\u001b[0m \u001b[0;32mfor\u001b[0m \u001b[0mi\u001b[0m \u001b[0;32min\u001b[0m \u001b[0mrange\u001b[0m\u001b[0;34m(\u001b[0m\u001b[0;36m70\u001b[0m\u001b[0;34m,\u001b[0m\u001b[0;36m80\u001b[0m\u001b[0;34m)\u001b[0m\u001b[0;34m:\u001b[0m\u001b[0;34m\u001b[0m\u001b[0;34m\u001b[0m\u001b[0m\n\u001b[0;32m----> 2\u001b[0;31m     \u001b[0mhalos_data\u001b[0m\u001b[0;34m=\u001b[0m\u001b[0mil\u001b[0m\u001b[0;34m.\u001b[0m\u001b[0mgroupcat\u001b[0m\u001b[0;34m.\u001b[0m\u001b[0mloadHalos\u001b[0m\u001b[0;34m(\u001b[0m\u001b[0mbasePath\u001b[0m\u001b[0;34m,\u001b[0m\u001b[0mi\u001b[0m\u001b[0;34m,\u001b[0m\u001b[0mfields\u001b[0m\u001b[0;34m=\u001b[0m\u001b[0mhalo_fields\u001b[0m\u001b[0;34m)\u001b[0m\u001b[0;34m\u001b[0m\u001b[0;34m\u001b[0m\u001b[0m\n\u001b[0m\u001b[1;32m      3\u001b[0m     \u001b[0mheader\u001b[0m\u001b[0;34m=\u001b[0m\u001b[0mil\u001b[0m\u001b[0;34m.\u001b[0m\u001b[0mgroupcat\u001b[0m\u001b[0;34m.\u001b[0m\u001b[0mloadHeader\u001b[0m\u001b[0;34m(\u001b[0m\u001b[0mbasePath\u001b[0m\u001b[0;34m,\u001b[0m \u001b[0mi\u001b[0m\u001b[0;34m)\u001b[0m\u001b[0;34m\u001b[0m\u001b[0;34m\u001b[0m\u001b[0m\n\u001b[1;32m      4\u001b[0m \u001b[0;34m\u001b[0m\u001b[0m\n\u001b[1;32m      5\u001b[0m     \u001b[0mscale_factor\u001b[0m\u001b[0;34m=\u001b[0m\u001b[0mheader\u001b[0m\u001b[0;34m[\u001b[0m\u001b[0;34m'Time'\u001b[0m\u001b[0;34m]\u001b[0m\u001b[0;34m\u001b[0m\u001b[0;34m\u001b[0m\u001b[0m\n",
      "\u001b[0;32m~/illustris_python/groupcat.py\u001b[0m in \u001b[0;36mloadHalos\u001b[0;34m(basePath, snapNum, fields)\u001b[0m\n\u001b[1;32m    105\u001b[0m        (optionally restrict to a subset given by fields). \"\"\"\n\u001b[1;32m    106\u001b[0m \u001b[0;34m\u001b[0m\u001b[0m\n\u001b[0;32m--> 107\u001b[0;31m     \u001b[0;32mreturn\u001b[0m \u001b[0mloadObjects\u001b[0m\u001b[0;34m(\u001b[0m\u001b[0mbasePath\u001b[0m\u001b[0;34m,\u001b[0m \u001b[0msnapNum\u001b[0m\u001b[0;34m,\u001b[0m \u001b[0;34m\"Group\"\u001b[0m\u001b[0;34m,\u001b[0m \u001b[0;34m\"groups\"\u001b[0m\u001b[0;34m,\u001b[0m \u001b[0mfields\u001b[0m\u001b[0;34m)\u001b[0m\u001b[0;34m\u001b[0m\u001b[0;34m\u001b[0m\u001b[0m\n\u001b[0m\u001b[1;32m    108\u001b[0m \u001b[0;34m\u001b[0m\u001b[0m\n\u001b[1;32m    109\u001b[0m \u001b[0;34m\u001b[0m\u001b[0m\n",
      "\u001b[0;32m~/illustris_python/groupcat.py\u001b[0m in \u001b[0;36mloadObjects\u001b[0;34m(basePath, snapNum, gName, nName, fields)\u001b[0m\n\u001b[1;32m     65\u001b[0m \u001b[0;34m\u001b[0m\u001b[0m\n\u001b[1;32m     66\u001b[0m     \u001b[0;32mfor\u001b[0m \u001b[0mi\u001b[0m \u001b[0;32min\u001b[0m \u001b[0mrange\u001b[0m\u001b[0;34m(\u001b[0m\u001b[0mheader\u001b[0m\u001b[0;34m[\u001b[0m\u001b[0;34m'NumFiles'\u001b[0m\u001b[0;34m]\u001b[0m\u001b[0;34m)\u001b[0m\u001b[0;34m:\u001b[0m\u001b[0;34m\u001b[0m\u001b[0;34m\u001b[0m\u001b[0m\n\u001b[0;32m---> 67\u001b[0;31m         \u001b[0mf\u001b[0m \u001b[0;34m=\u001b[0m \u001b[0mh5py\u001b[0m\u001b[0;34m.\u001b[0m\u001b[0mFile\u001b[0m\u001b[0;34m(\u001b[0m\u001b[0mgcPath\u001b[0m\u001b[0;34m(\u001b[0m\u001b[0mbasePath\u001b[0m\u001b[0;34m,\u001b[0m \u001b[0msnapNum\u001b[0m\u001b[0;34m,\u001b[0m \u001b[0mi\u001b[0m\u001b[0;34m)\u001b[0m\u001b[0;34m,\u001b[0m \u001b[0;34m'r'\u001b[0m\u001b[0;34m)\u001b[0m\u001b[0;34m\u001b[0m\u001b[0;34m\u001b[0m\u001b[0m\n\u001b[0m\u001b[1;32m     68\u001b[0m \u001b[0;34m\u001b[0m\u001b[0m\n\u001b[1;32m     69\u001b[0m         \u001b[0;32mif\u001b[0m \u001b[0;32mnot\u001b[0m \u001b[0mf\u001b[0m\u001b[0;34m[\u001b[0m\u001b[0;34m'Header'\u001b[0m\u001b[0;34m]\u001b[0m\u001b[0;34m.\u001b[0m\u001b[0mattrs\u001b[0m\u001b[0;34m[\u001b[0m\u001b[0;34m'N'\u001b[0m\u001b[0;34m+\u001b[0m\u001b[0mnName\u001b[0m\u001b[0;34m+\u001b[0m\u001b[0;34m'_ThisFile'\u001b[0m\u001b[0;34m]\u001b[0m\u001b[0;34m:\u001b[0m\u001b[0;34m\u001b[0m\u001b[0;34m\u001b[0m\u001b[0m\n",
      "\u001b[0;32m/opt/conda/lib/python3.6/site-packages/h5py/_hl/files.py\u001b[0m in \u001b[0;36m__init__\u001b[0;34m(self, name, mode, driver, libver, userblock_size, swmr, **kwds)\u001b[0m\n\u001b[1;32m    267\u001b[0m             \u001b[0;32mwith\u001b[0m \u001b[0mphil\u001b[0m\u001b[0;34m:\u001b[0m\u001b[0;34m\u001b[0m\u001b[0;34m\u001b[0m\u001b[0m\n\u001b[1;32m    268\u001b[0m                 \u001b[0mfapl\u001b[0m \u001b[0;34m=\u001b[0m \u001b[0mmake_fapl\u001b[0m\u001b[0;34m(\u001b[0m\u001b[0mdriver\u001b[0m\u001b[0;34m,\u001b[0m \u001b[0mlibver\u001b[0m\u001b[0;34m,\u001b[0m \u001b[0;34m**\u001b[0m\u001b[0mkwds\u001b[0m\u001b[0;34m)\u001b[0m\u001b[0;34m\u001b[0m\u001b[0;34m\u001b[0m\u001b[0m\n\u001b[0;32m--> 269\u001b[0;31m                 \u001b[0mfid\u001b[0m \u001b[0;34m=\u001b[0m \u001b[0mmake_fid\u001b[0m\u001b[0;34m(\u001b[0m\u001b[0mname\u001b[0m\u001b[0;34m,\u001b[0m \u001b[0mmode\u001b[0m\u001b[0;34m,\u001b[0m \u001b[0muserblock_size\u001b[0m\u001b[0;34m,\u001b[0m \u001b[0mfapl\u001b[0m\u001b[0;34m,\u001b[0m \u001b[0mswmr\u001b[0m\u001b[0;34m=\u001b[0m\u001b[0mswmr\u001b[0m\u001b[0;34m)\u001b[0m\u001b[0;34m\u001b[0m\u001b[0;34m\u001b[0m\u001b[0m\n\u001b[0m\u001b[1;32m    270\u001b[0m \u001b[0;34m\u001b[0m\u001b[0m\n\u001b[1;32m    271\u001b[0m                 \u001b[0;32mif\u001b[0m \u001b[0mswmr_support\u001b[0m\u001b[0;34m:\u001b[0m\u001b[0;34m\u001b[0m\u001b[0;34m\u001b[0m\u001b[0m\n",
      "\u001b[0;32m/opt/conda/lib/python3.6/site-packages/h5py/_hl/files.py\u001b[0m in \u001b[0;36mmake_fid\u001b[0;34m(name, mode, userblock_size, fapl, fcpl, swmr)\u001b[0m\n\u001b[1;32m     97\u001b[0m         \u001b[0;32mif\u001b[0m \u001b[0mswmr\u001b[0m \u001b[0;32mand\u001b[0m \u001b[0mswmr_support\u001b[0m\u001b[0;34m:\u001b[0m\u001b[0;34m\u001b[0m\u001b[0;34m\u001b[0m\u001b[0m\n\u001b[1;32m     98\u001b[0m             \u001b[0mflags\u001b[0m \u001b[0;34m|=\u001b[0m \u001b[0mh5f\u001b[0m\u001b[0;34m.\u001b[0m\u001b[0mACC_SWMR_READ\u001b[0m\u001b[0;34m\u001b[0m\u001b[0;34m\u001b[0m\u001b[0m\n\u001b[0;32m---> 99\u001b[0;31m         \u001b[0mfid\u001b[0m \u001b[0;34m=\u001b[0m \u001b[0mh5f\u001b[0m\u001b[0;34m.\u001b[0m\u001b[0mopen\u001b[0m\u001b[0;34m(\u001b[0m\u001b[0mname\u001b[0m\u001b[0;34m,\u001b[0m \u001b[0mflags\u001b[0m\u001b[0;34m,\u001b[0m \u001b[0mfapl\u001b[0m\u001b[0;34m=\u001b[0m\u001b[0mfapl\u001b[0m\u001b[0;34m)\u001b[0m\u001b[0;34m\u001b[0m\u001b[0;34m\u001b[0m\u001b[0m\n\u001b[0m\u001b[1;32m    100\u001b[0m     \u001b[0;32melif\u001b[0m \u001b[0mmode\u001b[0m \u001b[0;34m==\u001b[0m \u001b[0;34m'r+'\u001b[0m\u001b[0;34m:\u001b[0m\u001b[0;34m\u001b[0m\u001b[0;34m\u001b[0m\u001b[0m\n\u001b[1;32m    101\u001b[0m         \u001b[0mfid\u001b[0m \u001b[0;34m=\u001b[0m \u001b[0mh5f\u001b[0m\u001b[0;34m.\u001b[0m\u001b[0mopen\u001b[0m\u001b[0;34m(\u001b[0m\u001b[0mname\u001b[0m\u001b[0;34m,\u001b[0m \u001b[0mh5f\u001b[0m\u001b[0;34m.\u001b[0m\u001b[0mACC_RDWR\u001b[0m\u001b[0;34m,\u001b[0m \u001b[0mfapl\u001b[0m\u001b[0;34m=\u001b[0m\u001b[0mfapl\u001b[0m\u001b[0;34m)\u001b[0m\u001b[0;34m\u001b[0m\u001b[0;34m\u001b[0m\u001b[0m\n",
      "\u001b[0;32mh5py/_objects.pyx\u001b[0m in \u001b[0;36mh5py._objects.with_phil.wrapper\u001b[0;34m()\u001b[0m\n",
      "\u001b[0;32mh5py/_objects.pyx\u001b[0m in \u001b[0;36mh5py._objects.with_phil.wrapper\u001b[0;34m()\u001b[0m\n",
      "\u001b[0;32mh5py/h5f.pyx\u001b[0m in \u001b[0;36mh5py.h5f.open\u001b[0;34m()\u001b[0m\n",
      "\u001b[0;32mh5py/h5g.pyx\u001b[0m in \u001b[0;36mh5py.h5g.GroupID.__init__\u001b[0;34m()\u001b[0m\n",
      "\u001b[0;32mh5py/h5g.pyx\u001b[0m in \u001b[0;36mh5py.h5g.GroupID.__init__\u001b[0;34m()\u001b[0m\n",
      "\u001b[0;32m/opt/conda/lib/python3.6/importlib/_bootstrap.py\u001b[0m in \u001b[0;36mparent\u001b[0;34m(self)\u001b[0m\n",
      "\u001b[0;31mKeyboardInterrupt\u001b[0m: "
     ]
    }
   ],
   "source": [
    "for i in range(70,80):\n",
    "    halos_data=il.groupcat.loadHalos(basePath,i,fields=halo_fields)\n",
    "    header=il.groupcat.loadHeader(basePath, i)\n",
    "\n",
    "    scale_factor=header['Time']\n",
    "    comoving_critial_density=Critial_Density_h*(scale_factor**2)\n",
    "    for j in range(20,30):\n",
    "        R_200,M_200,m_200=R_200_Calculation(i,halos_data,j,comoving_critial_density)\n",
    "        print(R_200,halos_data['Group_R_Crit200'][j],end=' ')\n",
    "        print(M_200,m_200,halos_data['Group_M_Crit200'][j])\n",
    "    print(' ')\n"
   ]
  },
  {
   "cell_type": "code",
   "execution_count": 12,
   "metadata": {},
   "outputs": [],
   "source": [
    "def Velocity_Virial_Calculation(R_200,M_200,Critial_Density):\n",
    "    Unit=4.3E4\n",
    "    V=np.sqrt(G*R_200/M_200*Unit)\n",
    "\n"
   ]
  },
  {
   "cell_type": "code",
   "execution_count": null,
   "metadata": {},
   "outputs": [],
   "source": []
  }
 ],
 "metadata": {
  "kernelspec": {
   "display_name": "Python 3",
   "language": "python",
   "name": "python3"
  },
  "language_info": {
   "codemirror_mode": {
    "name": "ipython",
    "version": 3
   },
   "file_extension": ".py",
   "mimetype": "text/x-python",
   "name": "python",
   "nbconvert_exporter": "python",
   "pygments_lexer": "ipython3",
   "version": "3.6.7"
  }
 },
 "nbformat": 4,
 "nbformat_minor": 2
}
