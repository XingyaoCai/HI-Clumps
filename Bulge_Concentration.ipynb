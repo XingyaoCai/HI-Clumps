{
 "cells": [
  {
   "cell_type": "code",
   "execution_count": 1,
   "metadata": {},
   "outputs": [],
   "source": [
    "import illustris_python as il\n",
    "import numpy as np\n",
    "import matplotlib.pyplot as plt\n",
    "import matplotlib as mpl\n",
    "\n",
    "# %matplotlib widget\n",
    "basePath = \"./sims.TNG/TNG50-1/output\"\n",
    "from tqdm import tqdm\n",
    "import gc\n",
    "import os\n",
    "\n",
    "Snapshot_Init = 71\n",
    "Snapshot_End = 99\n",
    "Lbsg_Indcies_Array = np.array(\n",
    "    [117251, 300903, 324123, 329508, 382215, 400973, 419618, 457431, 460722, 490814]\n",
    ")\n",
    "\n",
    "h = 0.6774  # km/Mpc\n",
    "\n",
    "m_dm = 4.5e-5  # E10M_Sum\n",
    "m_dm_h = m_dm * h\n",
    "\n",
    "Critial_Density = 1.27e-8  # E10M_Sum/kpc^3\n",
    "Critial_Density_h = Critial_Density / h**2  # E10M_Sum/(kpc/h)^3\n"
   ]
  },
  {
   "cell_type": "code",
   "execution_count": 2,
   "metadata": {},
   "outputs": [],
   "source": [
    "def baryon_mass_in_radius(Center,Radius,Coordinates,Masses):\n",
    "    dist_to_com = np.sqrt(np.sum((Coordinates - Center)**2, axis=1))\n",
    "    within_radius_idx = np.where(dist_to_com <= Radius)[0]\n",
    "    total_mass_within_radius = np.sum(Masses[within_radius_idx])\n",
    "    return total_mass_within_radius\n"
   ]
  },
  {
   "cell_type": "code",
   "execution_count": 3,
   "metadata": {},
   "outputs": [],
   "source": [
    "Current_Snapshot=99\n",
    "Subhalo_Index=329508\n",
    "partType4_Fields=['Coordinates','Masses']\n",
    "partType4_dict=il.snapshot.loadSubhalo(basePath,Current_Snapshot,Subhalo_Index,4,partType4_Fields)\n",
    "subhalo_dict=il.groupcat.loadSingle(basePath,Current_Snapshot,-1,Subhalo_Index)\n"
   ]
  },
  {
   "cell_type": "code",
   "execution_count": 16,
   "metadata": {},
   "outputs": [
    {
     "name": "stderr",
     "output_type": "stream",
     "text": [
      "100%|██████████| 100/100 [00:41<00:00,  2.42it/s]\n"
     ]
    }
   ],
   "source": [
    "radius_indices= np.logspace(-3, 3, num=100)\n",
    "\n",
    "mass_in_radius=[baryon_mass_in_radius(subhalo_dict['SubhaloPos'],radius,partType4_dict['Coordinates'],partType4_dict['Masses']) for radius in tqdm(radius_indices)]\n"
   ]
  },
  {
   "cell_type": "code",
   "execution_count": 12,
   "metadata": {},
   "outputs": [
    {
     "data": {
      "text/plain": [
       "5.77753"
      ]
     },
     "execution_count": 12,
     "metadata": {},
     "output_type": "execute_result"
    }
   ],
   "source": [
    "baryon_mass_in_radius(subhalo_dict['SubhaloPos'],1,partType4_dict['Coordinates'],partType4_dict['Masses'])\n"
   ]
  },
  {
   "cell_type": "code",
   "execution_count": 7,
   "metadata": {},
   "outputs": [
    {
     "data": {
      "text/plain": [
       "array([5.2369648e+01, 6.9040765e+02, 0.0000000e+00, 0.0000000e+00,\n",
       "       3.2725979e+01, 6.1897065e-02], dtype=float32)"
      ]
     },
     "execution_count": 7,
     "metadata": {},
     "output_type": "execute_result"
    }
   ],
   "source": [
    "subhalo_dict['SubhaloMassType']\n"
   ]
  },
  {
   "cell_type": "code",
   "execution_count": null,
   "metadata": {},
   "outputs": [],
   "source": []
  },
  {
   "cell_type": "code",
   "execution_count": 31,
   "metadata": {},
   "outputs": [
    {
     "data": {
      "text/plain": [
       "Text(0.5, 1.0, 'Stars mass Fraction')"
      ]
     },
     "execution_count": 31,
     "metadata": {},
     "output_type": "execute_result"
    },
    {
     "name": "stderr",
     "output_type": "stream",
     "text": [
      "findfont: Generic family 'serif' not found because none of the following families were found: SimSun\n",
      "findfont: Generic family 'serif' not found because none of the following families were found: SimSun\n",
      "findfont: Generic family 'serif' not found because none of the following families were found: SimSun\n",
      "findfont: Generic family 'serif' not found because none of the following families were found: SimSun\n",
      "findfont: Generic family 'serif' not found because none of the following families were found: SimSun\n",
      "findfont: Generic family 'serif' not found because none of the following families were found: SimSun\n"
     ]
    }
   ],
   "source": [
    "plt.figure(figsize=(8,6),dpi=500)\n",
    "plt.plot(radius_indices,mass_in_radius/subhalo_dict['SubhaloMassType'][4])\n",
    "plt.xlabel(r'r [kpc/h]',usetex=True)\n",
    "plt.ylabel('Mass Fraction')\n",
    "plt.xscale('log')\n",
    "plt.yscale('log')\n",
    "plt.xticks(usetex=1)\n",
    "plt.title('Stars mass Fraction')\n"
   ]
  },
  {
   "cell_type": "code",
   "execution_count": null,
   "metadata": {},
   "outputs": [],
   "source": []
  }
 ],
 "metadata": {
  "kernelspec": {
   "display_name": "Python 3 (ipykernel)",
   "language": "python",
   "name": "python3"
  },
  "language_info": {
   "codemirror_mode": {
    "name": "ipython",
    "version": 3
   },
   "file_extension": ".py",
   "mimetype": "text/x-python",
   "name": "python",
   "nbconvert_exporter": "python",
   "pygments_lexer": "ipython3",
   "version": "3.11.4"
  }
 },
 "nbformat": 4,
 "nbformat_minor": 2
}
