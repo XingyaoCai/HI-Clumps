{
 "cells": [
  {
   "cell_type": "code",
   "execution_count": 1,
   "metadata": {},
   "outputs": [],
   "source": [
    "import illustris_python as il\n",
    "import numpy as np\n",
    "import matplotlib.pyplot as plt\n",
    "import matplotlib as mpl\n",
    "basePath ='./sims.TNG/TNG50-1/output'\n",
    "\n",
    "main_subhalo_id=329508\n",
    "main_halo_id=23\n",
    "\n",
    "missing_data_snaps=[31,32,35]\n",
    "full_snaps=[33,40,50,59,67,72,78,84,91,99]\n",
    "\n",
    "def Binary_DataIter(Data_Set1,Data_Set2):\n",
    "    for i in range(0,min(len(Data_Set1),len(Data_Set2))):\n",
    "        yield Data_Set1[i],Data_Set2[i]"
   ]
  },
  {
   "cell_type": "code",
   "execution_count": null,
   "metadata": {},
   "outputs": [],
   "source": [
    "fields=['SubfindID','SnapNum']\n",
    "subfindid_snapnum_tree=il.sublink.loadTree(basePath, 99, 329508, fields=fields, onlyMPB=True)\n",
    "subfind_id=subfindid_snapnum_tree['SubfindID']\n",
    "snapshot_num=subfindid_snapnum_tree['SnapNum']"
   ]
  },
  {
   "cell_type": "code",
   "execution_count": null,
   "metadata": {},
   "outputs": [],
   "source": [
    "def mass_ratio_within_radius(Radius, Masses, Coordinates, CenterOfMass):\n",
    "    # 计算每个恒星到质心的距离\n",
    "    dist_to_com = np.sqrt(np.sum((Coordinates - CenterOfMass)**2, axis=1))\n",
    "    \n",
    "    # 找到距离质心小于R_200的所有恒星的下标\n",
    "    within_radius_idx = np.where(dist_to_com <= Radius)[0]\n",
    "    \n",
    "    # 计算在R_200范围内的恒星总质量\n",
    "    total_mass_within_radius = np.sum(Masses[within_radius_idx])\n",
    "    \n",
    "    # 计算星系总质量\n",
    "    total_mass = np.sum(Masses)\n",
    "    \n",
    "    # 计算质量比值\n",
    "    mass_ratio = total_mass_within_radius / total_mass\n",
    "    \n",
    "    return mass_ratio\n",
    "\n",
    "\n",
    "def mass_within_radius(Radius, Masses, Coordinates, CenterOfMass):\n",
    "    # 计算每个恒星到质心的距离\n",
    "    dist_to_com = np.sqrt(np.sum((Coordinates - CenterOfMass)**2, axis=1))\n",
    "    \n",
    "    # 找到距离质心小于R_200的所有恒星的下标\n",
    "    within_radius_idx = np.where(dist_to_com <= Radius)[0]\n",
    "    \n",
    "    # 计算在R_200范围内的恒星总质量\n",
    "    total_mass_within_radius = np.sum(Masses[within_radius_idx])\n",
    "\n",
    "    return total_mass_within_radius"
   ]
  },
  {
   "cell_type": "code",
   "execution_count": null,
   "metadata": {},
   "outputs": [],
   "source": [
    "for current_subfind_id,current_snapshot_num in Binary_DataIter(subfind_id,snapshot_num):\n",
    "    if current_snapshot_num in missing_data_snaps: continue\n",
    "    if current_snapshot_num < 30: break"
   ]
  }
 ],
 "metadata": {
  "kernelspec": {
   "display_name": "Python 3",
   "language": "python",
   "name": "python3"
  },
  "language_info": {
   "codemirror_mode": {
    "name": "ipython",
    "version": 3
   },
   "file_extension": ".py",
   "mimetype": "text/x-python",
   "name": "python",
   "nbconvert_exporter": "python",
   "pygments_lexer": "ipython3",
   "version": "3.6.7"
  }
 },
 "nbformat": 4,
 "nbformat_minor": 2
}
